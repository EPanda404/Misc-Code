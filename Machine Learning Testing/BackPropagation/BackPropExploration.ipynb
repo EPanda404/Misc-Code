{
 "cells": [
  {
   "cell_type": "code",
   "execution_count": 1,
   "metadata": {},
   "outputs": [],
   "source": [
    "import math\n",
    "import numpy as np\n",
    "import matplotlib.pyplot as plt\n",
    "%matplotlib inline"
   ]
  },
  {
   "cell_type": "code",
   "execution_count": 2,
   "metadata": {},
   "outputs": [],
   "source": [
    "def f(x):\n",
    "    return 3*x** 2 - 4*x + 5"
   ]
  },
  {
   "cell_type": "code",
   "execution_count": 3,
   "metadata": {},
   "outputs": [
    {
     "data": {
      "text/plain": [
       "37.0"
      ]
     },
     "execution_count": 3,
     "metadata": {},
     "output_type": "execute_result"
    }
   ],
   "source": [
    "f(4.0)"
   ]
  },
  {
   "cell_type": "code",
   "execution_count": 4,
   "metadata": {},
   "outputs": [
    {
     "data": {
      "text/plain": [
       "[<matplotlib.lines.Line2D at 0x16c04baf9a0>]"
      ]
     },
     "execution_count": 4,
     "metadata": {},
     "output_type": "execute_result"
    },
    {
     "data": {
      "image/png": "[encoded data removed]",
      "text/plain": [
       "<Figure size 432x288 with 1 Axes>"
      ]
     },
     "metadata": {
      "needs_background": "light"
     },
     "output_type": "display_data"
    }
   ],
   "source": [
    "xs = np.arange(-5, 5, 0.25)\n",
    "ys = f(xs)\n",
    "plt.plot(xs, ys)"
   ]
  },
  {
   "cell_type": "code",
   "execution_count": 5,
   "metadata": {},
   "outputs": [
    {
     "data": {
      "text/plain": [
       "0.0"
      ]
     },
     "execution_count": 5,
     "metadata": {},
     "output_type": "execute_result"
    }
   ],
   "source": [
    "h = 0.0000000001\n",
    "x = 2/3\n",
    "(f(x+h) - f(x))/h"
   ]
  },
  {
   "cell_type": "code",
   "execution_count": 6,
   "metadata": {},
   "outputs": [
    {
     "name": "stdout",
     "output_type": "stream",
     "text": [
      "4.0\n"
     ]
    }
   ],
   "source": [
    "a = 2.0\n",
    "b = -3.0\n",
    "c = 10.0\n",
    "d = a*b + c\n",
    "print(d)"
   ]
  },
  {
   "cell_type": "code",
   "execution_count": 7,
   "metadata": {},
   "outputs": [
    {
     "name": "stdout",
     "output_type": "stream",
     "text": [
      "d1 4.0\n",
      "d2 3.999699999999999\n",
      "slope -3.000000000010772\n"
     ]
    }
   ],
   "source": [
    "h = 0.0001\n",
    "\n",
    "#inputs\n",
    "a = 2.0\n",
    "b = -3.0\n",
    "c = 10.0\n",
    "\n",
    "d1 = a*b + c\n",
    "a += h\n",
    "d2 = a*b + c\n",
    "\n",
    "print('d1',d1)\n",
    "print('d2',d2)\n",
    "print('slope', (d2-d1)/h)"
   ]
  },
  {
   "cell_type": "code",
   "execution_count": 8,
   "metadata": {},
   "outputs": [],
   "source": [
    "class Value:\n",
    "\n",
    "    def __init__(self, data, _children=(), _op='', label=''):\n",
    "        self.data = data\n",
    "        self.grad = 0.0\n",
    "        self._backward = lambda: None\n",
    "        self._prev = set(_children)\n",
    "        self._op = _op\n",
    "        self.label = label\n",
    "    \n",
    "    def __repr__(self):\n",
    "        return f\"Value(data={self.data})\"\n",
    "\n",
    "\n",
    "\n",
    "    def __add__(self,other):\n",
    "        other = other if isinstance(other, Value) else Value(other)\n",
    "        out = Value(self.data + other.data, (self, other), '+')\n",
    "\n",
    "        def _backward():\n",
    "            self.grad += 1.0 * out.grad\n",
    "            other.grad += 1.0 * out.grad\n",
    "        out._backward = _backward\n",
    "\n",
    "        return out\n",
    "\n",
    "    def __radd__(self, other):\n",
    "        return self + other\n",
    "\n",
    "\n",
    "\n",
    "    def __mul__(self,other):\n",
    "        other = other if isinstance(other, Value) else Value(other)\n",
    "        out = Value(self.data * other.data, (self, other), '*')\n",
    "\n",
    "        def _backward():\n",
    "            self.grad += other.data * out.grad\n",
    "            other.grad += self.data * out.grad\n",
    "        out._backward = _backward\n",
    "\n",
    "        return out\n",
    "\n",
    "    def __rmul__(self, other):\n",
    "        return self * other\n",
    "\n",
    "    def __truediv__(self, other):\n",
    "        return self * other ** -1\n",
    "\n",
    "    def __neg__(self):\n",
    "        return self * -1\n",
    "\n",
    "    def __sub__(self, other):\n",
    "        return self + (-other)\n",
    "\n",
    "\n",
    "\n",
    "    def __pow__(self, other):\n",
    "        assert isinstance(other, (int, float)), \"Only int/float\"\n",
    "        out = Value(self.data ** other, (self,), f'**{other}')\n",
    "\n",
    "        def _backward():\n",
    "            self.grad += other * (self.data ** (other - 1)) * out.grad\n",
    "        out._backward = _backward\n",
    "\n",
    "        return out\n",
    "\n",
    "\n",
    "\n",
    "    def exp(self):\n",
    "        x = self.data\n",
    "        out = Value(math.exp(x), (self, ), 'exp')\n",
    "\n",
    "        def _backward():\n",
    "            self.grad += out.data * out.grad\n",
    "        out._backward = _backward\n",
    "\n",
    "        return out\n",
    "\n",
    "\n",
    "\n",
    "    def tanh(self):\n",
    "        x = self.data\n",
    "        t = (math.exp(2*x) - 1)  /  (math.exp(2*x) + 1)\n",
    "        out = Value(t, (self, ), 'tanh')\n",
    "\n",
    "        def _backward():\n",
    "            self.grad += 1 - t**2 * out.grad\n",
    "        out._backward = _backward\n",
    "\n",
    "        return out\n",
    "\n",
    "\n",
    "\n",
    "    def backward(self):\n",
    "        topo = []\n",
    "        visited = set()\n",
    "        def build_topo(v):\n",
    "            if v not in visited:\n",
    "                visited.add(v)\n",
    "                for child in v._prev:\n",
    "                    build_topo(child)\n",
    "                topo.append(v)\n",
    "\n",
    "        self.grad = 1.0\n",
    "        build_topo(self)\n",
    "        for i in topo[-1::-1]:\n",
    "            i._backward()\n",
    "        "
   ]
  },
  {
   "cell_type": "code",
   "execution_count": 9,
   "metadata": {},
   "outputs": [
    {
     "data": {
      "text/plain": [
       "Value(data=0.5)"
      ]
     },
     "execution_count": 9,
     "metadata": {},
     "output_type": "execute_result"
    }
   ],
   "source": [
    "a= Value(2.0)\n",
    "b = Value(4.0)\n",
    "a/b"
   ]
  },
  {
   "cell_type": "code",
   "execution_count": 10,
   "metadata": {},
   "outputs": [
    {
     "data": {
      "text/plain": [
       "Value(data=-8.0)"
      ]
     },
     "execution_count": 10,
     "metadata": {},
     "output_type": "execute_result"
    }
   ],
   "source": [
    "a = Value(2.0, label='a')\n",
    "b = Value(-3.0, label='b')\n",
    "c = Value(10.0, label='c')\n",
    "d = a*b; d.label = 'd'\n",
    "e = d+c; e.label = 'e'\n",
    "f = Value(-2.0, label='f')\n",
    "L = e*f; L.label = 'L'\n",
    "L"
   ]
  },
  {
   "cell_type": "code",
   "execution_count": 11,
   "metadata": {},
   "outputs": [],
   "source": [
    "from graphviz import Digraph\n",
    "\n",
    "def trace(root):\n",
    "    #builds a set of all nodes and edges in a graph\n",
    "    nodes, edges = set(), set()\n",
    "    def build(v):\n",
    "        if v not in nodes:\n",
    "            nodes.add(v)\n",
    "            for child in v._prev:\n",
    "                edges.add((child, v))\n",
    "                build(child)\n",
    "    build(root)\n",
    "    return nodes, edges\n",
    "\n",
    "def draw_dot(root):\n",
    "    dot = Digraph(format='svg', graph_attr={'rankdir': 'LR'}) #LR = left to right\n",
    "\n",
    "    nodes, edges = trace(root)\n",
    "    for n in nodes:\n",
    "        uid = str(id(n))\n",
    "        #for any value in the graph, create a rectangular ('record') node for it\n",
    "        dot.node(name = uid, label = \"{ %s | data %.4f | grad %.4f }\" % (n.label, n.data, n.grad), shape = 'record')\n",
    "        if n._op:\n",
    "            #if this value is a result of some operation, create an op node for it\n",
    "            dot.node(name = uid + n._op, label = n._op)\n",
    "            #and connect this node to it\n",
    "            dot.edge(uid + n._op, uid)\n",
    "\n",
    "    for n1, n2 in edges:\n",
    "        #connect n1 to the op node of n2\n",
    "        dot.edge(str(id(n1)), str(id(n2)) + n2._op)\n",
    "\n",
    "    return dot"
   ]
  },
  {
   "cell_type": "code",
   "execution_count": 12,
   "metadata": {},
   "outputs": [],
   "source": [
    "L.grad = 1.0\n",
    "e.grad = f.data * L.grad\n",
    "f.grad = e.data * L.grad\n",
    "d.grad = e.grad * 1\n",
    "c.grad = e.grad * 1\n",
    "b.grad = d.grad * a.data\n",
    "a.grad = d.grad * b.data"
   ]
  },
  {
   "cell_type": "code",
   "execution_count": 13,
   "metadata": {},
   "outputs": [
    {
     "data": {
      "image/svg+xml": "<?xml version=\"1.0\" encoding=\"UTF-8\" standalone=\"no\"?>\n<!DOCTYPE svg PUBLIC \"-//W3C//DTD SVG 1.1//EN\"\n \"http://www.w3.org/Graphics/SVG/1.1/DTD/svg11.dtd\">\n<!-- Generated by graphviz version 7.1.0 (20230121.1956)\n -->\n<!-- Pages: 1 -->\n<svg width=\"1166pt\" height=\"128pt\"\n viewBox=\"0.00 0.00 1166.00 128.00\" xmlns=\"http://www.w3.org/2000/svg\" xmlns:xlink=\"http://www.w3.org/1999/xlink\">\n<g id=\"graph0\" class=\"graph\" transform=\"scale(1 1) rotate(0) translate(4 124)\">\n<polygon fill=\"white\" stroke=\"none\" points=\"-4,4 -4,-124 1162,-124 1162,4 -4,4\"/>\n<!-- 1563481965616 -->\n<g id=\"node1\" class=\"node\">\n<title>1563481965616</title>\n<polygon fill=\"none\" stroke=\"black\" points=\"647.5,-82.5 647.5,-118.5 837.5,-118.5 837.5,-82.5 647.5,-82.5\"/>\n<text text-anchor=\"middle\" x=\"658\" y=\"-96.8\" font-family=\"Times New Roman,serif\" font-size=\"14.00\">f</text>\n<polyline fill=\"none\" stroke=\"black\" points=\"668.5,-82.5 668.5,-118.5\"/>\n<text text-anchor=\"middle\" x=\"711.5\" y=\"-96.8\" font-family=\"Times New Roman,serif\" font-size=\"14.00\">data &#45;2.0000</text>\n<polyline fill=\"none\" stroke=\"black\" points=\"754.5,-82.5 754.5,-118.5\"/>\n<text text-anchor=\"middle\" x=\"796\" y=\"-96.8\" font-family=\"Times New Roman,serif\" font-size=\"14.00\">grad 4.0000</text>\n</g>\n<!-- 1563481257680* -->\n<g id=\"node5\" class=\"node\">\n<title>1563481257680*</title>\n<ellipse fill=\"none\" stroke=\"black\" cx=\"901\" cy=\"-72.5\" rx=\"27\" ry=\"18\"/>\n<text text-anchor=\"middle\" x=\"901\" y=\"-68.8\" font-family=\"Times New Roman,serif\" font-size=\"14.00\">*</text>\n</g>\n<!-- 1563481965616&#45;&gt;1563481257680* -->\n<g id=\"edge7\" class=\"edge\">\n<title>1563481965616&#45;&gt;1563481257680*</title>\n<path fill=\"none\" stroke=\"black\" d=\"M837.25,-83.73C846.43,-82.08 855.32,-80.49 863.38,-79.05\"/>\n<polygon fill=\"black\" stroke=\"black\" points=\"863.81,-82.53 873.04,-77.32 862.58,-75.64 863.81,-82.53\"/>\n</g>\n<!-- 1563481964608 -->\n<g id=\"node2\" class=\"node\">\n<title>1563481964608</title>\n<polygon fill=\"none\" stroke=\"black\" points=\"323.5,-55.5 323.5,-91.5 520.5,-91.5 520.5,-55.5 323.5,-55.5\"/>\n<text text-anchor=\"middle\" x=\"335.5\" y=\"-69.8\" font-family=\"Times New Roman,serif\" font-size=\"14.00\">d</text>\n<polyline fill=\"none\" stroke=\"black\" points=\"347.5,-55.5 347.5,-91.5\"/>\n<text text-anchor=\"middle\" x=\"390.5\" y=\"-69.8\" font-family=\"Times New Roman,serif\" font-size=\"14.00\">data &#45;6.0000</text>\n<polyline fill=\"none\" stroke=\"black\" points=\"433.5,-55.5 433.5,-91.5\"/>\n<text text-anchor=\"middle\" x=\"477\" y=\"-69.8\" font-family=\"Times New Roman,serif\" font-size=\"14.00\">grad &#45;2.0000</text>\n</g>\n<!-- 1563481965520+ -->\n<g id=\"node10\" class=\"node\">\n<title>1563481965520+</title>\n<ellipse fill=\"none\" stroke=\"black\" cx=\"584\" cy=\"-45.5\" rx=\"27\" ry=\"18\"/>\n<text text-anchor=\"middle\" x=\"584\" y=\"-41.8\" font-family=\"Times New Roman,serif\" font-size=\"14.00\">+</text>\n</g>\n<!-- 1563481964608&#45;&gt;1563481965520+ -->\n<g id=\"edge6\" class=\"edge\">\n<title>1563481964608&#45;&gt;1563481965520+</title>\n<path fill=\"none\" stroke=\"black\" d=\"M520.22,-56.49C529.46,-54.87 538.37,-53.31 546.43,-51.9\"/>\n<polygon fill=\"black\" stroke=\"black\" points=\"546.85,-55.38 556.09,-50.21 545.64,-48.48 546.85,-55.38\"/>\n</g>\n<!-- 1563481964608* -->\n<g id=\"node3\" class=\"node\">\n<title>1563481964608*</title>\n<ellipse fill=\"none\" stroke=\"black\" cx=\"260\" cy=\"-73.5\" rx=\"27\" ry=\"18\"/>\n<text text-anchor=\"middle\" x=\"260\" y=\"-69.8\" font-family=\"Times New Roman,serif\" font-size=\"14.00\">*</text>\n</g>\n<!-- 1563481964608*&#45;&gt;1563481964608 -->\n<g id=\"edge1\" class=\"edge\">\n<title>1563481964608*&#45;&gt;1563481964608</title>\n<path fill=\"none\" stroke=\"black\" d=\"M287.42,-73.5C294.8,-73.5 303.31,-73.5 312.39,-73.5\"/>\n<polygon fill=\"black\" stroke=\"black\" points=\"312.19,-77 322.19,-73.5 312.19,-70 312.19,-77\"/>\n</g>\n<!-- 1563481257680 -->\n<g id=\"node4\" class=\"node\">\n<title>1563481257680</title>\n<polygon fill=\"none\" stroke=\"black\" points=\"964,-54.5 964,-90.5 1158,-90.5 1158,-54.5 964,-54.5\"/>\n<text text-anchor=\"middle\" x=\"976.5\" y=\"-68.8\" font-family=\"Times New Roman,serif\" font-size=\"14.00\">L</text>\n<polyline fill=\"none\" stroke=\"black\" points=\"989,-54.5 989,-90.5\"/>\n<text text-anchor=\"middle\" x=\"1032\" y=\"-68.8\" font-family=\"Times New Roman,serif\" font-size=\"14.00\">data &#45;8.0000</text>\n<polyline fill=\"none\" stroke=\"black\" points=\"1075,-54.5 1075,-90.5\"/>\n<text text-anchor=\"middle\" x=\"1116.5\" y=\"-68.8\" font-family=\"Times New Roman,serif\" font-size=\"14.00\">grad 1.0000</text>\n</g>\n<!-- 1563481257680*&#45;&gt;1563481257680 -->\n<g id=\"edge2\" class=\"edge\">\n<title>1563481257680*&#45;&gt;1563481257680</title>\n<path fill=\"none\" stroke=\"black\" d=\"M928.45,-72.5C935.67,-72.5 943.97,-72.5 952.82,-72.5\"/>\n<polygon fill=\"black\" stroke=\"black\" points=\"952.75,-76 962.75,-72.5 952.75,-69 952.75,-76\"/>\n</g>\n<!-- 1563447458688 -->\n<g id=\"node6\" class=\"node\">\n<title>1563447458688</title>\n<polygon fill=\"none\" stroke=\"black\" points=\"0,-83.5 0,-119.5 197,-119.5 197,-83.5 0,-83.5\"/>\n<text text-anchor=\"middle\" x=\"12\" y=\"-97.8\" font-family=\"Times New Roman,serif\" font-size=\"14.00\">b</text>\n<polyline fill=\"none\" stroke=\"black\" points=\"24,-83.5 24,-119.5\"/>\n<text text-anchor=\"middle\" x=\"67\" y=\"-97.8\" font-family=\"Times New Roman,serif\" font-size=\"14.00\">data &#45;3.0000</text>\n<polyline fill=\"none\" stroke=\"black\" points=\"110,-83.5 110,-119.5\"/>\n<text text-anchor=\"middle\" x=\"153.5\" y=\"-97.8\" font-family=\"Times New Roman,serif\" font-size=\"14.00\">grad &#45;4.0000</text>\n</g>\n<!-- 1563447458688&#45;&gt;1563481964608* -->\n<g id=\"edge8\" class=\"edge\">\n<title>1563447458688&#45;&gt;1563481964608*</title>\n<path fill=\"none\" stroke=\"black\" d=\"M196.88,-84.41C205.84,-82.83 214.48,-81.32 222.33,-79.94\"/>\n<polygon fill=\"black\" stroke=\"black\" points=\"222.84,-83.4 232.08,-78.23 221.63,-76.51 222.84,-83.4\"/>\n</g>\n<!-- 1563481966480 -->\n<g id=\"node7\" class=\"node\">\n<title>1563481966480</title>\n<polygon fill=\"none\" stroke=\"black\" points=\"323,-0.5 323,-36.5 521,-36.5 521,-0.5 323,-0.5\"/>\n<text text-anchor=\"middle\" x=\"334.5\" y=\"-14.8\" font-family=\"Times New Roman,serif\" font-size=\"14.00\">c</text>\n<polyline fill=\"none\" stroke=\"black\" points=\"346,-0.5 346,-36.5\"/>\n<text text-anchor=\"middle\" x=\"390\" y=\"-14.8\" font-family=\"Times New Roman,serif\" font-size=\"14.00\">data 10.0000</text>\n<polyline fill=\"none\" stroke=\"black\" points=\"434,-0.5 434,-36.5\"/>\n<text text-anchor=\"middle\" x=\"477.5\" y=\"-14.8\" font-family=\"Times New Roman,serif\" font-size=\"14.00\">grad &#45;2.0000</text>\n</g>\n<!-- 1563481966480&#45;&gt;1563481965520+ -->\n<g id=\"edge5\" class=\"edge\">\n<title>1563481966480&#45;&gt;1563481965520+</title>\n<path fill=\"none\" stroke=\"black\" d=\"M520.68,-34.98C529.67,-36.5 538.34,-37.96 546.22,-39.29\"/>\n<polygon fill=\"black\" stroke=\"black\" points=\"545.56,-42.73 556,-40.94 546.72,-35.83 545.56,-42.73\"/>\n</g>\n<!-- 1563481966528 -->\n<g id=\"node8\" class=\"node\">\n<title>1563481966528</title>\n<polygon fill=\"none\" stroke=\"black\" points=\"5,-28.5 5,-64.5 192,-64.5 192,-28.5 5,-28.5\"/>\n<text text-anchor=\"middle\" x=\"16.5\" y=\"-42.8\" font-family=\"Times New Roman,serif\" font-size=\"14.00\">a</text>\n<polyline fill=\"none\" stroke=\"black\" points=\"28,-28.5 28,-64.5\"/>\n<text text-anchor=\"middle\" x=\"68.5\" y=\"-42.8\" font-family=\"Times New Roman,serif\" font-size=\"14.00\">data 2.0000</text>\n<polyline fill=\"none\" stroke=\"black\" points=\"109,-28.5 109,-64.5\"/>\n<text text-anchor=\"middle\" x=\"150.5\" y=\"-42.8\" font-family=\"Times New Roman,serif\" font-size=\"14.00\">grad 6.0000</text>\n</g>\n<!-- 1563481966528&#45;&gt;1563481964608* -->\n<g id=\"edge4\" class=\"edge\">\n<title>1563481966528&#45;&gt;1563481964608*</title>\n<path fill=\"none\" stroke=\"black\" d=\"M191.82,-62.13C202.57,-63.95 213.01,-65.72 222.33,-67.29\"/>\n<polygon fill=\"black\" stroke=\"black\" points=\"221.54,-70.71 231.98,-68.93 222.71,-63.81 221.54,-70.71\"/>\n</g>\n<!-- 1563481965520 -->\n<g id=\"node9\" class=\"node\">\n<title>1563481965520</title>\n<polygon fill=\"none\" stroke=\"black\" points=\"647,-27.5 647,-63.5 838,-63.5 838,-27.5 647,-27.5\"/>\n<text text-anchor=\"middle\" x=\"658.5\" y=\"-41.8\" font-family=\"Times New Roman,serif\" font-size=\"14.00\">e</text>\n<polyline fill=\"none\" stroke=\"black\" points=\"670,-27.5 670,-63.5\"/>\n<text text-anchor=\"middle\" x=\"710.5\" y=\"-41.8\" font-family=\"Times New Roman,serif\" font-size=\"14.00\">data 4.0000</text>\n<polyline fill=\"none\" stroke=\"black\" points=\"751,-27.5 751,-63.5\"/>\n<text text-anchor=\"middle\" x=\"794.5\" y=\"-41.8\" font-family=\"Times New Roman,serif\" font-size=\"14.00\">grad &#45;2.0000</text>\n</g>\n<!-- 1563481965520&#45;&gt;1563481257680* -->\n<g id=\"edge9\" class=\"edge\">\n<title>1563481965520&#45;&gt;1563481257680*</title>\n<path fill=\"none\" stroke=\"black\" d=\"M837.7,-61.75C846.64,-63.29 855.29,-64.79 863.16,-66.14\"/>\n<polygon fill=\"black\" stroke=\"black\" points=\"862.49,-69.58 872.94,-67.83 863.68,-62.68 862.49,-69.58\"/>\n</g>\n<!-- 1563481965520+&#45;&gt;1563481965520 -->\n<g id=\"edge3\" class=\"edge\">\n<title>1563481965520+&#45;&gt;1563481965520</title>\n<path fill=\"none\" stroke=\"black\" d=\"M611.19,-45.5C618.41,-45.5 626.72,-45.5 635.56,-45.5\"/>\n<polygon fill=\"black\" stroke=\"black\" points=\"635.5,-49 645.5,-45.5 635.5,-42 635.5,-49\"/>\n</g>\n</g>\n</svg>\n",
      "text/plain": [
       "<graphviz.graphs.Digraph at 0x16c06c95d30>"
      ]
     },
     "execution_count": 13,
     "metadata": {},
     "output_type": "execute_result"
    }
   ],
   "source": [
    "draw_dot(L)"
   ]
  },
  {
   "cell_type": "code",
   "execution_count": 14,
   "metadata": {},
   "outputs": [
    {
     "data": {
      "image/svg+xml": "<?xml version=\"1.0\" encoding=\"UTF-8\" standalone=\"no\"?>\n<!DOCTYPE svg PUBLIC \"-//W3C//DTD SVG 1.1//EN\"\n \"http://www.w3.org/Graphics/SVG/1.1/DTD/svg11.dtd\">\n<!-- Generated by graphviz version 7.1.0 (20230121.1956)\n -->\n<!-- Pages: 1 -->\n<svg width=\"1165pt\" height=\"128pt\"\n viewBox=\"0.00 0.00 1165.00 128.00\" xmlns=\"http://www.w3.org/2000/svg\" xmlns:xlink=\"http://www.w3.org/1999/xlink\">\n<g id=\"graph0\" class=\"graph\" transform=\"scale(1 1) rotate(0) translate(4 124)\">\n<polygon fill=\"white\" stroke=\"none\" points=\"-4,4 -4,-124 1161,-124 1161,4 -4,4\"/>\n<!-- 1563481965616 -->\n<g id=\"node1\" class=\"node\">\n<title>1563481965616</title>\n<polygon fill=\"none\" stroke=\"black\" points=\"646.5,-82.5 646.5,-118.5 836.5,-118.5 836.5,-82.5 646.5,-82.5\"/>\n<text text-anchor=\"middle\" x=\"657\" y=\"-96.8\" font-family=\"Times New Roman,serif\" font-size=\"14.00\">f</text>\n<polyline fill=\"none\" stroke=\"black\" points=\"667.5,-82.5 667.5,-118.5\"/>\n<text text-anchor=\"middle\" x=\"710.5\" y=\"-96.8\" font-family=\"Times New Roman,serif\" font-size=\"14.00\">data &#45;1.9600</text>\n<polyline fill=\"none\" stroke=\"black\" points=\"753.5,-82.5 753.5,-118.5\"/>\n<text text-anchor=\"middle\" x=\"795\" y=\"-96.8\" font-family=\"Times New Roman,serif\" font-size=\"14.00\">grad 3.7176</text>\n</g>\n<!-- 1563481257680* -->\n<g id=\"node5\" class=\"node\">\n<title>1563481257680*</title>\n<ellipse fill=\"none\" stroke=\"black\" cx=\"900\" cy=\"-72.5\" rx=\"27\" ry=\"18\"/>\n<text text-anchor=\"middle\" x=\"900\" y=\"-68.8\" font-family=\"Times New Roman,serif\" font-size=\"14.00\">*</text>\n</g>\n<!-- 1563481965616&#45;&gt;1563481257680* -->\n<g id=\"edge7\" class=\"edge\">\n<title>1563481965616&#45;&gt;1563481257680*</title>\n<path fill=\"none\" stroke=\"black\" d=\"M836.25,-83.73C845.43,-82.08 854.32,-80.49 862.38,-79.05\"/>\n<polygon fill=\"black\" stroke=\"black\" points=\"862.81,-82.53 872.04,-77.32 861.58,-75.64 862.81,-82.53\"/>\n</g>\n<!-- 1563481964608 -->\n<g id=\"node2\" class=\"node\">\n<title>1563481964608</title>\n<polygon fill=\"none\" stroke=\"black\" points=\"323,-55.5 323,-91.5 520,-91.5 520,-55.5 323,-55.5\"/>\n<text text-anchor=\"middle\" x=\"335\" y=\"-69.8\" font-family=\"Times New Roman,serif\" font-size=\"14.00\">d</text>\n<polyline fill=\"none\" stroke=\"black\" points=\"347,-55.5 347,-91.5\"/>\n<text text-anchor=\"middle\" x=\"390\" y=\"-69.8\" font-family=\"Times New Roman,serif\" font-size=\"14.00\">data &#45;6.2624</text>\n<polyline fill=\"none\" stroke=\"black\" points=\"433,-55.5 433,-91.5\"/>\n<text text-anchor=\"middle\" x=\"476.5\" y=\"-69.8\" font-family=\"Times New Roman,serif\" font-size=\"14.00\">grad &#45;1.9600</text>\n</g>\n<!-- 1563481965520+ -->\n<g id=\"node10\" class=\"node\">\n<title>1563481965520+</title>\n<ellipse fill=\"none\" stroke=\"black\" cx=\"583\" cy=\"-45.5\" rx=\"27\" ry=\"18\"/>\n<text text-anchor=\"middle\" x=\"583\" y=\"-41.8\" font-family=\"Times New Roman,serif\" font-size=\"14.00\">+</text>\n</g>\n<!-- 1563481964608&#45;&gt;1563481965520+ -->\n<g id=\"edge6\" class=\"edge\">\n<title>1563481964608&#45;&gt;1563481965520+</title>\n<path fill=\"none\" stroke=\"black\" d=\"M519.88,-56.41C528.84,-54.83 537.48,-53.32 545.33,-51.94\"/>\n<polygon fill=\"black\" stroke=\"black\" points=\"545.84,-55.4 555.08,-50.23 544.63,-48.51 545.84,-55.4\"/>\n</g>\n<!-- 1563481964608* -->\n<g id=\"node3\" class=\"node\">\n<title>1563481964608*</title>\n<ellipse fill=\"none\" stroke=\"black\" cx=\"260\" cy=\"-73.5\" rx=\"27\" ry=\"18\"/>\n<text text-anchor=\"middle\" x=\"260\" y=\"-69.8\" font-family=\"Times New Roman,serif\" font-size=\"14.00\">*</text>\n</g>\n<!-- 1563481964608*&#45;&gt;1563481964608 -->\n<g id=\"edge1\" class=\"edge\">\n<title>1563481964608*&#45;&gt;1563481964608</title>\n<path fill=\"none\" stroke=\"black\" d=\"M287.34,-73.5C294.55,-73.5 302.85,-73.5 311.7,-73.5\"/>\n<polygon fill=\"black\" stroke=\"black\" points=\"311.65,-77 321.65,-73.5 311.65,-70 311.65,-77\"/>\n</g>\n<!-- 1563481257680 -->\n<g id=\"node4\" class=\"node\">\n<title>1563481257680</title>\n<polygon fill=\"none\" stroke=\"black\" points=\"963,-54.5 963,-90.5 1157,-90.5 1157,-54.5 963,-54.5\"/>\n<text text-anchor=\"middle\" x=\"975.5\" y=\"-68.8\" font-family=\"Times New Roman,serif\" font-size=\"14.00\">L</text>\n<polyline fill=\"none\" stroke=\"black\" points=\"988,-54.5 988,-90.5\"/>\n<text text-anchor=\"middle\" x=\"1031\" y=\"-68.8\" font-family=\"Times New Roman,serif\" font-size=\"14.00\">data &#45;7.2865</text>\n<polyline fill=\"none\" stroke=\"black\" points=\"1074,-54.5 1074,-90.5\"/>\n<text text-anchor=\"middle\" x=\"1115.5\" y=\"-68.8\" font-family=\"Times New Roman,serif\" font-size=\"14.00\">grad 1.0000</text>\n</g>\n<!-- 1563481257680*&#45;&gt;1563481257680 -->\n<g id=\"edge2\" class=\"edge\">\n<title>1563481257680*&#45;&gt;1563481257680</title>\n<path fill=\"none\" stroke=\"black\" d=\"M927.45,-72.5C934.67,-72.5 942.97,-72.5 951.82,-72.5\"/>\n<polygon fill=\"black\" stroke=\"black\" points=\"951.75,-76 961.75,-72.5 951.75,-69 951.75,-76\"/>\n</g>\n<!-- 1563447458688 -->\n<g id=\"node6\" class=\"node\">\n<title>1563447458688</title>\n<polygon fill=\"none\" stroke=\"black\" points=\"0,-83.5 0,-119.5 197,-119.5 197,-83.5 0,-83.5\"/>\n<text text-anchor=\"middle\" x=\"12\" y=\"-97.8\" font-family=\"Times New Roman,serif\" font-size=\"14.00\">b</text>\n<polyline fill=\"none\" stroke=\"black\" points=\"24,-83.5 24,-119.5\"/>\n<text text-anchor=\"middle\" x=\"67\" y=\"-97.8\" font-family=\"Times New Roman,serif\" font-size=\"14.00\">data &#45;3.0400</text>\n<polyline fill=\"none\" stroke=\"black\" points=\"110,-83.5 110,-119.5\"/>\n<text text-anchor=\"middle\" x=\"153.5\" y=\"-97.8\" font-family=\"Times New Roman,serif\" font-size=\"14.00\">grad &#45;4.0376</text>\n</g>\n<!-- 1563447458688&#45;&gt;1563481964608* -->\n<g id=\"edge8\" class=\"edge\">\n<title>1563447458688&#45;&gt;1563481964608*</title>\n<path fill=\"none\" stroke=\"black\" d=\"M196.88,-84.41C205.84,-82.83 214.48,-81.32 222.33,-79.94\"/>\n<polygon fill=\"black\" stroke=\"black\" points=\"222.84,-83.4 232.08,-78.23 221.63,-76.51 222.84,-83.4\"/>\n</g>\n<!-- 1563481966480 -->\n<g id=\"node7\" class=\"node\">\n<title>1563481966480</title>\n<polygon fill=\"none\" stroke=\"black\" points=\"326,-0.5 326,-36.5 517,-36.5 517,-0.5 326,-0.5\"/>\n<text text-anchor=\"middle\" x=\"337.5\" y=\"-14.8\" font-family=\"Times New Roman,serif\" font-size=\"14.00\">c</text>\n<polyline fill=\"none\" stroke=\"black\" points=\"349,-0.5 349,-36.5\"/>\n<text text-anchor=\"middle\" x=\"389.5\" y=\"-14.8\" font-family=\"Times New Roman,serif\" font-size=\"14.00\">data 9.9800</text>\n<polyline fill=\"none\" stroke=\"black\" points=\"430,-0.5 430,-36.5\"/>\n<text text-anchor=\"middle\" x=\"473.5\" y=\"-14.8\" font-family=\"Times New Roman,serif\" font-size=\"14.00\">grad &#45;1.9600</text>\n</g>\n<!-- 1563481966480&#45;&gt;1563481965520+ -->\n<g id=\"edge5\" class=\"edge\">\n<title>1563481966480&#45;&gt;1563481965520+</title>\n<path fill=\"none\" stroke=\"black\" d=\"M516.67,-34.44C526.68,-36.14 536.38,-37.78 545.11,-39.26\"/>\n<polygon fill=\"black\" stroke=\"black\" points=\"544.41,-42.69 554.85,-40.9 545.58,-35.78 544.41,-42.69\"/>\n</g>\n<!-- 1563481966528 -->\n<g id=\"node8\" class=\"node\">\n<title>1563481966528</title>\n<polygon fill=\"none\" stroke=\"black\" points=\"5,-28.5 5,-64.5 192,-64.5 192,-28.5 5,-28.5\"/>\n<text text-anchor=\"middle\" x=\"16.5\" y=\"-42.8\" font-family=\"Times New Roman,serif\" font-size=\"14.00\">a</text>\n<polyline fill=\"none\" stroke=\"black\" points=\"28,-28.5 28,-64.5\"/>\n<text text-anchor=\"middle\" x=\"68.5\" y=\"-42.8\" font-family=\"Times New Roman,serif\" font-size=\"14.00\">data 2.0600</text>\n<polyline fill=\"none\" stroke=\"black\" points=\"109,-28.5 109,-64.5\"/>\n<text text-anchor=\"middle\" x=\"150.5\" y=\"-42.8\" font-family=\"Times New Roman,serif\" font-size=\"14.00\">grad 5.9584</text>\n</g>\n<!-- 1563481966528&#45;&gt;1563481964608* -->\n<g id=\"edge4\" class=\"edge\">\n<title>1563481966528&#45;&gt;1563481964608*</title>\n<path fill=\"none\" stroke=\"black\" d=\"M191.82,-62.13C202.57,-63.95 213.01,-65.72 222.33,-67.29\"/>\n<polygon fill=\"black\" stroke=\"black\" points=\"221.54,-70.71 231.98,-68.93 222.71,-63.81 221.54,-70.71\"/>\n</g>\n<!-- 1563481965520 -->\n<g id=\"node9\" class=\"node\">\n<title>1563481965520</title>\n<polygon fill=\"none\" stroke=\"black\" points=\"646,-27.5 646,-63.5 837,-63.5 837,-27.5 646,-27.5\"/>\n<text text-anchor=\"middle\" x=\"657.5\" y=\"-41.8\" font-family=\"Times New Roman,serif\" font-size=\"14.00\">e</text>\n<polyline fill=\"none\" stroke=\"black\" points=\"669,-27.5 669,-63.5\"/>\n<text text-anchor=\"middle\" x=\"709.5\" y=\"-41.8\" font-family=\"Times New Roman,serif\" font-size=\"14.00\">data 3.7176</text>\n<polyline fill=\"none\" stroke=\"black\" points=\"750,-27.5 750,-63.5\"/>\n<text text-anchor=\"middle\" x=\"793.5\" y=\"-41.8\" font-family=\"Times New Roman,serif\" font-size=\"14.00\">grad &#45;1.9600</text>\n</g>\n<!-- 1563481965520&#45;&gt;1563481257680* -->\n<g id=\"edge9\" class=\"edge\">\n<title>1563481965520&#45;&gt;1563481257680*</title>\n<path fill=\"none\" stroke=\"black\" d=\"M836.7,-61.75C845.64,-63.29 854.29,-64.79 862.16,-66.14\"/>\n<polygon fill=\"black\" stroke=\"black\" points=\"861.49,-69.58 871.94,-67.83 862.68,-62.68 861.49,-69.58\"/>\n</g>\n<!-- 1563481965520+&#45;&gt;1563481965520 -->\n<g id=\"edge3\" class=\"edge\">\n<title>1563481965520+&#45;&gt;1563481965520</title>\n<path fill=\"none\" stroke=\"black\" d=\"M610.19,-45.5C617.41,-45.5 625.72,-45.5 634.56,-45.5\"/>\n<polygon fill=\"black\" stroke=\"black\" points=\"634.5,-49 644.5,-45.5 634.5,-42 634.5,-49\"/>\n</g>\n</g>\n</svg>\n",
      "text/plain": [
       "<graphviz.graphs.Digraph at 0x16c06cdaf70>"
      ]
     },
     "execution_count": 14,
     "metadata": {},
     "output_type": "execute_result"
    }
   ],
   "source": [
    "optimize_step = 0.01\n",
    "\n",
    "a.data += optimize_step * a.grad\n",
    "b.data += optimize_step * b.grad\n",
    "c.data += optimize_step * c.grad\n",
    "f.data += optimize_step * f.grad\n",
    "\n",
    "d.data = (a*b).data\n",
    "e.data = (d+c).data\n",
    "L.data = (e*f).data\n",
    "\n",
    "L.grad = 1.0\n",
    "e.grad = f.data * L.grad\n",
    "f.grad = e.data * L.grad\n",
    "d.grad = e.grad * 1\n",
    "c.grad = e.grad * 1\n",
    "b.grad = d.grad * a.data\n",
    "a.grad = d.grad * b.data\n",
    "\n",
    "draw_dot(L)"
   ]
  },
  {
   "cell_type": "code",
   "execution_count": 15,
   "metadata": {},
   "outputs": [
    {
     "data": {
      "image/png": "[encoded data removed]",
      "text/plain": [
       "<Figure size 432x288 with 1 Axes>"
      ]
     },
     "metadata": {
      "needs_background": "light"
     },
     "output_type": "display_data"
    }
   ],
   "source": [
    "plt.plot(np.arange(-5,5,0.2), np.tanh(np.arange(-5,5,0.2))); plt.grid();"
   ]
  },
  {
   "cell_type": "code",
   "execution_count": 16,
   "metadata": {},
   "outputs": [],
   "source": [
    "#inputs x1,x2\n",
    "x1 = Value(2.0, label='x1')\n",
    "x2 = Value(0.5, label='x2')\n",
    "\n",
    "#weights w1,w2\n",
    "w1 = Value(-3.0, label='w1')\n",
    "w2 = Value(1.0, label='w2')\n",
    "\n",
    "#bias of the neuron\n",
    "b = Value(6.5, label='b')\n",
    "\n",
    "x1w1 = x1*w1; x1w1.label = 'x1*w1'\n",
    "x2w2 = x2*w2; x2w2.label = 'x2*w2'\n",
    "\n",
    "x1w1x2w2 = x1w1 + x2w2; x1w1x2w2.label = 'x1*w1 + x2*w2'\n",
    "\n",
    "n = x1w1x2w2 + b; n.label = 'n'\n",
    "\n",
    "o = n.tanh(); o.label = 'o'"
   ]
  },
  {
   "cell_type": "code",
   "execution_count": 17,
   "metadata": {},
   "outputs": [],
   "source": [
    "o.grad = 1.0\n",
    "n.grad = 1 - o.data**2\n",
    "b.grad = n.grad\n",
    "x1w1x2w2.grad = n.grad\n",
    "x1w1.grad = x1w1x2w2.grad\n",
    "x2w2.grad = x1w1x2w2.grad\n",
    "x1.grad = w1.data * x1w1.grad\n",
    "w1.grad = x1.data * x1w1.grad\n",
    "x2.grad = w2.data * x2w2.grad\n",
    "w2.grad = x2.data * x2w2.grad"
   ]
  },
  {
   "cell_type": "code",
   "execution_count": 18,
   "metadata": {},
   "outputs": [
    {
     "data": {
      "image/svg+xml": "<?xml version=\"1.0\" encoding=\"UTF-8\" standalone=\"no\"?>\n<!DOCTYPE svg PUBLIC \"-//W3C//DTD SVG 1.1//EN\"\n \"http://www.w3.org/Graphics/SVG/1.1/DTD/svg11.dtd\">\n<!-- Generated by graphviz version 7.1.0 (20230121.1956)\n -->\n<!-- Pages: 1 -->\n<svg width=\"1586pt\" height=\"210pt\"\n viewBox=\"0.00 0.00 1586.00 210.00\" xmlns=\"http://www.w3.org/2000/svg\" xmlns:xlink=\"http://www.w3.org/1999/xlink\">\n<g id=\"graph0\" class=\"graph\" transform=\"scale(1 1) rotate(0) translate(4 206)\">\n<polygon fill=\"white\" stroke=\"none\" points=\"-4,4 -4,-206 1582,-206 1582,4 -4,4\"/>\n<!-- 1563482802688 -->\n<g id=\"node1\" class=\"node\">\n<title>1563482802688</title>\n<polygon fill=\"none\" stroke=\"black\" points=\"1077,-109.5 1077,-145.5 1264,-145.5 1264,-109.5 1077,-109.5\"/>\n<text text-anchor=\"middle\" x=\"1088.5\" y=\"-123.8\" font-family=\"Times New Roman,serif\" font-size=\"14.00\">n</text>\n<polyline fill=\"none\" stroke=\"black\" points=\"1100,-109.5 1100,-145.5\"/>\n<text text-anchor=\"middle\" x=\"1140.5\" y=\"-123.8\" font-family=\"Times New Roman,serif\" font-size=\"14.00\">data 1.0000</text>\n<polyline fill=\"none\" stroke=\"black\" points=\"1181,-109.5 1181,-145.5\"/>\n<text text-anchor=\"middle\" x=\"1222.5\" y=\"-123.8\" font-family=\"Times New Roman,serif\" font-size=\"14.00\">grad 0.4200</text>\n</g>\n<!-- 1563482802496tanh -->\n<g id=\"node9\" class=\"node\">\n<title>1563482802496tanh</title>\n<ellipse fill=\"none\" stroke=\"black\" cx=\"1327\" cy=\"-127.5\" rx=\"27\" ry=\"18\"/>\n<text text-anchor=\"middle\" x=\"1327\" y=\"-123.8\" font-family=\"Times New Roman,serif\" font-size=\"14.00\">tanh</text>\n</g>\n<!-- 1563482802688&#45;&gt;1563482802496tanh -->\n<g id=\"edge11\" class=\"edge\">\n<title>1563482802688&#45;&gt;1563482802496tanh</title>\n<path fill=\"none\" stroke=\"black\" d=\"M1263.6,-127.5C1272.26,-127.5 1280.65,-127.5 1288.33,-127.5\"/>\n<polygon fill=\"black\" stroke=\"black\" points=\"1288.23,-131 1298.23,-127.5 1288.23,-124 1288.23,-131\"/>\n</g>\n<!-- 1563482802688+ -->\n<g id=\"node2\" class=\"node\">\n<title>1563482802688+</title>\n<ellipse fill=\"none\" stroke=\"black\" cx=\"1014\" cy=\"-127.5\" rx=\"27\" ry=\"18\"/>\n<text text-anchor=\"middle\" x=\"1014\" y=\"-123.8\" font-family=\"Times New Roman,serif\" font-size=\"14.00\">+</text>\n</g>\n<!-- 1563482802688+&#45;&gt;1563482802688 -->\n<g id=\"edge1\" class=\"edge\">\n<title>1563482802688+&#45;&gt;1563482802688</title>\n<path fill=\"none\" stroke=\"black\" d=\"M1041.21,-127.5C1048.47,-127.5 1056.83,-127.5 1065.71,-127.5\"/>\n<polygon fill=\"black\" stroke=\"black\" points=\"1065.7,-131 1075.7,-127.5 1065.7,-124 1065.7,-131\"/>\n</g>\n<!-- 1563482800768 -->\n<g id=\"node3\" class=\"node\">\n<title>1563482800768</title>\n<polygon fill=\"none\" stroke=\"black\" points=\"330.5,-110.5 330.5,-146.5 547.5,-146.5 547.5,-110.5 330.5,-110.5\"/>\n<text text-anchor=\"middle\" x=\"357\" y=\"-124.8\" font-family=\"Times New Roman,serif\" font-size=\"14.00\">x2*w2</text>\n<polyline fill=\"none\" stroke=\"black\" points=\"383.5,-110.5 383.5,-146.5\"/>\n<text text-anchor=\"middle\" x=\"424\" y=\"-124.8\" font-family=\"Times New Roman,serif\" font-size=\"14.00\">data 0.5000</text>\n<polyline fill=\"none\" stroke=\"black\" points=\"464.5,-110.5 464.5,-146.5\"/>\n<text text-anchor=\"middle\" x=\"506\" y=\"-124.8\" font-family=\"Times New Roman,serif\" font-size=\"14.00\">grad 0.4200</text>\n</g>\n<!-- 1563482803648+ -->\n<g id=\"node13\" class=\"node\">\n<title>1563482803648+</title>\n<ellipse fill=\"none\" stroke=\"black\" cx=\"613\" cy=\"-100.5\" rx=\"27\" ry=\"18\"/>\n<text text-anchor=\"middle\" x=\"613\" y=\"-96.8\" font-family=\"Times New Roman,serif\" font-size=\"14.00\">+</text>\n</g>\n<!-- 1563482800768&#45;&gt;1563482803648+ -->\n<g id=\"edge8\" class=\"edge\">\n<title>1563482800768&#45;&gt;1563482803648+</title>\n<path fill=\"none\" stroke=\"black\" d=\"M547.46,-111.01C557.25,-109.41 566.64,-107.88 575.08,-106.51\"/>\n<polygon fill=\"black\" stroke=\"black\" points=\"575.52,-109.98 584.83,-104.92 574.4,-103.08 575.52,-109.98\"/>\n</g>\n<!-- 1563482800768* -->\n<g id=\"node4\" class=\"node\">\n<title>1563482800768*</title>\n<ellipse fill=\"none\" stroke=\"black\" cx=\"265\" cy=\"-128.5\" rx=\"27\" ry=\"18\"/>\n<text text-anchor=\"middle\" x=\"265\" y=\"-124.8\" font-family=\"Times New Roman,serif\" font-size=\"14.00\">*</text>\n</g>\n<!-- 1563482800768*&#45;&gt;1563482800768 -->\n<g id=\"edge2\" class=\"edge\">\n<title>1563482800768*&#45;&gt;1563482800768</title>\n<path fill=\"none\" stroke=\"black\" d=\"M292.5,-128.5C300.37,-128.5 309.55,-128.5 319.4,-128.5\"/>\n<polygon fill=\"black\" stroke=\"black\" points=\"319.25,-132 329.25,-128.5 319.25,-125 319.25,-132\"/>\n</g>\n<!-- 1563446980512 -->\n<g id=\"node5\" class=\"node\">\n<title>1563446980512</title>\n<polygon fill=\"none\" stroke=\"black\" points=\"0,-55.5 0,-91.5 202,-91.5 202,-55.5 0,-55.5\"/>\n<text text-anchor=\"middle\" x=\"16.5\" y=\"-69.8\" font-family=\"Times New Roman,serif\" font-size=\"14.00\">w1</text>\n<polyline fill=\"none\" stroke=\"black\" points=\"33,-55.5 33,-91.5\"/>\n<text text-anchor=\"middle\" x=\"76\" y=\"-69.8\" font-family=\"Times New Roman,serif\" font-size=\"14.00\">data &#45;3.0000</text>\n<polyline fill=\"none\" stroke=\"black\" points=\"119,-55.5 119,-91.5\"/>\n<text text-anchor=\"middle\" x=\"160.5\" y=\"-69.8\" font-family=\"Times New Roman,serif\" font-size=\"14.00\">grad 0.8399</text>\n</g>\n<!-- 1563481884128* -->\n<g id=\"node15\" class=\"node\">\n<title>1563481884128*</title>\n<ellipse fill=\"none\" stroke=\"black\" cx=\"265\" cy=\"-73.5\" rx=\"27\" ry=\"18\"/>\n<text text-anchor=\"middle\" x=\"265\" y=\"-69.8\" font-family=\"Times New Roman,serif\" font-size=\"14.00\">*</text>\n</g>\n<!-- 1563446980512&#45;&gt;1563481884128* -->\n<g id=\"edge6\" class=\"edge\">\n<title>1563446980512&#45;&gt;1563481884128*</title>\n<path fill=\"none\" stroke=\"black\" d=\"M201.83,-73.5C210.46,-73.5 218.79,-73.5 226.4,-73.5\"/>\n<polygon fill=\"black\" stroke=\"black\" points=\"226.18,-77 236.18,-73.5 226.18,-70 226.18,-77\"/>\n</g>\n<!-- 1563481754400 -->\n<g id=\"node6\" class=\"node\">\n<title>1563481754400</title>\n<polygon fill=\"none\" stroke=\"black\" points=\"2,-0.5 2,-36.5 200,-36.5 200,-0.5 2,-0.5\"/>\n<text text-anchor=\"middle\" x=\"17\" y=\"-14.8\" font-family=\"Times New Roman,serif\" font-size=\"14.00\">x1</text>\n<polyline fill=\"none\" stroke=\"black\" points=\"32,-0.5 32,-36.5\"/>\n<text text-anchor=\"middle\" x=\"72.5\" y=\"-14.8\" font-family=\"Times New Roman,serif\" font-size=\"14.00\">data 2.0000</text>\n<polyline fill=\"none\" stroke=\"black\" points=\"113,-0.5 113,-36.5\"/>\n<text text-anchor=\"middle\" x=\"156.5\" y=\"-14.8\" font-family=\"Times New Roman,serif\" font-size=\"14.00\">grad &#45;1.2599</text>\n</g>\n<!-- 1563481754400&#45;&gt;1563481884128* -->\n<g id=\"edge9\" class=\"edge\">\n<title>1563481754400&#45;&gt;1563481884128*</title>\n<path fill=\"none\" stroke=\"black\" d=\"M170.98,-36.47C181.45,-39.58 192.06,-42.96 202,-46.5 211.97,-50.05 222.6,-54.44 232.19,-58.65\"/>\n<polygon fill=\"black\" stroke=\"black\" points=\"230.55,-61.75 241.11,-62.64 233.41,-55.36 230.55,-61.75\"/>\n</g>\n<!-- 1563481754928 -->\n<g id=\"node7\" class=\"node\">\n<title>1563481754928</title>\n<polygon fill=\"none\" stroke=\"black\" points=\"4,-165.5 4,-201.5 198,-201.5 198,-165.5 4,-165.5\"/>\n<text text-anchor=\"middle\" x=\"19\" y=\"-179.8\" font-family=\"Times New Roman,serif\" font-size=\"14.00\">x2</text>\n<polyline fill=\"none\" stroke=\"black\" points=\"34,-165.5 34,-201.5\"/>\n<text text-anchor=\"middle\" x=\"74.5\" y=\"-179.8\" font-family=\"Times New Roman,serif\" font-size=\"14.00\">data 0.5000</text>\n<polyline fill=\"none\" stroke=\"black\" points=\"115,-165.5 115,-201.5\"/>\n<text text-anchor=\"middle\" x=\"156.5\" y=\"-179.8\" font-family=\"Times New Roman,serif\" font-size=\"14.00\">grad 0.4200</text>\n</g>\n<!-- 1563481754928&#45;&gt;1563482800768* -->\n<g id=\"edge14\" class=\"edge\">\n<title>1563481754928&#45;&gt;1563482800768*</title>\n<path fill=\"none\" stroke=\"black\" d=\"M173.99,-165.56C183.48,-162.75 193.03,-159.71 202,-156.5 212.1,-152.88 222.83,-148.31 232.49,-143.91\"/>\n<polygon fill=\"black\" stroke=\"black\" points=\"233.88,-147.12 241.46,-139.72 230.92,-140.78 233.88,-147.12\"/>\n</g>\n<!-- 1563482802496 -->\n<g id=\"node8\" class=\"node\">\n<title>1563482802496</title>\n<polygon fill=\"none\" stroke=\"black\" points=\"1390,-109.5 1390,-145.5 1578,-145.5 1578,-109.5 1390,-109.5\"/>\n<text text-anchor=\"middle\" x=\"1402\" y=\"-123.8\" font-family=\"Times New Roman,serif\" font-size=\"14.00\">o</text>\n<polyline fill=\"none\" stroke=\"black\" points=\"1414,-109.5 1414,-145.5\"/>\n<text text-anchor=\"middle\" x=\"1454.5\" y=\"-123.8\" font-family=\"Times New Roman,serif\" font-size=\"14.00\">data 0.7616</text>\n<polyline fill=\"none\" stroke=\"black\" points=\"1495,-109.5 1495,-145.5\"/>\n<text text-anchor=\"middle\" x=\"1536.5\" y=\"-123.8\" font-family=\"Times New Roman,serif\" font-size=\"14.00\">grad 1.0000</text>\n</g>\n<!-- 1563482802496tanh&#45;&gt;1563482802496 -->\n<g id=\"edge3\" class=\"edge\">\n<title>1563482802496tanh&#45;&gt;1563482802496</title>\n<path fill=\"none\" stroke=\"black\" d=\"M1354.29,-127.5C1361.52,-127.5 1369.82,-127.5 1378.66,-127.5\"/>\n<polygon fill=\"black\" stroke=\"black\" points=\"1378.57,-131 1388.57,-127.5 1378.57,-124 1378.57,-131\"/>\n</g>\n<!-- 1563446978400 -->\n<g id=\"node10\" class=\"node\">\n<title>1563446978400</title>\n<polygon fill=\"none\" stroke=\"black\" points=\"719.5,-137.5 719.5,-173.5 907.5,-173.5 907.5,-137.5 719.5,-137.5\"/>\n<text text-anchor=\"middle\" x=\"731.5\" y=\"-151.8\" font-family=\"Times New Roman,serif\" font-size=\"14.00\">b</text>\n<polyline fill=\"none\" stroke=\"black\" points=\"743.5,-137.5 743.5,-173.5\"/>\n<text text-anchor=\"middle\" x=\"784\" y=\"-151.8\" font-family=\"Times New Roman,serif\" font-size=\"14.00\">data 6.5000</text>\n<polyline fill=\"none\" stroke=\"black\" points=\"824.5,-137.5 824.5,-173.5\"/>\n<text text-anchor=\"middle\" x=\"866\" y=\"-151.8\" font-family=\"Times New Roman,serif\" font-size=\"14.00\">grad 0.4200</text>\n</g>\n<!-- 1563446978400&#45;&gt;1563482802688+ -->\n<g id=\"edge10\" class=\"edge\">\n<title>1563446978400&#45;&gt;1563482802688+</title>\n<path fill=\"none\" stroke=\"black\" d=\"M907.36,-142.4C931.59,-138.98 956.33,-135.49 975.77,-132.75\"/>\n<polygon fill=\"black\" stroke=\"black\" points=\"976.23,-136.22 985.64,-131.36 975.25,-129.29 976.23,-136.22\"/>\n</g>\n<!-- 1563481754016 -->\n<g id=\"node11\" class=\"node\">\n<title>1563481754016</title>\n<polygon fill=\"none\" stroke=\"black\" points=\"2.5,-110.5 2.5,-146.5 199.5,-146.5 199.5,-110.5 2.5,-110.5\"/>\n<text text-anchor=\"middle\" x=\"19\" y=\"-124.8\" font-family=\"Times New Roman,serif\" font-size=\"14.00\">w2</text>\n<polyline fill=\"none\" stroke=\"black\" points=\"35.5,-110.5 35.5,-146.5\"/>\n<text text-anchor=\"middle\" x=\"76\" y=\"-124.8\" font-family=\"Times New Roman,serif\" font-size=\"14.00\">data 1.0000</text>\n<polyline fill=\"none\" stroke=\"black\" points=\"116.5,-110.5 116.5,-146.5\"/>\n<text text-anchor=\"middle\" x=\"158\" y=\"-124.8\" font-family=\"Times New Roman,serif\" font-size=\"14.00\">grad 0.2100</text>\n</g>\n<!-- 1563481754016&#45;&gt;1563482800768* -->\n<g id=\"edge7\" class=\"edge\">\n<title>1563481754016&#45;&gt;1563482800768*</title>\n<path fill=\"none\" stroke=\"black\" d=\"M199.04,-128.5C208.66,-128.5 217.96,-128.5 226.38,-128.5\"/>\n<polygon fill=\"black\" stroke=\"black\" points=\"226.12,-132 236.12,-128.5 226.12,-125 226.12,-132\"/>\n</g>\n<!-- 1563482803648 -->\n<g id=\"node12\" class=\"node\">\n<title>1563482803648</title>\n<polygon fill=\"none\" stroke=\"black\" points=\"676,-82.5 676,-118.5 951,-118.5 951,-82.5 676,-82.5\"/>\n<text text-anchor=\"middle\" x=\"729\" y=\"-96.8\" font-family=\"Times New Roman,serif\" font-size=\"14.00\">x1*w1 + x2*w2</text>\n<polyline fill=\"none\" stroke=\"black\" points=\"782,-82.5 782,-118.5\"/>\n<text text-anchor=\"middle\" x=\"825\" y=\"-96.8\" font-family=\"Times New Roman,serif\" font-size=\"14.00\">data &#45;5.5000</text>\n<polyline fill=\"none\" stroke=\"black\" points=\"868,-82.5 868,-118.5\"/>\n<text text-anchor=\"middle\" x=\"909.5\" y=\"-96.8\" font-family=\"Times New Roman,serif\" font-size=\"14.00\">grad 0.4200</text>\n</g>\n<!-- 1563482803648&#45;&gt;1563482802688+ -->\n<g id=\"edge13\" class=\"edge\">\n<title>1563482803648&#45;&gt;1563482802688+</title>\n<path fill=\"none\" stroke=\"black\" d=\"M946.63,-118.47C957.13,-119.9 967.07,-121.25 975.91,-122.46\"/>\n<polygon fill=\"black\" stroke=\"black\" points=\"975.36,-125.91 985.74,-123.79 976.3,-118.98 975.36,-125.91\"/>\n</g>\n<!-- 1563482803648+&#45;&gt;1563482803648 -->\n<g id=\"edge4\" class=\"edge\">\n<title>1563482803648+&#45;&gt;1563482803648</title>\n<path fill=\"none\" stroke=\"black\" d=\"M640.36,-100.5C647.56,-100.5 655.89,-100.5 664.94,-100.5\"/>\n<polygon fill=\"black\" stroke=\"black\" points=\"664.78,-104 674.78,-100.5 664.78,-97 664.78,-104\"/>\n</g>\n<!-- 1563481884128 -->\n<g id=\"node14\" class=\"node\">\n<title>1563481884128</title>\n<polygon fill=\"none\" stroke=\"black\" points=\"328,-55.5 328,-91.5 550,-91.5 550,-55.5 328,-55.5\"/>\n<text text-anchor=\"middle\" x=\"354.5\" y=\"-69.8\" font-family=\"Times New Roman,serif\" font-size=\"14.00\">x1*w1</text>\n<polyline fill=\"none\" stroke=\"black\" points=\"381,-55.5 381,-91.5\"/>\n<text text-anchor=\"middle\" x=\"424\" y=\"-69.8\" font-family=\"Times New Roman,serif\" font-size=\"14.00\">data &#45;6.0000</text>\n<polyline fill=\"none\" stroke=\"black\" points=\"467,-55.5 467,-91.5\"/>\n<text text-anchor=\"middle\" x=\"508.5\" y=\"-69.8\" font-family=\"Times New Roman,serif\" font-size=\"14.00\">grad 0.4200</text>\n</g>\n<!-- 1563481884128&#45;&gt;1563482803648+ -->\n<g id=\"edge12\" class=\"edge\">\n<title>1563481884128&#45;&gt;1563482803648+</title>\n<path fill=\"none\" stroke=\"black\" d=\"M549.9,-90.75C558.72,-92.14 567.17,-93.46 574.84,-94.67\"/>\n<polygon fill=\"black\" stroke=\"black\" points=\"574.29,-98.12 584.71,-96.22 575.37,-91.21 574.29,-98.12\"/>\n</g>\n<!-- 1563481884128*&#45;&gt;1563481884128 -->\n<g id=\"edge5\" class=\"edge\">\n<title>1563481884128*&#45;&gt;1563481884128</title>\n<path fill=\"none\" stroke=\"black\" d=\"M292.5,-73.5C299.65,-73.5 307.89,-73.5 316.72,-73.5\"/>\n<polygon fill=\"black\" stroke=\"black\" points=\"316.69,-77 326.68,-73.5 316.68,-70 316.69,-77\"/>\n</g>\n</g>\n</svg>\n",
      "text/plain": [
       "<graphviz.graphs.Digraph at 0x16c06d36550>"
      ]
     },
     "execution_count": 18,
     "metadata": {},
     "output_type": "execute_result"
    }
   ],
   "source": [
    "draw_dot(o)"
   ]
  },
  {
   "cell_type": "code",
   "execution_count": 19,
   "metadata": {},
   "outputs": [],
   "source": [
    "optimize_step = 0.01\n",
    "\n",
    "w1.data += optimize_step * w1.grad\n",
    "w2.data += optimize_step * w2.grad"
   ]
  },
  {
   "cell_type": "code",
   "execution_count": 20,
   "metadata": {},
   "outputs": [],
   "source": [
    "for i in range(100):\n",
    "    #Forward Pass\n",
    "    x1w1 = x1*w1; x1w1.label = 'x1*w1'\n",
    "    x2w2 = x2*w2; x2w2.label = 'x2*w2'\n",
    "\n",
    "    x1w1x2w2 = x1w1 + x2w2; x1w1x2w2.label = 'x1*w1 + x2*w2'\n",
    "\n",
    "    n = x1w1x2w2 + b; n.label = 'n'\n",
    "\n",
    "    o = n.tanh()\n",
    "\n",
    "    #Back Propogation\n",
    "    o.grad = 1.0\n",
    "    n.grad = 1 - o.data**2\n",
    "    b.grad = n.grad\n",
    "    x1w1x2w2.grad = n.grad\n",
    "    x1w1.grad = n.grad #x1w1x2w2.grad\n",
    "    x2w2.grad = n.grad #x1w1x2w2.grad\n",
    "    x1.grad = w1.data * n.grad #x1w1.grad\n",
    "    w1.grad = x1.data * n.grad #x1w1.grad\n",
    "    x2.grad = w2.data * n.grad #x2w2.grad\n",
    "    w2.grad = x2.data * n.grad #x2w2.grad\n",
    "\n",
    "    #Update Weights\n",
    "    optimize_step = 0.01\n",
    "\n",
    "    w1.data += optimize_step * w1.grad\n",
    "    w2.data += optimize_step * w2.grad\n",
    "\n",
    "    "
   ]
  },
  {
   "cell_type": "code",
   "execution_count": 21,
   "metadata": {},
   "outputs": [
    {
     "data": {
      "image/svg+xml": "<?xml version=\"1.0\" encoding=\"UTF-8\" standalone=\"no\"?>\n<!DOCTYPE svg PUBLIC \"-//W3C//DTD SVG 1.1//EN\"\n \"http://www.w3.org/Graphics/SVG/1.1/DTD/svg11.dtd\">\n<!-- Generated by graphviz version 7.1.0 (20230121.1956)\n -->\n<!-- Pages: 1 -->\n<svg width=\"1582pt\" height=\"210pt\"\n viewBox=\"0.00 0.00 1582.00 210.00\" xmlns=\"http://www.w3.org/2000/svg\" xmlns:xlink=\"http://www.w3.org/1999/xlink\">\n<g id=\"graph0\" class=\"graph\" transform=\"scale(1 1) rotate(0) translate(4 206)\">\n<polygon fill=\"white\" stroke=\"none\" points=\"-4,4 -4,-206 1578,-206 1578,4 -4,4\"/>\n<!-- 1563482838592 -->\n<g id=\"node1\" class=\"node\">\n<title>1563482838592</title>\n<polygon fill=\"none\" stroke=\"black\" points=\"1390,-54.5 1390,-90.5 1574,-90.5 1574,-54.5 1390,-54.5\"/>\n<text text-anchor=\"middle\" x=\"1400\" y=\"-68.8\" font-family=\"Times New Roman,serif\" font-size=\"14.00\"> </text>\n<polyline fill=\"none\" stroke=\"black\" points=\"1410,-54.5 1410,-90.5\"/>\n<text text-anchor=\"middle\" x=\"1450.5\" y=\"-68.8\" font-family=\"Times New Roman,serif\" font-size=\"14.00\">data 0.9490</text>\n<polyline fill=\"none\" stroke=\"black\" points=\"1491,-54.5 1491,-90.5\"/>\n<text text-anchor=\"middle\" x=\"1532.5\" y=\"-68.8\" font-family=\"Times New Roman,serif\" font-size=\"14.00\">grad 1.0000</text>\n</g>\n<!-- 1563482838592tanh -->\n<g id=\"node2\" class=\"node\">\n<title>1563482838592tanh</title>\n<ellipse fill=\"none\" stroke=\"black\" cx=\"1327\" cy=\"-72.5\" rx=\"27\" ry=\"18\"/>\n<text text-anchor=\"middle\" x=\"1327\" y=\"-68.8\" font-family=\"Times New Roman,serif\" font-size=\"14.00\">tanh</text>\n</g>\n<!-- 1563482838592tanh&#45;&gt;1563482838592 -->\n<g id=\"edge1\" class=\"edge\">\n<title>1563482838592tanh&#45;&gt;1563482838592</title>\n<path fill=\"none\" stroke=\"black\" d=\"M1354.3,-72.5C1361.57,-72.5 1369.92,-72.5 1378.8,-72.5\"/>\n<polygon fill=\"black\" stroke=\"black\" points=\"1378.76,-76 1388.76,-72.5 1378.76,-69 1378.76,-76\"/>\n</g>\n<!-- 1563481754016 -->\n<g id=\"node3\" class=\"node\">\n<title>1563481754016</title>\n<polygon fill=\"none\" stroke=\"black\" points=\"2.5,-165.5 2.5,-201.5 199.5,-201.5 199.5,-165.5 2.5,-165.5\"/>\n<text text-anchor=\"middle\" x=\"19\" y=\"-179.8\" font-family=\"Times New Roman,serif\" font-size=\"14.00\">w2</text>\n<polyline fill=\"none\" stroke=\"black\" points=\"35.5,-165.5 35.5,-201.5\"/>\n<text text-anchor=\"middle\" x=\"76\" y=\"-179.8\" font-family=\"Times New Roman,serif\" font-size=\"14.00\">data 1.0972</text>\n<polyline fill=\"none\" stroke=\"black\" points=\"116.5,-165.5 116.5,-201.5\"/>\n<text text-anchor=\"middle\" x=\"158\" y=\"-179.8\" font-family=\"Times New Roman,serif\" font-size=\"14.00\">grad 0.0497</text>\n</g>\n<!-- 1563482839792* -->\n<g id=\"node9\" class=\"node\">\n<title>1563482839792*</title>\n<ellipse fill=\"none\" stroke=\"black\" cx=\"265\" cy=\"-128.5\" rx=\"27\" ry=\"18\"/>\n<text text-anchor=\"middle\" x=\"265\" y=\"-124.8\" font-family=\"Times New Roman,serif\" font-size=\"14.00\">*</text>\n</g>\n<!-- 1563481754016&#45;&gt;1563482839792* -->\n<g id=\"edge11\" class=\"edge\">\n<title>1563481754016&#45;&gt;1563482839792*</title>\n<path fill=\"none\" stroke=\"black\" d=\"M173.99,-165.56C183.48,-162.75 193.03,-159.71 202,-156.5 212.1,-152.88 222.83,-148.31 232.49,-143.91\"/>\n<polygon fill=\"black\" stroke=\"black\" points=\"233.88,-147.12 241.46,-139.72 230.92,-140.78 233.88,-147.12\"/>\n</g>\n<!-- 1563482839168 -->\n<g id=\"node4\" class=\"node\">\n<title>1563482839168</title>\n<polygon fill=\"none\" stroke=\"black\" points=\"1077,-54.5 1077,-90.5 1264,-90.5 1264,-54.5 1077,-54.5\"/>\n<text text-anchor=\"middle\" x=\"1088.5\" y=\"-68.8\" font-family=\"Times New Roman,serif\" font-size=\"14.00\">n</text>\n<polyline fill=\"none\" stroke=\"black\" points=\"1100,-54.5 1100,-90.5\"/>\n<text text-anchor=\"middle\" x=\"1140.5\" y=\"-68.8\" font-family=\"Times New Roman,serif\" font-size=\"14.00\">data 1.8219</text>\n<polyline fill=\"none\" stroke=\"black\" points=\"1181,-54.5 1181,-90.5\"/>\n<text text-anchor=\"middle\" x=\"1222.5\" y=\"-68.8\" font-family=\"Times New Roman,serif\" font-size=\"14.00\">grad 0.0993</text>\n</g>\n<!-- 1563482839168&#45;&gt;1563482838592tanh -->\n<g id=\"edge9\" class=\"edge\">\n<title>1563482839168&#45;&gt;1563482838592tanh</title>\n<path fill=\"none\" stroke=\"black\" d=\"M1263.6,-72.5C1272.26,-72.5 1280.65,-72.5 1288.33,-72.5\"/>\n<polygon fill=\"black\" stroke=\"black\" points=\"1288.23,-76 1298.23,-72.5 1288.23,-69 1288.23,-76\"/>\n</g>\n<!-- 1563482839168+ -->\n<g id=\"node5\" class=\"node\">\n<title>1563482839168+</title>\n<ellipse fill=\"none\" stroke=\"black\" cx=\"1014\" cy=\"-72.5\" rx=\"27\" ry=\"18\"/>\n<text text-anchor=\"middle\" x=\"1014\" y=\"-68.8\" font-family=\"Times New Roman,serif\" font-size=\"14.00\">+</text>\n</g>\n<!-- 1563482839168+&#45;&gt;1563482839168 -->\n<g id=\"edge2\" class=\"edge\">\n<title>1563482839168+&#45;&gt;1563482839168</title>\n<path fill=\"none\" stroke=\"black\" d=\"M1041.21,-72.5C1048.47,-72.5 1056.83,-72.5 1065.71,-72.5\"/>\n<polygon fill=\"black\" stroke=\"black\" points=\"1065.7,-76 1075.7,-72.5 1065.7,-69 1065.7,-76\"/>\n</g>\n<!-- 1563482839456 -->\n<g id=\"node6\" class=\"node\">\n<title>1563482839456</title>\n<polygon fill=\"none\" stroke=\"black\" points=\"676,-82.5 676,-118.5 951,-118.5 951,-82.5 676,-82.5\"/>\n<text text-anchor=\"middle\" x=\"729\" y=\"-96.8\" font-family=\"Times New Roman,serif\" font-size=\"14.00\">x1*w1 + x2*w2</text>\n<polyline fill=\"none\" stroke=\"black\" points=\"782,-82.5 782,-118.5\"/>\n<text text-anchor=\"middle\" x=\"825\" y=\"-96.8\" font-family=\"Times New Roman,serif\" font-size=\"14.00\">data &#45;4.6781</text>\n<polyline fill=\"none\" stroke=\"black\" points=\"868,-82.5 868,-118.5\"/>\n<text text-anchor=\"middle\" x=\"909.5\" y=\"-96.8\" font-family=\"Times New Roman,serif\" font-size=\"14.00\">grad 0.0993</text>\n</g>\n<!-- 1563482839456&#45;&gt;1563482839168+ -->\n<g id=\"edge12\" class=\"edge\">\n<title>1563482839456&#45;&gt;1563482839168+</title>\n<path fill=\"none\" stroke=\"black\" d=\"M941.9,-82.53C954.16,-80.8 965.8,-79.16 975.98,-77.72\"/>\n<polygon fill=\"black\" stroke=\"black\" points=\"976.29,-81.21 985.7,-76.35 975.31,-74.28 976.29,-81.21\"/>\n</g>\n<!-- 1563482839456+ -->\n<g id=\"node7\" class=\"node\">\n<title>1563482839456+</title>\n<ellipse fill=\"none\" stroke=\"black\" cx=\"613\" cy=\"-100.5\" rx=\"27\" ry=\"18\"/>\n<text text-anchor=\"middle\" x=\"613\" y=\"-96.8\" font-family=\"Times New Roman,serif\" font-size=\"14.00\">+</text>\n</g>\n<!-- 1563482839456+&#45;&gt;1563482839456 -->\n<g id=\"edge3\" class=\"edge\">\n<title>1563482839456+&#45;&gt;1563482839456</title>\n<path fill=\"none\" stroke=\"black\" d=\"M640.36,-100.5C647.56,-100.5 655.89,-100.5 664.94,-100.5\"/>\n<polygon fill=\"black\" stroke=\"black\" points=\"664.78,-104 674.78,-100.5 664.78,-97 664.78,-104\"/>\n</g>\n<!-- 1563482839792 -->\n<g id=\"node8\" class=\"node\">\n<title>1563482839792</title>\n<polygon fill=\"none\" stroke=\"black\" points=\"330.5,-110.5 330.5,-146.5 547.5,-146.5 547.5,-110.5 330.5,-110.5\"/>\n<text text-anchor=\"middle\" x=\"357\" y=\"-124.8\" font-family=\"Times New Roman,serif\" font-size=\"14.00\">x2*w2</text>\n<polyline fill=\"none\" stroke=\"black\" points=\"383.5,-110.5 383.5,-146.5\"/>\n<text text-anchor=\"middle\" x=\"424\" y=\"-124.8\" font-family=\"Times New Roman,serif\" font-size=\"14.00\">data 0.5483</text>\n<polyline fill=\"none\" stroke=\"black\" points=\"464.5,-110.5 464.5,-146.5\"/>\n<text text-anchor=\"middle\" x=\"506\" y=\"-124.8\" font-family=\"Times New Roman,serif\" font-size=\"14.00\">grad 0.0993</text>\n</g>\n<!-- 1563482839792&#45;&gt;1563482839456+ -->\n<g id=\"edge13\" class=\"edge\">\n<title>1563482839792&#45;&gt;1563482839456+</title>\n<path fill=\"none\" stroke=\"black\" d=\"M547.46,-111.01C557.25,-109.41 566.64,-107.88 575.08,-106.51\"/>\n<polygon fill=\"black\" stroke=\"black\" points=\"575.52,-109.98 584.83,-104.92 574.4,-103.08 575.52,-109.98\"/>\n</g>\n<!-- 1563482839792*&#45;&gt;1563482839792 -->\n<g id=\"edge4\" class=\"edge\">\n<title>1563482839792*&#45;&gt;1563482839792</title>\n<path fill=\"none\" stroke=\"black\" d=\"M292.5,-128.5C300.37,-128.5 309.55,-128.5 319.4,-128.5\"/>\n<polygon fill=\"black\" stroke=\"black\" points=\"319.25,-132 329.25,-128.5 319.25,-125 319.25,-132\"/>\n</g>\n<!-- 1563481754400 -->\n<g id=\"node10\" class=\"node\">\n<title>1563481754400</title>\n<polygon fill=\"none\" stroke=\"black\" points=\"2,-55.5 2,-91.5 200,-91.5 200,-55.5 2,-55.5\"/>\n<text text-anchor=\"middle\" x=\"17\" y=\"-69.8\" font-family=\"Times New Roman,serif\" font-size=\"14.00\">x1</text>\n<polyline fill=\"none\" stroke=\"black\" points=\"32,-55.5 32,-91.5\"/>\n<text text-anchor=\"middle\" x=\"72.5\" y=\"-69.8\" font-family=\"Times New Roman,serif\" font-size=\"14.00\">data 2.0000</text>\n<polyline fill=\"none\" stroke=\"black\" points=\"113,-55.5 113,-91.5\"/>\n<text text-anchor=\"middle\" x=\"156.5\" y=\"-69.8\" font-family=\"Times New Roman,serif\" font-size=\"14.00\">grad &#45;0.2596</text>\n</g>\n<!-- 1563482839984* -->\n<g id=\"node15\" class=\"node\">\n<title>1563482839984*</title>\n<ellipse fill=\"none\" stroke=\"black\" cx=\"265\" cy=\"-73.5\" rx=\"27\" ry=\"18\"/>\n<text text-anchor=\"middle\" x=\"265\" y=\"-69.8\" font-family=\"Times New Roman,serif\" font-size=\"14.00\">*</text>\n</g>\n<!-- 1563481754400&#45;&gt;1563482839984* -->\n<g id=\"edge10\" class=\"edge\">\n<title>1563481754400&#45;&gt;1563482839984*</title>\n<path fill=\"none\" stroke=\"black\" d=\"M199.97,-73.5C209.29,-73.5 218.28,-73.5 226.45,-73.5\"/>\n<polygon fill=\"black\" stroke=\"black\" points=\"226.23,-77 236.23,-73.5 226.23,-70 226.23,-77\"/>\n</g>\n<!-- 1563481754928 -->\n<g id=\"node11\" class=\"node\">\n<title>1563481754928</title>\n<polygon fill=\"none\" stroke=\"black\" points=\"4,-110.5 4,-146.5 198,-146.5 198,-110.5 4,-110.5\"/>\n<text text-anchor=\"middle\" x=\"19\" y=\"-124.8\" font-family=\"Times New Roman,serif\" font-size=\"14.00\">x2</text>\n<polyline fill=\"none\" stroke=\"black\" points=\"34,-110.5 34,-146.5\"/>\n<text text-anchor=\"middle\" x=\"74.5\" y=\"-124.8\" font-family=\"Times New Roman,serif\" font-size=\"14.00\">data 0.5000</text>\n<polyline fill=\"none\" stroke=\"black\" points=\"115,-110.5 115,-146.5\"/>\n<text text-anchor=\"middle\" x=\"156.5\" y=\"-124.8\" font-family=\"Times New Roman,serif\" font-size=\"14.00\">grad 0.1089</text>\n</g>\n<!-- 1563481754928&#45;&gt;1563482839792* -->\n<g id=\"edge7\" class=\"edge\">\n<title>1563481754928&#45;&gt;1563482839792*</title>\n<path fill=\"none\" stroke=\"black\" d=\"M197.64,-128.5C207.72,-128.5 217.49,-128.5 226.29,-128.5\"/>\n<polygon fill=\"black\" stroke=\"black\" points=\"226.11,-132 236.11,-128.5 226.11,-125 226.11,-132\"/>\n</g>\n<!-- 1563446978400 -->\n<g id=\"node12\" class=\"node\">\n<title>1563446978400</title>\n<polygon fill=\"none\" stroke=\"black\" points=\"719.5,-27.5 719.5,-63.5 907.5,-63.5 907.5,-27.5 719.5,-27.5\"/>\n<text text-anchor=\"middle\" x=\"731.5\" y=\"-41.8\" font-family=\"Times New Roman,serif\" font-size=\"14.00\">b</text>\n<polyline fill=\"none\" stroke=\"black\" points=\"743.5,-27.5 743.5,-63.5\"/>\n<text text-anchor=\"middle\" x=\"784\" y=\"-41.8\" font-family=\"Times New Roman,serif\" font-size=\"14.00\">data 6.5000</text>\n<polyline fill=\"none\" stroke=\"black\" points=\"824.5,-27.5 824.5,-63.5\"/>\n<text text-anchor=\"middle\" x=\"866\" y=\"-41.8\" font-family=\"Times New Roman,serif\" font-size=\"14.00\">grad 0.0993</text>\n</g>\n<!-- 1563446978400&#45;&gt;1563482839168+ -->\n<g id=\"edge14\" class=\"edge\">\n<title>1563446978400&#45;&gt;1563482839168+</title>\n<path fill=\"none\" stroke=\"black\" d=\"M907.36,-58.13C931.59,-61.43 956.33,-64.79 975.77,-67.44\"/>\n<polygon fill=\"black\" stroke=\"black\" points=\"975.26,-70.9 985.64,-68.78 976.21,-63.96 975.26,-70.9\"/>\n</g>\n<!-- 1563446980512 -->\n<g id=\"node13\" class=\"node\">\n<title>1563446980512</title>\n<polygon fill=\"none\" stroke=\"black\" points=\"0,-0.5 0,-36.5 202,-36.5 202,-0.5 0,-0.5\"/>\n<text text-anchor=\"middle\" x=\"16.5\" y=\"-14.8\" font-family=\"Times New Roman,serif\" font-size=\"14.00\">w1</text>\n<polyline fill=\"none\" stroke=\"black\" points=\"33,-0.5 33,-36.5\"/>\n<text text-anchor=\"middle\" x=\"76\" y=\"-14.8\" font-family=\"Times New Roman,serif\" font-size=\"14.00\">data &#45;2.6112</text>\n<polyline fill=\"none\" stroke=\"black\" points=\"119,-0.5 119,-36.5\"/>\n<text text-anchor=\"middle\" x=\"160.5\" y=\"-14.8\" font-family=\"Times New Roman,serif\" font-size=\"14.00\">grad 0.1987</text>\n</g>\n<!-- 1563446980512&#45;&gt;1563482839984* -->\n<g id=\"edge8\" class=\"edge\">\n<title>1563446980512&#45;&gt;1563482839984*</title>\n<path fill=\"none\" stroke=\"black\" d=\"M173.99,-36.44C183.48,-39.25 193.03,-42.29 202,-45.5 212.1,-49.12 222.83,-53.69 232.49,-58.09\"/>\n<polygon fill=\"black\" stroke=\"black\" points=\"230.92,-61.22 241.46,-62.28 233.88,-54.88 230.92,-61.22\"/>\n</g>\n<!-- 1563482839984 -->\n<g id=\"node14\" class=\"node\">\n<title>1563482839984</title>\n<polygon fill=\"none\" stroke=\"black\" points=\"328,-55.5 328,-91.5 550,-91.5 550,-55.5 328,-55.5\"/>\n<text text-anchor=\"middle\" x=\"354.5\" y=\"-69.8\" font-family=\"Times New Roman,serif\" font-size=\"14.00\">x1*w1</text>\n<polyline fill=\"none\" stroke=\"black\" points=\"381,-55.5 381,-91.5\"/>\n<text text-anchor=\"middle\" x=\"424\" y=\"-69.8\" font-family=\"Times New Roman,serif\" font-size=\"14.00\">data &#45;5.2264</text>\n<polyline fill=\"none\" stroke=\"black\" points=\"467,-55.5 467,-91.5\"/>\n<text text-anchor=\"middle\" x=\"508.5\" y=\"-69.8\" font-family=\"Times New Roman,serif\" font-size=\"14.00\">grad 0.0993</text>\n</g>\n<!-- 1563482839984&#45;&gt;1563482839456+ -->\n<g id=\"edge6\" class=\"edge\">\n<title>1563482839984&#45;&gt;1563482839456+</title>\n<path fill=\"none\" stroke=\"black\" d=\"M549.9,-90.75C558.72,-92.14 567.17,-93.46 574.84,-94.67\"/>\n<polygon fill=\"black\" stroke=\"black\" points=\"574.29,-98.12 584.71,-96.22 575.37,-91.21 574.29,-98.12\"/>\n</g>\n<!-- 1563482839984*&#45;&gt;1563482839984 -->\n<g id=\"edge5\" class=\"edge\">\n<title>1563482839984*&#45;&gt;1563482839984</title>\n<path fill=\"none\" stroke=\"black\" d=\"M292.5,-73.5C299.65,-73.5 307.89,-73.5 316.72,-73.5\"/>\n<polygon fill=\"black\" stroke=\"black\" points=\"316.69,-77 326.68,-73.5 316.68,-70 316.69,-77\"/>\n</g>\n</g>\n</svg>\n",
      "text/plain": [
       "<graphviz.graphs.Digraph at 0x16c06d6d4c0>"
      ]
     },
     "execution_count": 21,
     "metadata": {},
     "output_type": "execute_result"
    }
   ],
   "source": [
    "draw_dot(o)"
   ]
  },
  {
   "cell_type": "code",
   "execution_count": 22,
   "metadata": {},
   "outputs": [],
   "source": [
    "#inputs x1,x2\n",
    "x1 = Value(2.0, label='x1')\n",
    "x2 = Value(0.5, label='x2')\n",
    "\n",
    "#weights w1,w2\n",
    "w1 = Value(-3.0, label='w1')\n",
    "w2 = Value(1.0, label='w2')\n",
    "\n",
    "#bias of the neuron\n",
    "b = Value(6.5, label='b')\n",
    "\n",
    "x1w1 = x1*w1; x1w1.label = 'x1*w1'\n",
    "x2w2 = x2*w2; x2w2.label = 'x2*w2'\n",
    "\n",
    "x1w1x2w2 = x1w1 + x2w2; x1w1x2w2.label = 'x1*w1 + x2*w2'\n",
    "\n",
    "n = x1w1x2w2 + b; n.label = 'n'\n",
    "\n",
    "o = n.tanh(); o.label = 'o'"
   ]
  },
  {
   "cell_type": "code",
   "execution_count": 23,
   "metadata": {},
   "outputs": [],
   "source": [
    "o.grad = 1.0\n",
    "\n",
    "o._backward()\n",
    "n._backward()\n",
    "x1w1x2w2._backward()\n",
    "x1w1._backward()\n",
    "x2w2._backward()\n"
   ]
  },
  {
   "cell_type": "code",
   "execution_count": 24,
   "metadata": {},
   "outputs": [
    {
     "data": {
      "image/svg+xml": "<?xml version=\"1.0\" encoding=\"UTF-8\" standalone=\"no\"?>\n<!DOCTYPE svg PUBLIC \"-//W3C//DTD SVG 1.1//EN\"\n \"http://www.w3.org/Graphics/SVG/1.1/DTD/svg11.dtd\">\n<!-- Generated by graphviz version 7.1.0 (20230121.1956)\n -->\n<!-- Pages: 1 -->\n<svg width=\"1586pt\" height=\"210pt\"\n viewBox=\"0.00 0.00 1586.00 210.00\" xmlns=\"http://www.w3.org/2000/svg\" xmlns:xlink=\"http://www.w3.org/1999/xlink\">\n<g id=\"graph0\" class=\"graph\" transform=\"scale(1 1) rotate(0) translate(4 206)\">\n<polygon fill=\"white\" stroke=\"none\" points=\"-4,4 -4,-206 1582,-206 1582,4 -4,4\"/>\n<!-- 1563482802736 -->\n<g id=\"node1\" class=\"node\">\n<title>1563482802736</title>\n<polygon fill=\"none\" stroke=\"black\" points=\"2,-165.5 2,-201.5 200,-201.5 200,-165.5 2,-165.5\"/>\n<text text-anchor=\"middle\" x=\"17\" y=\"-179.8\" font-family=\"Times New Roman,serif\" font-size=\"14.00\">x1</text>\n<polyline fill=\"none\" stroke=\"black\" points=\"32,-165.5 32,-201.5\"/>\n<text text-anchor=\"middle\" x=\"72.5\" y=\"-179.8\" font-family=\"Times New Roman,serif\" font-size=\"14.00\">data 2.0000</text>\n<polyline fill=\"none\" stroke=\"black\" points=\"113,-165.5 113,-201.5\"/>\n<text text-anchor=\"middle\" x=\"156.5\" y=\"-179.8\" font-family=\"Times New Roman,serif\" font-size=\"14.00\">grad &#45;1.2599</text>\n</g>\n<!-- 1563482801968* -->\n<g id=\"node7\" class=\"node\">\n<title>1563482801968*</title>\n<ellipse fill=\"none\" stroke=\"black\" cx=\"265\" cy=\"-128.5\" rx=\"27\" ry=\"18\"/>\n<text text-anchor=\"middle\" x=\"265\" y=\"-124.8\" font-family=\"Times New Roman,serif\" font-size=\"14.00\">*</text>\n</g>\n<!-- 1563482802736&#45;&gt;1563482801968* -->\n<g id=\"edge6\" class=\"edge\">\n<title>1563482802736&#45;&gt;1563482801968*</title>\n<path fill=\"none\" stroke=\"black\" d=\"M173.99,-165.56C183.48,-162.75 193.03,-159.71 202,-156.5 212.1,-152.88 222.83,-148.31 232.49,-143.91\"/>\n<polygon fill=\"black\" stroke=\"black\" points=\"233.88,-147.12 241.46,-139.72 230.92,-140.78 233.88,-147.12\"/>\n</g>\n<!-- 1563482737248 -->\n<g id=\"node2\" class=\"node\">\n<title>1563482737248</title>\n<polygon fill=\"none\" stroke=\"black\" points=\"330.5,-55.5 330.5,-91.5 547.5,-91.5 547.5,-55.5 330.5,-55.5\"/>\n<text text-anchor=\"middle\" x=\"357\" y=\"-69.8\" font-family=\"Times New Roman,serif\" font-size=\"14.00\">x2*w2</text>\n<polyline fill=\"none\" stroke=\"black\" points=\"383.5,-55.5 383.5,-91.5\"/>\n<text text-anchor=\"middle\" x=\"424\" y=\"-69.8\" font-family=\"Times New Roman,serif\" font-size=\"14.00\">data 0.5000</text>\n<polyline fill=\"none\" stroke=\"black\" points=\"464.5,-55.5 464.5,-91.5\"/>\n<text text-anchor=\"middle\" x=\"506\" y=\"-69.8\" font-family=\"Times New Roman,serif\" font-size=\"14.00\">grad 0.4200</text>\n</g>\n<!-- 1563482738016+ -->\n<g id=\"node9\" class=\"node\">\n<title>1563482738016+</title>\n<ellipse fill=\"none\" stroke=\"black\" cx=\"613\" cy=\"-100.5\" rx=\"27\" ry=\"18\"/>\n<text text-anchor=\"middle\" x=\"613\" y=\"-96.8\" font-family=\"Times New Roman,serif\" font-size=\"14.00\">+</text>\n</g>\n<!-- 1563482737248&#45;&gt;1563482738016+ -->\n<g id=\"edge8\" class=\"edge\">\n<title>1563482737248&#45;&gt;1563482738016+</title>\n<path fill=\"none\" stroke=\"black\" d=\"M547.46,-90.37C557.25,-91.91 566.64,-93.38 575.08,-94.7\"/>\n<polygon fill=\"black\" stroke=\"black\" points=\"574.41,-98.14 584.83,-96.23 575.49,-91.23 574.41,-98.14\"/>\n</g>\n<!-- 1563482737248* -->\n<g id=\"node3\" class=\"node\">\n<title>1563482737248*</title>\n<ellipse fill=\"none\" stroke=\"black\" cx=\"265\" cy=\"-73.5\" rx=\"27\" ry=\"18\"/>\n<text text-anchor=\"middle\" x=\"265\" y=\"-69.8\" font-family=\"Times New Roman,serif\" font-size=\"14.00\">*</text>\n</g>\n<!-- 1563482737248*&#45;&gt;1563482737248 -->\n<g id=\"edge1\" class=\"edge\">\n<title>1563482737248*&#45;&gt;1563482737248</title>\n<path fill=\"none\" stroke=\"black\" d=\"M292.5,-73.5C300.37,-73.5 309.55,-73.5 319.4,-73.5\"/>\n<polygon fill=\"black\" stroke=\"black\" points=\"319.25,-77 329.25,-73.5 319.25,-70 319.25,-77\"/>\n</g>\n<!-- 1563482737392 -->\n<g id=\"node4\" class=\"node\">\n<title>1563482737392</title>\n<polygon fill=\"none\" stroke=\"black\" points=\"1077,-54.5 1077,-90.5 1264,-90.5 1264,-54.5 1077,-54.5\"/>\n<text text-anchor=\"middle\" x=\"1088.5\" y=\"-68.8\" font-family=\"Times New Roman,serif\" font-size=\"14.00\">n</text>\n<polyline fill=\"none\" stroke=\"black\" points=\"1100,-54.5 1100,-90.5\"/>\n<text text-anchor=\"middle\" x=\"1140.5\" y=\"-68.8\" font-family=\"Times New Roman,serif\" font-size=\"14.00\">data 1.0000</text>\n<polyline fill=\"none\" stroke=\"black\" points=\"1181,-54.5 1181,-90.5\"/>\n<text text-anchor=\"middle\" x=\"1222.5\" y=\"-68.8\" font-family=\"Times New Roman,serif\" font-size=\"14.00\">grad 0.4200</text>\n</g>\n<!-- 1563482661360tanh -->\n<g id=\"node15\" class=\"node\">\n<title>1563482661360tanh</title>\n<ellipse fill=\"none\" stroke=\"black\" cx=\"1327\" cy=\"-72.5\" rx=\"27\" ry=\"18\"/>\n<text text-anchor=\"middle\" x=\"1327\" y=\"-68.8\" font-family=\"Times New Roman,serif\" font-size=\"14.00\">tanh</text>\n</g>\n<!-- 1563482737392&#45;&gt;1563482661360tanh -->\n<g id=\"edge12\" class=\"edge\">\n<title>1563482737392&#45;&gt;1563482661360tanh</title>\n<path fill=\"none\" stroke=\"black\" d=\"M1263.6,-72.5C1272.26,-72.5 1280.65,-72.5 1288.33,-72.5\"/>\n<polygon fill=\"black\" stroke=\"black\" points=\"1288.23,-76 1298.23,-72.5 1288.23,-69 1288.23,-76\"/>\n</g>\n<!-- 1563482737392+ -->\n<g id=\"node5\" class=\"node\">\n<title>1563482737392+</title>\n<ellipse fill=\"none\" stroke=\"black\" cx=\"1014\" cy=\"-72.5\" rx=\"27\" ry=\"18\"/>\n<text text-anchor=\"middle\" x=\"1014\" y=\"-68.8\" font-family=\"Times New Roman,serif\" font-size=\"14.00\">+</text>\n</g>\n<!-- 1563482737392+&#45;&gt;1563482737392 -->\n<g id=\"edge2\" class=\"edge\">\n<title>1563482737392+&#45;&gt;1563482737392</title>\n<path fill=\"none\" stroke=\"black\" d=\"M1041.21,-72.5C1048.47,-72.5 1056.83,-72.5 1065.71,-72.5\"/>\n<polygon fill=\"black\" stroke=\"black\" points=\"1065.7,-76 1075.7,-72.5 1065.7,-69 1065.7,-76\"/>\n</g>\n<!-- 1563482801968 -->\n<g id=\"node6\" class=\"node\">\n<title>1563482801968</title>\n<polygon fill=\"none\" stroke=\"black\" points=\"328,-110.5 328,-146.5 550,-146.5 550,-110.5 328,-110.5\"/>\n<text text-anchor=\"middle\" x=\"354.5\" y=\"-124.8\" font-family=\"Times New Roman,serif\" font-size=\"14.00\">x1*w1</text>\n<polyline fill=\"none\" stroke=\"black\" points=\"381,-110.5 381,-146.5\"/>\n<text text-anchor=\"middle\" x=\"424\" y=\"-124.8\" font-family=\"Times New Roman,serif\" font-size=\"14.00\">data &#45;6.0000</text>\n<polyline fill=\"none\" stroke=\"black\" points=\"467,-110.5 467,-146.5\"/>\n<text text-anchor=\"middle\" x=\"508.5\" y=\"-124.8\" font-family=\"Times New Roman,serif\" font-size=\"14.00\">grad 0.4200</text>\n</g>\n<!-- 1563482801968&#45;&gt;1563482738016+ -->\n<g id=\"edge13\" class=\"edge\">\n<title>1563482801968&#45;&gt;1563482738016+</title>\n<path fill=\"none\" stroke=\"black\" d=\"M549.9,-110.61C558.91,-109.14 567.54,-107.74 575.34,-106.47\"/>\n<polygon fill=\"black\" stroke=\"black\" points=\"575.7,-109.95 585.01,-104.89 574.58,-103.05 575.7,-109.95\"/>\n</g>\n<!-- 1563482801968*&#45;&gt;1563482801968 -->\n<g id=\"edge3\" class=\"edge\">\n<title>1563482801968*&#45;&gt;1563482801968</title>\n<path fill=\"none\" stroke=\"black\" d=\"M292.5,-128.5C299.65,-128.5 307.89,-128.5 316.72,-128.5\"/>\n<polygon fill=\"black\" stroke=\"black\" points=\"316.69,-132 326.68,-128.5 316.68,-125 316.69,-132\"/>\n</g>\n<!-- 1563482738016 -->\n<g id=\"node8\" class=\"node\">\n<title>1563482738016</title>\n<polygon fill=\"none\" stroke=\"black\" points=\"676,-82.5 676,-118.5 951,-118.5 951,-82.5 676,-82.5\"/>\n<text text-anchor=\"middle\" x=\"729\" y=\"-96.8\" font-family=\"Times New Roman,serif\" font-size=\"14.00\">x1*w1 + x2*w2</text>\n<polyline fill=\"none\" stroke=\"black\" points=\"782,-82.5 782,-118.5\"/>\n<text text-anchor=\"middle\" x=\"825\" y=\"-96.8\" font-family=\"Times New Roman,serif\" font-size=\"14.00\">data &#45;5.5000</text>\n<polyline fill=\"none\" stroke=\"black\" points=\"868,-82.5 868,-118.5\"/>\n<text text-anchor=\"middle\" x=\"909.5\" y=\"-96.8\" font-family=\"Times New Roman,serif\" font-size=\"14.00\">grad 0.4200</text>\n</g>\n<!-- 1563482738016&#45;&gt;1563482737392+ -->\n<g id=\"edge7\" class=\"edge\">\n<title>1563482738016&#45;&gt;1563482737392+</title>\n<path fill=\"none\" stroke=\"black\" d=\"M941.9,-82.53C954.16,-80.8 965.8,-79.16 975.98,-77.72\"/>\n<polygon fill=\"black\" stroke=\"black\" points=\"976.29,-81.21 985.7,-76.35 975.31,-74.28 976.29,-81.21\"/>\n</g>\n<!-- 1563482738016+&#45;&gt;1563482738016 -->\n<g id=\"edge4\" class=\"edge\">\n<title>1563482738016+&#45;&gt;1563482738016</title>\n<path fill=\"none\" stroke=\"black\" d=\"M640.36,-100.5C647.56,-100.5 655.89,-100.5 664.94,-100.5\"/>\n<polygon fill=\"black\" stroke=\"black\" points=\"664.78,-104 674.78,-100.5 664.78,-97 664.78,-104\"/>\n</g>\n<!-- 1563482801008 -->\n<g id=\"node10\" class=\"node\">\n<title>1563482801008</title>\n<polygon fill=\"none\" stroke=\"black\" points=\"4,-55.5 4,-91.5 198,-91.5 198,-55.5 4,-55.5\"/>\n<text text-anchor=\"middle\" x=\"19\" y=\"-69.8\" font-family=\"Times New Roman,serif\" font-size=\"14.00\">x2</text>\n<polyline fill=\"none\" stroke=\"black\" points=\"34,-55.5 34,-91.5\"/>\n<text text-anchor=\"middle\" x=\"74.5\" y=\"-69.8\" font-family=\"Times New Roman,serif\" font-size=\"14.00\">data 0.5000</text>\n<polyline fill=\"none\" stroke=\"black\" points=\"115,-55.5 115,-91.5\"/>\n<text text-anchor=\"middle\" x=\"156.5\" y=\"-69.8\" font-family=\"Times New Roman,serif\" font-size=\"14.00\">grad 0.4200</text>\n</g>\n<!-- 1563482801008&#45;&gt;1563482737248* -->\n<g id=\"edge9\" class=\"edge\">\n<title>1563482801008&#45;&gt;1563482737248*</title>\n<path fill=\"none\" stroke=\"black\" d=\"M197.64,-73.5C207.72,-73.5 217.49,-73.5 226.29,-73.5\"/>\n<polygon fill=\"black\" stroke=\"black\" points=\"226.11,-77 236.11,-73.5 226.11,-70 226.11,-77\"/>\n</g>\n<!-- 1563482802544 -->\n<g id=\"node11\" class=\"node\">\n<title>1563482802544</title>\n<polygon fill=\"none\" stroke=\"black\" points=\"719.5,-27.5 719.5,-63.5 907.5,-63.5 907.5,-27.5 719.5,-27.5\"/>\n<text text-anchor=\"middle\" x=\"731.5\" y=\"-41.8\" font-family=\"Times New Roman,serif\" font-size=\"14.00\">b</text>\n<polyline fill=\"none\" stroke=\"black\" points=\"743.5,-27.5 743.5,-63.5\"/>\n<text text-anchor=\"middle\" x=\"784\" y=\"-41.8\" font-family=\"Times New Roman,serif\" font-size=\"14.00\">data 6.5000</text>\n<polyline fill=\"none\" stroke=\"black\" points=\"824.5,-27.5 824.5,-63.5\"/>\n<text text-anchor=\"middle\" x=\"866\" y=\"-41.8\" font-family=\"Times New Roman,serif\" font-size=\"14.00\">grad 0.4200</text>\n</g>\n<!-- 1563482802544&#45;&gt;1563482737392+ -->\n<g id=\"edge11\" class=\"edge\">\n<title>1563482802544&#45;&gt;1563482737392+</title>\n<path fill=\"none\" stroke=\"black\" d=\"M907.36,-58.13C931.59,-61.43 956.33,-64.79 975.77,-67.44\"/>\n<polygon fill=\"black\" stroke=\"black\" points=\"975.26,-70.9 985.64,-68.78 976.21,-63.96 975.26,-70.9\"/>\n</g>\n<!-- 1563482800528 -->\n<g id=\"node12\" class=\"node\">\n<title>1563482800528</title>\n<polygon fill=\"none\" stroke=\"black\" points=\"2.5,-0.5 2.5,-36.5 199.5,-36.5 199.5,-0.5 2.5,-0.5\"/>\n<text text-anchor=\"middle\" x=\"19\" y=\"-14.8\" font-family=\"Times New Roman,serif\" font-size=\"14.00\">w2</text>\n<polyline fill=\"none\" stroke=\"black\" points=\"35.5,-0.5 35.5,-36.5\"/>\n<text text-anchor=\"middle\" x=\"76\" y=\"-14.8\" font-family=\"Times New Roman,serif\" font-size=\"14.00\">data 1.0000</text>\n<polyline fill=\"none\" stroke=\"black\" points=\"116.5,-0.5 116.5,-36.5\"/>\n<text text-anchor=\"middle\" x=\"158\" y=\"-14.8\" font-family=\"Times New Roman,serif\" font-size=\"14.00\">grad 0.2100</text>\n</g>\n<!-- 1563482800528&#45;&gt;1563482737248* -->\n<g id=\"edge10\" class=\"edge\">\n<title>1563482800528&#45;&gt;1563482737248*</title>\n<path fill=\"none\" stroke=\"black\" d=\"M170.98,-36.47C181.45,-39.58 192.06,-42.96 202,-46.5 211.97,-50.05 222.6,-54.44 232.19,-58.65\"/>\n<polygon fill=\"black\" stroke=\"black\" points=\"230.55,-61.75 241.11,-62.64 233.41,-55.36 230.55,-61.75\"/>\n</g>\n<!-- 1563482802112 -->\n<g id=\"node13\" class=\"node\">\n<title>1563482802112</title>\n<polygon fill=\"none\" stroke=\"black\" points=\"0,-110.5 0,-146.5 202,-146.5 202,-110.5 0,-110.5\"/>\n<text text-anchor=\"middle\" x=\"16.5\" y=\"-124.8\" font-family=\"Times New Roman,serif\" font-size=\"14.00\">w1</text>\n<polyline fill=\"none\" stroke=\"black\" points=\"33,-110.5 33,-146.5\"/>\n<text text-anchor=\"middle\" x=\"76\" y=\"-124.8\" font-family=\"Times New Roman,serif\" font-size=\"14.00\">data &#45;3.0000</text>\n<polyline fill=\"none\" stroke=\"black\" points=\"119,-110.5 119,-146.5\"/>\n<text text-anchor=\"middle\" x=\"160.5\" y=\"-124.8\" font-family=\"Times New Roman,serif\" font-size=\"14.00\">grad 0.8399</text>\n</g>\n<!-- 1563482802112&#45;&gt;1563482801968* -->\n<g id=\"edge14\" class=\"edge\">\n<title>1563482802112&#45;&gt;1563482801968*</title>\n<path fill=\"none\" stroke=\"black\" d=\"M201.83,-128.5C210.46,-128.5 218.79,-128.5 226.4,-128.5\"/>\n<polygon fill=\"black\" stroke=\"black\" points=\"226.18,-132 236.18,-128.5 226.18,-125 226.18,-132\"/>\n</g>\n<!-- 1563482661360 -->\n<g id=\"node14\" class=\"node\">\n<title>1563482661360</title>\n<polygon fill=\"none\" stroke=\"black\" points=\"1390,-54.5 1390,-90.5 1578,-90.5 1578,-54.5 1390,-54.5\"/>\n<text text-anchor=\"middle\" x=\"1402\" y=\"-68.8\" font-family=\"Times New Roman,serif\" font-size=\"14.00\">o</text>\n<polyline fill=\"none\" stroke=\"black\" points=\"1414,-54.5 1414,-90.5\"/>\n<text text-anchor=\"middle\" x=\"1454.5\" y=\"-68.8\" font-family=\"Times New Roman,serif\" font-size=\"14.00\">data 0.7616</text>\n<polyline fill=\"none\" stroke=\"black\" points=\"1495,-54.5 1495,-90.5\"/>\n<text text-anchor=\"middle\" x=\"1536.5\" y=\"-68.8\" font-family=\"Times New Roman,serif\" font-size=\"14.00\">grad 1.0000</text>\n</g>\n<!-- 1563482661360tanh&#45;&gt;1563482661360 -->\n<g id=\"edge5\" class=\"edge\">\n<title>1563482661360tanh&#45;&gt;1563482661360</title>\n<path fill=\"none\" stroke=\"black\" d=\"M1354.29,-72.5C1361.52,-72.5 1369.82,-72.5 1378.66,-72.5\"/>\n<polygon fill=\"black\" stroke=\"black\" points=\"1378.57,-76 1388.57,-72.5 1378.57,-69 1378.57,-76\"/>\n</g>\n</g>\n</svg>\n",
      "text/plain": [
       "<graphviz.graphs.Digraph at 0x16c06d64a90>"
      ]
     },
     "execution_count": 24,
     "metadata": {},
     "output_type": "execute_result"
    }
   ],
   "source": [
    "draw_dot(o)"
   ]
  },
  {
   "cell_type": "code",
   "execution_count": 25,
   "metadata": {},
   "outputs": [],
   "source": [
    "#inputs x1,x2\n",
    "x1 = Value(2.0, label='x1')\n",
    "x2 = Value(0.5, label='x2')\n",
    "\n",
    "#weights w1,w2\n",
    "w1 = Value(-3.0, label='w1')\n",
    "w2 = Value(1.0, label='w2')\n",
    "\n",
    "#bias of the neuron\n",
    "b = Value(6.5, label='b')\n",
    "\n",
    "x1w1 = x1*w1; x1w1.label = 'x1*w1'\n",
    "x2w2 = x2*w2; x2w2.label = 'x2*w2'\n",
    "\n",
    "x1w1x2w2 = x1w1 + x2w2; x1w1x2w2.label = 'x1*w1 + x2*w2'\n",
    "\n",
    "n = x1w1x2w2 + b; n.label = 'n'\n",
    "\n",
    "o = n.tanh(); o.label = 'o'"
   ]
  },
  {
   "cell_type": "code",
   "execution_count": 26,
   "metadata": {},
   "outputs": [
    {
     "data": {
      "text/plain": [
       "[Value(data=0.7615941559557649),\n",
       " Value(data=1.0),\n",
       " Value(data=-5.5),\n",
       " Value(data=0.5),\n",
       " Value(data=0.5),\n",
       " Value(data=1.0),\n",
       " Value(data=-6.0),\n",
       " Value(data=2.0),\n",
       " Value(data=-3.0),\n",
       " Value(data=6.5)]"
      ]
     },
     "execution_count": 26,
     "metadata": {},
     "output_type": "execute_result"
    }
   ],
   "source": [
    "topo = []\n",
    "visited = set()\n",
    "def build_topo(v):\n",
    "    if v not in visited:\n",
    "        visited.add(v)\n",
    "        topo.append(v)\n",
    "        for child in v._prev:\n",
    "            build_topo(child)\n",
    "\n",
    "build_topo(o)\n",
    "topo"
   ]
  },
  {
   "cell_type": "code",
   "execution_count": 27,
   "metadata": {},
   "outputs": [],
   "source": [
    "o.grad = 1.0\n",
    "for i in topo:\n",
    "    i._backward()\n"
   ]
  },
  {
   "cell_type": "code",
   "execution_count": 28,
   "metadata": {},
   "outputs": [
    {
     "data": {
      "image/svg+xml": "<?xml version=\"1.0\" encoding=\"UTF-8\" standalone=\"no\"?>\n<!DOCTYPE svg PUBLIC \"-//W3C//DTD SVG 1.1//EN\"\n \"http://www.w3.org/Graphics/SVG/1.1/DTD/svg11.dtd\">\n<!-- Generated by graphviz version 7.1.0 (20230121.1956)\n -->\n<!-- Pages: 1 -->\n<svg width=\"1586pt\" height=\"210pt\"\n viewBox=\"0.00 0.00 1586.00 210.00\" xmlns=\"http://www.w3.org/2000/svg\" xmlns:xlink=\"http://www.w3.org/1999/xlink\">\n<g id=\"graph0\" class=\"graph\" transform=\"scale(1 1) rotate(0) translate(4 206)\">\n<polygon fill=\"white\" stroke=\"none\" points=\"-4,4 -4,-206 1582,-206 1582,4 -4,4\"/>\n<!-- 1563482837536 -->\n<g id=\"node1\" class=\"node\">\n<title>1563482837536</title>\n<polygon fill=\"none\" stroke=\"black\" points=\"2,-165.5 2,-201.5 200,-201.5 200,-165.5 2,-165.5\"/>\n<text text-anchor=\"middle\" x=\"17\" y=\"-179.8\" font-family=\"Times New Roman,serif\" font-size=\"14.00\">x1</text>\n<polyline fill=\"none\" stroke=\"black\" points=\"32,-165.5 32,-201.5\"/>\n<text text-anchor=\"middle\" x=\"72.5\" y=\"-179.8\" font-family=\"Times New Roman,serif\" font-size=\"14.00\">data 2.0000</text>\n<polyline fill=\"none\" stroke=\"black\" points=\"113,-165.5 113,-201.5\"/>\n<text text-anchor=\"middle\" x=\"156.5\" y=\"-179.8\" font-family=\"Times New Roman,serif\" font-size=\"14.00\">grad &#45;1.2599</text>\n</g>\n<!-- 1563482837344* -->\n<g id=\"node14\" class=\"node\">\n<title>1563482837344*</title>\n<ellipse fill=\"none\" stroke=\"black\" cx=\"265\" cy=\"-128.5\" rx=\"27\" ry=\"18\"/>\n<text text-anchor=\"middle\" x=\"265\" y=\"-124.8\" font-family=\"Times New Roman,serif\" font-size=\"14.00\">*</text>\n</g>\n<!-- 1563482837536&#45;&gt;1563482837344* -->\n<g id=\"edge11\" class=\"edge\">\n<title>1563482837536&#45;&gt;1563482837344*</title>\n<path fill=\"none\" stroke=\"black\" d=\"M173.99,-165.56C183.48,-162.75 193.03,-159.71 202,-156.5 212.1,-152.88 222.83,-148.31 232.49,-143.91\"/>\n<polygon fill=\"black\" stroke=\"black\" points=\"233.88,-147.12 241.46,-139.72 230.92,-140.78 233.88,-147.12\"/>\n</g>\n<!-- 1563482800192 -->\n<g id=\"node2\" class=\"node\">\n<title>1563482800192</title>\n<polygon fill=\"none\" stroke=\"black\" points=\"1390,-54.5 1390,-90.5 1578,-90.5 1578,-54.5 1390,-54.5\"/>\n<text text-anchor=\"middle\" x=\"1402\" y=\"-68.8\" font-family=\"Times New Roman,serif\" font-size=\"14.00\">o</text>\n<polyline fill=\"none\" stroke=\"black\" points=\"1414,-54.5 1414,-90.5\"/>\n<text text-anchor=\"middle\" x=\"1454.5\" y=\"-68.8\" font-family=\"Times New Roman,serif\" font-size=\"14.00\">data 0.7616</text>\n<polyline fill=\"none\" stroke=\"black\" points=\"1495,-54.5 1495,-90.5\"/>\n<text text-anchor=\"middle\" x=\"1536.5\" y=\"-68.8\" font-family=\"Times New Roman,serif\" font-size=\"14.00\">grad 1.0000</text>\n</g>\n<!-- 1563482800192tanh -->\n<g id=\"node3\" class=\"node\">\n<title>1563482800192tanh</title>\n<ellipse fill=\"none\" stroke=\"black\" cx=\"1327\" cy=\"-72.5\" rx=\"27\" ry=\"18\"/>\n<text text-anchor=\"middle\" x=\"1327\" y=\"-68.8\" font-family=\"Times New Roman,serif\" font-size=\"14.00\">tanh</text>\n</g>\n<!-- 1563482800192tanh&#45;&gt;1563482800192 -->\n<g id=\"edge1\" class=\"edge\">\n<title>1563482800192tanh&#45;&gt;1563482800192</title>\n<path fill=\"none\" stroke=\"black\" d=\"M1354.29,-72.5C1361.52,-72.5 1369.82,-72.5 1378.66,-72.5\"/>\n<polygon fill=\"black\" stroke=\"black\" points=\"1378.57,-76 1388.57,-72.5 1378.57,-69 1378.57,-76\"/>\n</g>\n<!-- 1563482837056 -->\n<g id=\"node4\" class=\"node\">\n<title>1563482837056</title>\n<polygon fill=\"none\" stroke=\"black\" points=\"719.5,-27.5 719.5,-63.5 907.5,-63.5 907.5,-27.5 719.5,-27.5\"/>\n<text text-anchor=\"middle\" x=\"731.5\" y=\"-41.8\" font-family=\"Times New Roman,serif\" font-size=\"14.00\">b</text>\n<polyline fill=\"none\" stroke=\"black\" points=\"743.5,-27.5 743.5,-63.5\"/>\n<text text-anchor=\"middle\" x=\"784\" y=\"-41.8\" font-family=\"Times New Roman,serif\" font-size=\"14.00\">data 6.5000</text>\n<polyline fill=\"none\" stroke=\"black\" points=\"824.5,-27.5 824.5,-63.5\"/>\n<text text-anchor=\"middle\" x=\"866\" y=\"-41.8\" font-family=\"Times New Roman,serif\" font-size=\"14.00\">grad 0.4200</text>\n</g>\n<!-- 1563482803360+ -->\n<g id=\"node6\" class=\"node\">\n<title>1563482803360+</title>\n<ellipse fill=\"none\" stroke=\"black\" cx=\"1014\" cy=\"-72.5\" rx=\"27\" ry=\"18\"/>\n<text text-anchor=\"middle\" x=\"1014\" y=\"-68.8\" font-family=\"Times New Roman,serif\" font-size=\"14.00\">+</text>\n</g>\n<!-- 1563482837056&#45;&gt;1563482803360+ -->\n<g id=\"edge14\" class=\"edge\">\n<title>1563482837056&#45;&gt;1563482803360+</title>\n<path fill=\"none\" stroke=\"black\" d=\"M907.36,-58.13C931.59,-61.43 956.33,-64.79 975.77,-67.44\"/>\n<polygon fill=\"black\" stroke=\"black\" points=\"975.26,-70.9 985.64,-68.78 976.21,-63.96 975.26,-70.9\"/>\n</g>\n<!-- 1563482803360 -->\n<g id=\"node5\" class=\"node\">\n<title>1563482803360</title>\n<polygon fill=\"none\" stroke=\"black\" points=\"1077,-54.5 1077,-90.5 1264,-90.5 1264,-54.5 1077,-54.5\"/>\n<text text-anchor=\"middle\" x=\"1088.5\" y=\"-68.8\" font-family=\"Times New Roman,serif\" font-size=\"14.00\">n</text>\n<polyline fill=\"none\" stroke=\"black\" points=\"1100,-54.5 1100,-90.5\"/>\n<text text-anchor=\"middle\" x=\"1140.5\" y=\"-68.8\" font-family=\"Times New Roman,serif\" font-size=\"14.00\">data 1.0000</text>\n<polyline fill=\"none\" stroke=\"black\" points=\"1181,-54.5 1181,-90.5\"/>\n<text text-anchor=\"middle\" x=\"1222.5\" y=\"-68.8\" font-family=\"Times New Roman,serif\" font-size=\"14.00\">grad 0.4200</text>\n</g>\n<!-- 1563482803360&#45;&gt;1563482800192tanh -->\n<g id=\"edge8\" class=\"edge\">\n<title>1563482803360&#45;&gt;1563482800192tanh</title>\n<path fill=\"none\" stroke=\"black\" d=\"M1263.6,-72.5C1272.26,-72.5 1280.65,-72.5 1288.33,-72.5\"/>\n<polygon fill=\"black\" stroke=\"black\" points=\"1288.23,-76 1298.23,-72.5 1288.23,-69 1288.23,-76\"/>\n</g>\n<!-- 1563482803360+&#45;&gt;1563482803360 -->\n<g id=\"edge2\" class=\"edge\">\n<title>1563482803360+&#45;&gt;1563482803360</title>\n<path fill=\"none\" stroke=\"black\" d=\"M1041.21,-72.5C1048.47,-72.5 1056.83,-72.5 1065.71,-72.5\"/>\n<polygon fill=\"black\" stroke=\"black\" points=\"1065.7,-76 1075.7,-72.5 1065.7,-69 1065.7,-76\"/>\n</g>\n<!-- 1563482837728 -->\n<g id=\"node7\" class=\"node\">\n<title>1563482837728</title>\n<polygon fill=\"none\" stroke=\"black\" points=\"0,-110.5 0,-146.5 202,-146.5 202,-110.5 0,-110.5\"/>\n<text text-anchor=\"middle\" x=\"16.5\" y=\"-124.8\" font-family=\"Times New Roman,serif\" font-size=\"14.00\">w1</text>\n<polyline fill=\"none\" stroke=\"black\" points=\"33,-110.5 33,-146.5\"/>\n<text text-anchor=\"middle\" x=\"76\" y=\"-124.8\" font-family=\"Times New Roman,serif\" font-size=\"14.00\">data &#45;3.0000</text>\n<polyline fill=\"none\" stroke=\"black\" points=\"119,-110.5 119,-146.5\"/>\n<text text-anchor=\"middle\" x=\"160.5\" y=\"-124.8\" font-family=\"Times New Roman,serif\" font-size=\"14.00\">grad 0.8399</text>\n</g>\n<!-- 1563482837728&#45;&gt;1563482837344* -->\n<g id=\"edge13\" class=\"edge\">\n<title>1563482837728&#45;&gt;1563482837344*</title>\n<path fill=\"none\" stroke=\"black\" d=\"M201.83,-128.5C210.46,-128.5 218.79,-128.5 226.4,-128.5\"/>\n<polygon fill=\"black\" stroke=\"black\" points=\"226.18,-132 236.18,-128.5 226.18,-125 226.18,-132\"/>\n</g>\n<!-- 1563482838256 -->\n<g id=\"node8\" class=\"node\">\n<title>1563482838256</title>\n<polygon fill=\"none\" stroke=\"black\" points=\"2.5,-55.5 2.5,-91.5 199.5,-91.5 199.5,-55.5 2.5,-55.5\"/>\n<text text-anchor=\"middle\" x=\"19\" y=\"-69.8\" font-family=\"Times New Roman,serif\" font-size=\"14.00\">w2</text>\n<polyline fill=\"none\" stroke=\"black\" points=\"35.5,-55.5 35.5,-91.5\"/>\n<text text-anchor=\"middle\" x=\"76\" y=\"-69.8\" font-family=\"Times New Roman,serif\" font-size=\"14.00\">data 1.0000</text>\n<polyline fill=\"none\" stroke=\"black\" points=\"116.5,-55.5 116.5,-91.5\"/>\n<text text-anchor=\"middle\" x=\"158\" y=\"-69.8\" font-family=\"Times New Roman,serif\" font-size=\"14.00\">grad 0.2100</text>\n</g>\n<!-- 1563482800960* -->\n<g id=\"node12\" class=\"node\">\n<title>1563482800960*</title>\n<ellipse fill=\"none\" stroke=\"black\" cx=\"265\" cy=\"-73.5\" rx=\"27\" ry=\"18\"/>\n<text text-anchor=\"middle\" x=\"265\" y=\"-69.8\" font-family=\"Times New Roman,serif\" font-size=\"14.00\">*</text>\n</g>\n<!-- 1563482838256&#45;&gt;1563482800960* -->\n<g id=\"edge7\" class=\"edge\">\n<title>1563482838256&#45;&gt;1563482800960*</title>\n<path fill=\"none\" stroke=\"black\" d=\"M199.04,-73.5C208.66,-73.5 217.96,-73.5 226.38,-73.5\"/>\n<polygon fill=\"black\" stroke=\"black\" points=\"226.12,-77 236.12,-73.5 226.12,-70 226.12,-77\"/>\n</g>\n<!-- 1563482803984 -->\n<g id=\"node9\" class=\"node\">\n<title>1563482803984</title>\n<polygon fill=\"none\" stroke=\"black\" points=\"676,-82.5 676,-118.5 951,-118.5 951,-82.5 676,-82.5\"/>\n<text text-anchor=\"middle\" x=\"729\" y=\"-96.8\" font-family=\"Times New Roman,serif\" font-size=\"14.00\">x1*w1 + x2*w2</text>\n<polyline fill=\"none\" stroke=\"black\" points=\"782,-82.5 782,-118.5\"/>\n<text text-anchor=\"middle\" x=\"825\" y=\"-96.8\" font-family=\"Times New Roman,serif\" font-size=\"14.00\">data &#45;5.5000</text>\n<polyline fill=\"none\" stroke=\"black\" points=\"868,-82.5 868,-118.5\"/>\n<text text-anchor=\"middle\" x=\"909.5\" y=\"-96.8\" font-family=\"Times New Roman,serif\" font-size=\"14.00\">grad 0.4200</text>\n</g>\n<!-- 1563482803984&#45;&gt;1563482803360+ -->\n<g id=\"edge6\" class=\"edge\">\n<title>1563482803984&#45;&gt;1563482803360+</title>\n<path fill=\"none\" stroke=\"black\" d=\"M941.9,-82.53C954.16,-80.8 965.8,-79.16 975.98,-77.72\"/>\n<polygon fill=\"black\" stroke=\"black\" points=\"976.29,-81.21 985.7,-76.35 975.31,-74.28 976.29,-81.21\"/>\n</g>\n<!-- 1563482803984+ -->\n<g id=\"node10\" class=\"node\">\n<title>1563482803984+</title>\n<ellipse fill=\"none\" stroke=\"black\" cx=\"613\" cy=\"-100.5\" rx=\"27\" ry=\"18\"/>\n<text text-anchor=\"middle\" x=\"613\" y=\"-96.8\" font-family=\"Times New Roman,serif\" font-size=\"14.00\">+</text>\n</g>\n<!-- 1563482803984+&#45;&gt;1563482803984 -->\n<g id=\"edge3\" class=\"edge\">\n<title>1563482803984+&#45;&gt;1563482803984</title>\n<path fill=\"none\" stroke=\"black\" d=\"M640.36,-100.5C647.56,-100.5 655.89,-100.5 664.94,-100.5\"/>\n<polygon fill=\"black\" stroke=\"black\" points=\"664.78,-104 674.78,-100.5 664.78,-97 664.78,-104\"/>\n</g>\n<!-- 1563482800960 -->\n<g id=\"node11\" class=\"node\">\n<title>1563482800960</title>\n<polygon fill=\"none\" stroke=\"black\" points=\"330.5,-55.5 330.5,-91.5 547.5,-91.5 547.5,-55.5 330.5,-55.5\"/>\n<text text-anchor=\"middle\" x=\"357\" y=\"-69.8\" font-family=\"Times New Roman,serif\" font-size=\"14.00\">x2*w2</text>\n<polyline fill=\"none\" stroke=\"black\" points=\"383.5,-55.5 383.5,-91.5\"/>\n<text text-anchor=\"middle\" x=\"424\" y=\"-69.8\" font-family=\"Times New Roman,serif\" font-size=\"14.00\">data 0.5000</text>\n<polyline fill=\"none\" stroke=\"black\" points=\"464.5,-55.5 464.5,-91.5\"/>\n<text text-anchor=\"middle\" x=\"506\" y=\"-69.8\" font-family=\"Times New Roman,serif\" font-size=\"14.00\">grad 0.4200</text>\n</g>\n<!-- 1563482800960&#45;&gt;1563482803984+ -->\n<g id=\"edge12\" class=\"edge\">\n<title>1563482800960&#45;&gt;1563482803984+</title>\n<path fill=\"none\" stroke=\"black\" d=\"M547.46,-90.37C557.25,-91.91 566.64,-93.38 575.08,-94.7\"/>\n<polygon fill=\"black\" stroke=\"black\" points=\"574.41,-98.14 584.83,-96.23 575.49,-91.23 574.41,-98.14\"/>\n</g>\n<!-- 1563482800960*&#45;&gt;1563482800960 -->\n<g id=\"edge4\" class=\"edge\">\n<title>1563482800960*&#45;&gt;1563482800960</title>\n<path fill=\"none\" stroke=\"black\" d=\"M292.5,-73.5C300.37,-73.5 309.55,-73.5 319.4,-73.5\"/>\n<polygon fill=\"black\" stroke=\"black\" points=\"319.25,-77 329.25,-73.5 319.25,-70 319.25,-77\"/>\n</g>\n<!-- 1563482837344 -->\n<g id=\"node13\" class=\"node\">\n<title>1563482837344</title>\n<polygon fill=\"none\" stroke=\"black\" points=\"328,-110.5 328,-146.5 550,-146.5 550,-110.5 328,-110.5\"/>\n<text text-anchor=\"middle\" x=\"354.5\" y=\"-124.8\" font-family=\"Times New Roman,serif\" font-size=\"14.00\">x1*w1</text>\n<polyline fill=\"none\" stroke=\"black\" points=\"381,-110.5 381,-146.5\"/>\n<text text-anchor=\"middle\" x=\"424\" y=\"-124.8\" font-family=\"Times New Roman,serif\" font-size=\"14.00\">data &#45;6.0000</text>\n<polyline fill=\"none\" stroke=\"black\" points=\"467,-110.5 467,-146.5\"/>\n<text text-anchor=\"middle\" x=\"508.5\" y=\"-124.8\" font-family=\"Times New Roman,serif\" font-size=\"14.00\">grad 0.4200</text>\n</g>\n<!-- 1563482837344&#45;&gt;1563482803984+ -->\n<g id=\"edge10\" class=\"edge\">\n<title>1563482837344&#45;&gt;1563482803984+</title>\n<path fill=\"none\" stroke=\"black\" d=\"M549.9,-110.61C558.91,-109.14 567.54,-107.74 575.34,-106.47\"/>\n<polygon fill=\"black\" stroke=\"black\" points=\"575.7,-109.95 585.01,-104.89 574.58,-103.05 575.7,-109.95\"/>\n</g>\n<!-- 1563482837344*&#45;&gt;1563482837344 -->\n<g id=\"edge5\" class=\"edge\">\n<title>1563482837344*&#45;&gt;1563482837344</title>\n<path fill=\"none\" stroke=\"black\" d=\"M292.5,-128.5C299.65,-128.5 307.89,-128.5 316.72,-128.5\"/>\n<polygon fill=\"black\" stroke=\"black\" points=\"316.69,-132 326.68,-128.5 316.68,-125 316.69,-132\"/>\n</g>\n<!-- 1563482837920 -->\n<g id=\"node15\" class=\"node\">\n<title>1563482837920</title>\n<polygon fill=\"none\" stroke=\"black\" points=\"4,-0.5 4,-36.5 198,-36.5 198,-0.5 4,-0.5\"/>\n<text text-anchor=\"middle\" x=\"19\" y=\"-14.8\" font-family=\"Times New Roman,serif\" font-size=\"14.00\">x2</text>\n<polyline fill=\"none\" stroke=\"black\" points=\"34,-0.5 34,-36.5\"/>\n<text text-anchor=\"middle\" x=\"74.5\" y=\"-14.8\" font-family=\"Times New Roman,serif\" font-size=\"14.00\">data 0.5000</text>\n<polyline fill=\"none\" stroke=\"black\" points=\"115,-0.5 115,-36.5\"/>\n<text text-anchor=\"middle\" x=\"156.5\" y=\"-14.8\" font-family=\"Times New Roman,serif\" font-size=\"14.00\">grad 0.4200</text>\n</g>\n<!-- 1563482837920&#45;&gt;1563482800960* -->\n<g id=\"edge9\" class=\"edge\">\n<title>1563482837920&#45;&gt;1563482800960*</title>\n<path fill=\"none\" stroke=\"black\" d=\"M170.98,-36.47C181.45,-39.58 192.06,-42.96 202,-46.5 211.97,-50.05 222.6,-54.44 232.19,-58.65\"/>\n<polygon fill=\"black\" stroke=\"black\" points=\"230.55,-61.75 241.11,-62.64 233.41,-55.36 230.55,-61.75\"/>\n</g>\n</g>\n</svg>\n",
      "text/plain": [
       "<graphviz.graphs.Digraph at 0x16c06d64130>"
      ]
     },
     "execution_count": 28,
     "metadata": {},
     "output_type": "execute_result"
    }
   ],
   "source": [
    "draw_dot(o)"
   ]
  },
  {
   "cell_type": "code",
   "execution_count": 29,
   "metadata": {},
   "outputs": [],
   "source": [
    "#inputs x1,x2\n",
    "x1 = Value(2.0, label='x1')\n",
    "x2 = Value(0.5, label='x2')\n",
    "\n",
    "#weights w1,w2\n",
    "w1 = Value(-3.0, label='w1')\n",
    "w2 = Value(1.0, label='w2')\n",
    "\n",
    "#bias of the neuron\n",
    "b = Value(6.5, label='b')\n",
    "\n",
    "x1w1 = x1*w1; x1w1.label = 'x1*w1'\n",
    "x2w2 = x2*w2; x2w2.label = 'x2*w2'\n",
    "\n",
    "x1w1x2w2 = x1w1 + x2w2; x1w1x2w2.label = 'x1*w1 + x2*w2'\n",
    "\n",
    "n = x1w1x2w2 + b; n.label = 'n'\n",
    "\n",
    "o = n.tanh(); o.label = 'o'"
   ]
  },
  {
   "cell_type": "code",
   "execution_count": 30,
   "metadata": {},
   "outputs": [],
   "source": [
    "o.backward()"
   ]
  },
  {
   "cell_type": "code",
   "execution_count": 31,
   "metadata": {},
   "outputs": [
    {
     "data": {
      "image/svg+xml": "<?xml version=\"1.0\" encoding=\"UTF-8\" standalone=\"no\"?>\n<!DOCTYPE svg PUBLIC \"-//W3C//DTD SVG 1.1//EN\"\n \"http://www.w3.org/Graphics/SVG/1.1/DTD/svg11.dtd\">\n<!-- Generated by graphviz version 7.1.0 (20230121.1956)\n -->\n<!-- Pages: 1 -->\n<svg width=\"1586pt\" height=\"210pt\"\n viewBox=\"0.00 0.00 1586.00 210.00\" xmlns=\"http://www.w3.org/2000/svg\" xmlns:xlink=\"http://www.w3.org/1999/xlink\">\n<g id=\"graph0\" class=\"graph\" transform=\"scale(1 1) rotate(0) translate(4 206)\">\n<polygon fill=\"white\" stroke=\"none\" points=\"-4,4 -4,-206 1582,-206 1582,4 -4,4\"/>\n<!-- 1563482837584 -->\n<g id=\"node1\" class=\"node\">\n<title>1563482837584</title>\n<polygon fill=\"none\" stroke=\"black\" points=\"2.5,-165.5 2.5,-201.5 199.5,-201.5 199.5,-165.5 2.5,-165.5\"/>\n<text text-anchor=\"middle\" x=\"19\" y=\"-179.8\" font-family=\"Times New Roman,serif\" font-size=\"14.00\">w2</text>\n<polyline fill=\"none\" stroke=\"black\" points=\"35.5,-165.5 35.5,-201.5\"/>\n<text text-anchor=\"middle\" x=\"76\" y=\"-179.8\" font-family=\"Times New Roman,serif\" font-size=\"14.00\">data 1.0000</text>\n<polyline fill=\"none\" stroke=\"black\" points=\"116.5,-165.5 116.5,-201.5\"/>\n<text text-anchor=\"middle\" x=\"158\" y=\"-179.8\" font-family=\"Times New Roman,serif\" font-size=\"14.00\">grad 0.2100</text>\n</g>\n<!-- 1563482613168* -->\n<g id=\"node15\" class=\"node\">\n<title>1563482613168*</title>\n<ellipse fill=\"none\" stroke=\"black\" cx=\"265\" cy=\"-128.5\" rx=\"27\" ry=\"18\"/>\n<text text-anchor=\"middle\" x=\"265\" y=\"-124.8\" font-family=\"Times New Roman,serif\" font-size=\"14.00\">*</text>\n</g>\n<!-- 1563482837584&#45;&gt;1563482613168* -->\n<g id=\"edge14\" class=\"edge\">\n<title>1563482837584&#45;&gt;1563482613168*</title>\n<path fill=\"none\" stroke=\"black\" d=\"M173.99,-165.56C183.48,-162.75 193.03,-159.71 202,-156.5 212.1,-152.88 222.83,-148.31 232.49,-143.91\"/>\n<polygon fill=\"black\" stroke=\"black\" points=\"233.88,-147.12 241.46,-139.72 230.92,-140.78 233.88,-147.12\"/>\n</g>\n<!-- 1563482802784 -->\n<g id=\"node2\" class=\"node\">\n<title>1563482802784</title>\n<polygon fill=\"none\" stroke=\"black\" points=\"1077,-54.5 1077,-90.5 1264,-90.5 1264,-54.5 1077,-54.5\"/>\n<text text-anchor=\"middle\" x=\"1088.5\" y=\"-68.8\" font-family=\"Times New Roman,serif\" font-size=\"14.00\">n</text>\n<polyline fill=\"none\" stroke=\"black\" points=\"1100,-54.5 1100,-90.5\"/>\n<text text-anchor=\"middle\" x=\"1140.5\" y=\"-68.8\" font-family=\"Times New Roman,serif\" font-size=\"14.00\">data 1.0000</text>\n<polyline fill=\"none\" stroke=\"black\" points=\"1181,-54.5 1181,-90.5\"/>\n<text text-anchor=\"middle\" x=\"1222.5\" y=\"-68.8\" font-family=\"Times New Roman,serif\" font-size=\"14.00\">grad 0.4200</text>\n</g>\n<!-- 1563482800240tanh -->\n<g id=\"node5\" class=\"node\">\n<title>1563482800240tanh</title>\n<ellipse fill=\"none\" stroke=\"black\" cx=\"1327\" cy=\"-72.5\" rx=\"27\" ry=\"18\"/>\n<text text-anchor=\"middle\" x=\"1327\" y=\"-68.8\" font-family=\"Times New Roman,serif\" font-size=\"14.00\">tanh</text>\n</g>\n<!-- 1563482802784&#45;&gt;1563482800240tanh -->\n<g id=\"edge10\" class=\"edge\">\n<title>1563482802784&#45;&gt;1563482800240tanh</title>\n<path fill=\"none\" stroke=\"black\" d=\"M1263.6,-72.5C1272.26,-72.5 1280.65,-72.5 1288.33,-72.5\"/>\n<polygon fill=\"black\" stroke=\"black\" points=\"1288.23,-76 1298.23,-72.5 1288.23,-69 1288.23,-76\"/>\n</g>\n<!-- 1563482802784+ -->\n<g id=\"node3\" class=\"node\">\n<title>1563482802784+</title>\n<ellipse fill=\"none\" stroke=\"black\" cx=\"1014\" cy=\"-72.5\" rx=\"27\" ry=\"18\"/>\n<text text-anchor=\"middle\" x=\"1014\" y=\"-68.8\" font-family=\"Times New Roman,serif\" font-size=\"14.00\">+</text>\n</g>\n<!-- 1563482802784+&#45;&gt;1563482802784 -->\n<g id=\"edge1\" class=\"edge\">\n<title>1563482802784+&#45;&gt;1563482802784</title>\n<path fill=\"none\" stroke=\"black\" d=\"M1041.21,-72.5C1048.47,-72.5 1056.83,-72.5 1065.71,-72.5\"/>\n<polygon fill=\"black\" stroke=\"black\" points=\"1065.7,-76 1075.7,-72.5 1065.7,-69 1065.7,-76\"/>\n</g>\n<!-- 1563482800240 -->\n<g id=\"node4\" class=\"node\">\n<title>1563482800240</title>\n<polygon fill=\"none\" stroke=\"black\" points=\"1390,-54.5 1390,-90.5 1578,-90.5 1578,-54.5 1390,-54.5\"/>\n<text text-anchor=\"middle\" x=\"1402\" y=\"-68.8\" font-family=\"Times New Roman,serif\" font-size=\"14.00\">o</text>\n<polyline fill=\"none\" stroke=\"black\" points=\"1414,-54.5 1414,-90.5\"/>\n<text text-anchor=\"middle\" x=\"1454.5\" y=\"-68.8\" font-family=\"Times New Roman,serif\" font-size=\"14.00\">data 0.7616</text>\n<polyline fill=\"none\" stroke=\"black\" points=\"1495,-54.5 1495,-90.5\"/>\n<text text-anchor=\"middle\" x=\"1536.5\" y=\"-68.8\" font-family=\"Times New Roman,serif\" font-size=\"14.00\">grad 1.0000</text>\n</g>\n<!-- 1563482800240tanh&#45;&gt;1563482800240 -->\n<g id=\"edge2\" class=\"edge\">\n<title>1563482800240tanh&#45;&gt;1563482800240</title>\n<path fill=\"none\" stroke=\"black\" d=\"M1354.29,-72.5C1361.52,-72.5 1369.82,-72.5 1378.66,-72.5\"/>\n<polygon fill=\"black\" stroke=\"black\" points=\"1378.57,-76 1388.57,-72.5 1378.57,-69 1378.57,-76\"/>\n</g>\n<!-- 1563482838640 -->\n<g id=\"node6\" class=\"node\">\n<title>1563482838640</title>\n<polygon fill=\"none\" stroke=\"black\" points=\"2,-55.5 2,-91.5 200,-91.5 200,-55.5 2,-55.5\"/>\n<text text-anchor=\"middle\" x=\"17\" y=\"-69.8\" font-family=\"Times New Roman,serif\" font-size=\"14.00\">x1</text>\n<polyline fill=\"none\" stroke=\"black\" points=\"32,-55.5 32,-91.5\"/>\n<text text-anchor=\"middle\" x=\"72.5\" y=\"-69.8\" font-family=\"Times New Roman,serif\" font-size=\"14.00\">data 2.0000</text>\n<polyline fill=\"none\" stroke=\"black\" points=\"113,-55.5 113,-91.5\"/>\n<text text-anchor=\"middle\" x=\"156.5\" y=\"-69.8\" font-family=\"Times New Roman,serif\" font-size=\"14.00\">grad &#45;1.2599</text>\n</g>\n<!-- 1563482738496* -->\n<g id=\"node12\" class=\"node\">\n<title>1563482738496*</title>\n<ellipse fill=\"none\" stroke=\"black\" cx=\"265\" cy=\"-73.5\" rx=\"27\" ry=\"18\"/>\n<text text-anchor=\"middle\" x=\"265\" y=\"-69.8\" font-family=\"Times New Roman,serif\" font-size=\"14.00\">*</text>\n</g>\n<!-- 1563482838640&#45;&gt;1563482738496* -->\n<g id=\"edge9\" class=\"edge\">\n<title>1563482838640&#45;&gt;1563482738496*</title>\n<path fill=\"none\" stroke=\"black\" d=\"M199.97,-73.5C209.29,-73.5 218.28,-73.5 226.45,-73.5\"/>\n<polygon fill=\"black\" stroke=\"black\" points=\"226.23,-77 236.23,-73.5 226.23,-70 226.23,-77\"/>\n</g>\n<!-- 1563482838784 -->\n<g id=\"node7\" class=\"node\">\n<title>1563482838784</title>\n<polygon fill=\"none\" stroke=\"black\" points=\"0,-0.5 0,-36.5 202,-36.5 202,-0.5 0,-0.5\"/>\n<text text-anchor=\"middle\" x=\"16.5\" y=\"-14.8\" font-family=\"Times New Roman,serif\" font-size=\"14.00\">w1</text>\n<polyline fill=\"none\" stroke=\"black\" points=\"33,-0.5 33,-36.5\"/>\n<text text-anchor=\"middle\" x=\"76\" y=\"-14.8\" font-family=\"Times New Roman,serif\" font-size=\"14.00\">data &#45;3.0000</text>\n<polyline fill=\"none\" stroke=\"black\" points=\"119,-0.5 119,-36.5\"/>\n<text text-anchor=\"middle\" x=\"160.5\" y=\"-14.8\" font-family=\"Times New Roman,serif\" font-size=\"14.00\">grad 0.8399</text>\n</g>\n<!-- 1563482838784&#45;&gt;1563482738496* -->\n<g id=\"edge12\" class=\"edge\">\n<title>1563482838784&#45;&gt;1563482738496*</title>\n<path fill=\"none\" stroke=\"black\" d=\"M170.98,-36.47C181.45,-39.58 192.06,-42.96 202,-46.5 211.97,-50.05 222.6,-54.44 232.19,-58.65\"/>\n<polygon fill=\"black\" stroke=\"black\" points=\"230.55,-61.75 241.11,-62.64 233.41,-55.36 230.55,-61.75\"/>\n</g>\n<!-- 1563482803504 -->\n<g id=\"node8\" class=\"node\">\n<title>1563482803504</title>\n<polygon fill=\"none\" stroke=\"black\" points=\"676,-82.5 676,-118.5 951,-118.5 951,-82.5 676,-82.5\"/>\n<text text-anchor=\"middle\" x=\"729\" y=\"-96.8\" font-family=\"Times New Roman,serif\" font-size=\"14.00\">x1*w1 + x2*w2</text>\n<polyline fill=\"none\" stroke=\"black\" points=\"782,-82.5 782,-118.5\"/>\n<text text-anchor=\"middle\" x=\"825\" y=\"-96.8\" font-family=\"Times New Roman,serif\" font-size=\"14.00\">data &#45;5.5000</text>\n<polyline fill=\"none\" stroke=\"black\" points=\"868,-82.5 868,-118.5\"/>\n<text text-anchor=\"middle\" x=\"909.5\" y=\"-96.8\" font-family=\"Times New Roman,serif\" font-size=\"14.00\">grad 0.4200</text>\n</g>\n<!-- 1563482803504&#45;&gt;1563482802784+ -->\n<g id=\"edge8\" class=\"edge\">\n<title>1563482803504&#45;&gt;1563482802784+</title>\n<path fill=\"none\" stroke=\"black\" d=\"M941.9,-82.53C954.16,-80.8 965.8,-79.16 975.98,-77.72\"/>\n<polygon fill=\"black\" stroke=\"black\" points=\"976.29,-81.21 985.7,-76.35 975.31,-74.28 976.29,-81.21\"/>\n</g>\n<!-- 1563482803504+ -->\n<g id=\"node9\" class=\"node\">\n<title>1563482803504+</title>\n<ellipse fill=\"none\" stroke=\"black\" cx=\"613\" cy=\"-100.5\" rx=\"27\" ry=\"18\"/>\n<text text-anchor=\"middle\" x=\"613\" y=\"-96.8\" font-family=\"Times New Roman,serif\" font-size=\"14.00\">+</text>\n</g>\n<!-- 1563482803504+&#45;&gt;1563482803504 -->\n<g id=\"edge3\" class=\"edge\">\n<title>1563482803504+&#45;&gt;1563482803504</title>\n<path fill=\"none\" stroke=\"black\" d=\"M640.36,-100.5C647.56,-100.5 655.89,-100.5 664.94,-100.5\"/>\n<polygon fill=\"black\" stroke=\"black\" points=\"664.78,-104 674.78,-100.5 664.78,-97 664.78,-104\"/>\n</g>\n<!-- 1563482837824 -->\n<g id=\"node10\" class=\"node\">\n<title>1563482837824</title>\n<polygon fill=\"none\" stroke=\"black\" points=\"4,-110.5 4,-146.5 198,-146.5 198,-110.5 4,-110.5\"/>\n<text text-anchor=\"middle\" x=\"19\" y=\"-124.8\" font-family=\"Times New Roman,serif\" font-size=\"14.00\">x2</text>\n<polyline fill=\"none\" stroke=\"black\" points=\"34,-110.5 34,-146.5\"/>\n<text text-anchor=\"middle\" x=\"74.5\" y=\"-124.8\" font-family=\"Times New Roman,serif\" font-size=\"14.00\">data 0.5000</text>\n<polyline fill=\"none\" stroke=\"black\" points=\"115,-110.5 115,-146.5\"/>\n<text text-anchor=\"middle\" x=\"156.5\" y=\"-124.8\" font-family=\"Times New Roman,serif\" font-size=\"14.00\">grad 0.4200</text>\n</g>\n<!-- 1563482837824&#45;&gt;1563482613168* -->\n<g id=\"edge13\" class=\"edge\">\n<title>1563482837824&#45;&gt;1563482613168*</title>\n<path fill=\"none\" stroke=\"black\" d=\"M197.64,-128.5C207.72,-128.5 217.49,-128.5 226.29,-128.5\"/>\n<polygon fill=\"black\" stroke=\"black\" points=\"226.11,-132 236.11,-128.5 226.11,-125 226.11,-132\"/>\n</g>\n<!-- 1563482738496 -->\n<g id=\"node11\" class=\"node\">\n<title>1563482738496</title>\n<polygon fill=\"none\" stroke=\"black\" points=\"328,-55.5 328,-91.5 550,-91.5 550,-55.5 328,-55.5\"/>\n<text text-anchor=\"middle\" x=\"354.5\" y=\"-69.8\" font-family=\"Times New Roman,serif\" font-size=\"14.00\">x1*w1</text>\n<polyline fill=\"none\" stroke=\"black\" points=\"381,-55.5 381,-91.5\"/>\n<text text-anchor=\"middle\" x=\"424\" y=\"-69.8\" font-family=\"Times New Roman,serif\" font-size=\"14.00\">data &#45;6.0000</text>\n<polyline fill=\"none\" stroke=\"black\" points=\"467,-55.5 467,-91.5\"/>\n<text text-anchor=\"middle\" x=\"508.5\" y=\"-69.8\" font-family=\"Times New Roman,serif\" font-size=\"14.00\">grad 0.4200</text>\n</g>\n<!-- 1563482738496&#45;&gt;1563482803504+ -->\n<g id=\"edge7\" class=\"edge\">\n<title>1563482738496&#45;&gt;1563482803504+</title>\n<path fill=\"none\" stroke=\"black\" d=\"M549.9,-90.75C558.72,-92.14 567.17,-93.46 574.84,-94.67\"/>\n<polygon fill=\"black\" stroke=\"black\" points=\"574.29,-98.12 584.71,-96.22 575.37,-91.21 574.29,-98.12\"/>\n</g>\n<!-- 1563482738496*&#45;&gt;1563482738496 -->\n<g id=\"edge4\" class=\"edge\">\n<title>1563482738496*&#45;&gt;1563482738496</title>\n<path fill=\"none\" stroke=\"black\" d=\"M292.5,-73.5C299.65,-73.5 307.89,-73.5 316.72,-73.5\"/>\n<polygon fill=\"black\" stroke=\"black\" points=\"316.69,-77 326.68,-73.5 316.68,-70 316.69,-77\"/>\n</g>\n<!-- 1563482737536 -->\n<g id=\"node13\" class=\"node\">\n<title>1563482737536</title>\n<polygon fill=\"none\" stroke=\"black\" points=\"719.5,-27.5 719.5,-63.5 907.5,-63.5 907.5,-27.5 719.5,-27.5\"/>\n<text text-anchor=\"middle\" x=\"731.5\" y=\"-41.8\" font-family=\"Times New Roman,serif\" font-size=\"14.00\">b</text>\n<polyline fill=\"none\" stroke=\"black\" points=\"743.5,-27.5 743.5,-63.5\"/>\n<text text-anchor=\"middle\" x=\"784\" y=\"-41.8\" font-family=\"Times New Roman,serif\" font-size=\"14.00\">data 6.5000</text>\n<polyline fill=\"none\" stroke=\"black\" points=\"824.5,-27.5 824.5,-63.5\"/>\n<text text-anchor=\"middle\" x=\"866\" y=\"-41.8\" font-family=\"Times New Roman,serif\" font-size=\"14.00\">grad 0.4200</text>\n</g>\n<!-- 1563482737536&#45;&gt;1563482802784+ -->\n<g id=\"edge11\" class=\"edge\">\n<title>1563482737536&#45;&gt;1563482802784+</title>\n<path fill=\"none\" stroke=\"black\" d=\"M907.36,-58.13C931.59,-61.43 956.33,-64.79 975.77,-67.44\"/>\n<polygon fill=\"black\" stroke=\"black\" points=\"975.26,-70.9 985.64,-68.78 976.21,-63.96 975.26,-70.9\"/>\n</g>\n<!-- 1563482613168 -->\n<g id=\"node14\" class=\"node\">\n<title>1563482613168</title>\n<polygon fill=\"none\" stroke=\"black\" points=\"330.5,-110.5 330.5,-146.5 547.5,-146.5 547.5,-110.5 330.5,-110.5\"/>\n<text text-anchor=\"middle\" x=\"357\" y=\"-124.8\" font-family=\"Times New Roman,serif\" font-size=\"14.00\">x2*w2</text>\n<polyline fill=\"none\" stroke=\"black\" points=\"383.5,-110.5 383.5,-146.5\"/>\n<text text-anchor=\"middle\" x=\"424\" y=\"-124.8\" font-family=\"Times New Roman,serif\" font-size=\"14.00\">data 0.5000</text>\n<polyline fill=\"none\" stroke=\"black\" points=\"464.5,-110.5 464.5,-146.5\"/>\n<text text-anchor=\"middle\" x=\"506\" y=\"-124.8\" font-family=\"Times New Roman,serif\" font-size=\"14.00\">grad 0.4200</text>\n</g>\n<!-- 1563482613168&#45;&gt;1563482803504+ -->\n<g id=\"edge6\" class=\"edge\">\n<title>1563482613168&#45;&gt;1563482803504+</title>\n<path fill=\"none\" stroke=\"black\" d=\"M547.46,-111.01C557.25,-109.41 566.64,-107.88 575.08,-106.51\"/>\n<polygon fill=\"black\" stroke=\"black\" points=\"575.52,-109.98 584.83,-104.92 574.4,-103.08 575.52,-109.98\"/>\n</g>\n<!-- 1563482613168*&#45;&gt;1563482613168 -->\n<g id=\"edge5\" class=\"edge\">\n<title>1563482613168*&#45;&gt;1563482613168</title>\n<path fill=\"none\" stroke=\"black\" d=\"M292.5,-128.5C300.37,-128.5 309.55,-128.5 319.4,-128.5\"/>\n<polygon fill=\"black\" stroke=\"black\" points=\"319.25,-132 329.25,-128.5 319.25,-125 319.25,-132\"/>\n</g>\n</g>\n</svg>\n",
      "text/plain": [
       "<graphviz.graphs.Digraph at 0x16c06d3ca60>"
      ]
     },
     "execution_count": 31,
     "metadata": {},
     "output_type": "execute_result"
    }
   ],
   "source": [
    "draw_dot(o)"
   ]
  },
  {
   "cell_type": "code",
   "execution_count": 32,
   "metadata": {},
   "outputs": [],
   "source": [
    "#inputs x1,x2\n",
    "x1 = Value(2.0, label='x1')\n",
    "x2 = Value(0.5, label='x2')\n",
    "\n",
    "#weights w1,w2\n",
    "w1 = Value(-3.0, label='w1')\n",
    "w2 = Value(1.0, label='w2')\n",
    "\n",
    "#bias of the neuron\n",
    "b = Value(6.5, label='b')\n",
    "\n",
    "x1w1 = x1*w1; x1w1.label = 'x1*w1'\n",
    "x2w2 = x2*w2; x2w2.label = 'x2*w2'\n",
    "\n",
    "x1w1x2w2 = x1w1 + x2w2; x1w1x2w2.label = 'x1*w1 + x2*w2'\n",
    "\n",
    "n = x1w1x2w2 + b; n.label = 'n'\n",
    "\n",
    "#o = n.tanh(); o.label = 'o'\n",
    "\n",
    "e2x = (2 * n).exp()\n",
    "o = (e2x - 1) / (e2x + 1)"
   ]
  },
  {
   "cell_type": "code",
   "execution_count": 33,
   "metadata": {},
   "outputs": [
    {
     "data": {
      "image/svg+xml": "<?xml version=\"1.0\" encoding=\"UTF-8\" standalone=\"no\"?>\n<!DOCTYPE svg PUBLIC \"-//W3C//DTD SVG 1.1//EN\"\n \"http://www.w3.org/Graphics/SVG/1.1/DTD/svg11.dtd\">\n<!-- Generated by graphviz version 7.1.0 (20230121.1956)\n -->\n<!-- Pages: 1 -->\n<svg width=\"2961pt\" height=\"210pt\"\n viewBox=\"0.00 0.00 2961.00 210.00\" xmlns=\"http://www.w3.org/2000/svg\" xmlns:xlink=\"http://www.w3.org/1999/xlink\">\n<g id=\"graph0\" class=\"graph\" transform=\"scale(1 1) rotate(0) translate(4 206)\">\n<polygon fill=\"white\" stroke=\"none\" points=\"-4,4 -4,-206 2957,-206 2957,4 -4,4\"/>\n<!-- 1563482852896 -->\n<g id=\"node1\" class=\"node\">\n<title>1563482852896</title>\n<polygon fill=\"none\" stroke=\"black\" points=\"2769,-80.5 2769,-116.5 2953,-116.5 2953,-80.5 2769,-80.5\"/>\n<text text-anchor=\"middle\" x=\"2779\" y=\"-94.8\" font-family=\"Times New Roman,serif\" font-size=\"14.00\"> </text>\n<polyline fill=\"none\" stroke=\"black\" points=\"2789,-80.5 2789,-116.5\"/>\n<text text-anchor=\"middle\" x=\"2829.5\" y=\"-94.8\" font-family=\"Times New Roman,serif\" font-size=\"14.00\">data 0.7616</text>\n<polyline fill=\"none\" stroke=\"black\" points=\"2870,-80.5 2870,-116.5\"/>\n<text text-anchor=\"middle\" x=\"2911.5\" y=\"-94.8\" font-family=\"Times New Roman,serif\" font-size=\"14.00\">grad 1.0000</text>\n</g>\n<!-- 1563482852896* -->\n<g id=\"node2\" class=\"node\">\n<title>1563482852896*</title>\n<ellipse fill=\"none\" stroke=\"black\" cx=\"2706\" cy=\"-98.5\" rx=\"27\" ry=\"18\"/>\n<text text-anchor=\"middle\" x=\"2706\" y=\"-94.8\" font-family=\"Times New Roman,serif\" font-size=\"14.00\">*</text>\n</g>\n<!-- 1563482852896*&#45;&gt;1563482852896 -->\n<g id=\"edge1\" class=\"edge\">\n<title>1563482852896*&#45;&gt;1563482852896</title>\n<path fill=\"none\" stroke=\"black\" d=\"M2733.3,-98.5C2740.57,-98.5 2748.92,-98.5 2757.8,-98.5\"/>\n<polygon fill=\"black\" stroke=\"black\" points=\"2757.76,-102 2767.76,-98.5 2757.76,-95 2757.76,-102\"/>\n</g>\n<!-- 1563482882592 -->\n<g id=\"node3\" class=\"node\">\n<title>1563482882592</title>\n<polygon fill=\"none\" stroke=\"black\" points=\"2.5,-165.5 2.5,-201.5 199.5,-201.5 199.5,-165.5 2.5,-165.5\"/>\n<text text-anchor=\"middle\" x=\"19\" y=\"-179.8\" font-family=\"Times New Roman,serif\" font-size=\"14.00\">w2</text>\n<polyline fill=\"none\" stroke=\"black\" points=\"35.5,-165.5 35.5,-201.5\"/>\n<text text-anchor=\"middle\" x=\"76\" y=\"-179.8\" font-family=\"Times New Roman,serif\" font-size=\"14.00\">data 1.0000</text>\n<polyline fill=\"none\" stroke=\"black\" points=\"116.5,-165.5 116.5,-201.5\"/>\n<text text-anchor=\"middle\" x=\"158\" y=\"-179.8\" font-family=\"Times New Roman,serif\" font-size=\"14.00\">grad 0.2100</text>\n</g>\n<!-- 1563482883360* -->\n<g id=\"node15\" class=\"node\">\n<title>1563482883360*</title>\n<ellipse fill=\"none\" stroke=\"black\" cx=\"265\" cy=\"-128.5\" rx=\"27\" ry=\"18\"/>\n<text text-anchor=\"middle\" x=\"265\" y=\"-124.8\" font-family=\"Times New Roman,serif\" font-size=\"14.00\">*</text>\n</g>\n<!-- 1563482882592&#45;&gt;1563482883360* -->\n<g id=\"edge16\" class=\"edge\">\n<title>1563482882592&#45;&gt;1563482883360*</title>\n<path fill=\"none\" stroke=\"black\" d=\"M173.99,-165.56C183.48,-162.75 193.03,-159.71 202,-156.5 212.1,-152.88 222.83,-148.31 232.49,-143.91\"/>\n<polygon fill=\"black\" stroke=\"black\" points=\"233.88,-147.12 241.46,-139.72 230.92,-140.78 233.88,-147.12\"/>\n</g>\n<!-- 1563482882112 -->\n<g id=\"node4\" class=\"node\">\n<title>1563482882112</title>\n<polygon fill=\"none\" stroke=\"black\" points=\"1700.5,-136.5 1700.5,-172.5 1888.5,-172.5 1888.5,-136.5 1700.5,-136.5\"/>\n<text text-anchor=\"middle\" x=\"1710.5\" y=\"-150.8\" font-family=\"Times New Roman,serif\" font-size=\"14.00\"> </text>\n<polyline fill=\"none\" stroke=\"black\" points=\"1720.5,-136.5 1720.5,-172.5\"/>\n<text text-anchor=\"middle\" x=\"1761\" y=\"-150.8\" font-family=\"Times New Roman,serif\" font-size=\"14.00\">data 1.0000</text>\n<polyline fill=\"none\" stroke=\"black\" points=\"1801.5,-136.5 1801.5,-172.5\"/>\n<text text-anchor=\"middle\" x=\"1845\" y=\"-150.8\" font-family=\"Times New Roman,serif\" font-size=\"14.00\">grad &#45;0.0908</text>\n</g>\n<!-- 1563482882688+ -->\n<g id=\"node10\" class=\"node\">\n<title>1563482882688+</title>\n<ellipse fill=\"none\" stroke=\"black\" cx=\"1952\" cy=\"-126.5\" rx=\"27\" ry=\"18\"/>\n<text text-anchor=\"middle\" x=\"1952\" y=\"-122.8\" font-family=\"Times New Roman,serif\" font-size=\"14.00\">+</text>\n</g>\n<!-- 1563482882112&#45;&gt;1563482882688+ -->\n<g id=\"edge23\" class=\"edge\">\n<title>1563482882112&#45;&gt;1563482882688+</title>\n<path fill=\"none\" stroke=\"black\" d=\"M1888.2,-137.81C1897.38,-136.16 1906.27,-134.56 1914.33,-133.1\"/>\n<polygon fill=\"black\" stroke=\"black\" points=\"1914.77,-136.58 1923.99,-131.36 1913.53,-129.69 1914.77,-136.58\"/>\n</g>\n<!-- 1563482882640 -->\n<g id=\"node5\" class=\"node\">\n<title>1563482882640</title>\n<polygon fill=\"none\" stroke=\"black\" points=\"2459,-106.5 2459,-142.5 2643,-142.5 2643,-106.5 2459,-106.5\"/>\n<text text-anchor=\"middle\" x=\"2469\" y=\"-120.8\" font-family=\"Times New Roman,serif\" font-size=\"14.00\"> </text>\n<polyline fill=\"none\" stroke=\"black\" points=\"2479,-106.5 2479,-142.5\"/>\n<text text-anchor=\"middle\" x=\"2519.5\" y=\"-120.8\" font-family=\"Times New Roman,serif\" font-size=\"14.00\">data 0.1192</text>\n<polyline fill=\"none\" stroke=\"black\" points=\"2560,-106.5 2560,-142.5\"/>\n<text text-anchor=\"middle\" x=\"2601.5\" y=\"-120.8\" font-family=\"Times New Roman,serif\" font-size=\"14.00\">grad 6.3891</text>\n</g>\n<!-- 1563482882640&#45;&gt;1563482852896* -->\n<g id=\"edge26\" class=\"edge\">\n<title>1563482882640&#45;&gt;1563482852896*</title>\n<path fill=\"none\" stroke=\"black\" d=\"M2642.77,-109.08C2651.66,-107.56 2660.28,-106.1 2668.13,-104.77\"/>\n<polygon fill=\"black\" stroke=\"black\" points=\"2668.63,-108.23 2677.9,-103.11 2667.45,-101.33 2668.63,-108.23\"/>\n</g>\n<!-- 1563482882640**&#45;1 -->\n<g id=\"node6\" class=\"node\">\n<title>1563482882640**&#45;1</title>\n<ellipse fill=\"none\" stroke=\"black\" cx=\"2331\" cy=\"-126.5\" rx=\"27\" ry=\"18\"/>\n<text text-anchor=\"middle\" x=\"2331\" y=\"-122.8\" font-family=\"Times New Roman,serif\" font-size=\"14.00\">**&#45;1</text>\n</g>\n<!-- 1563482882640**&#45;1&#45;&gt;1563482882640 -->\n<g id=\"edge2\" class=\"edge\">\n<title>1563482882640**&#45;1&#45;&gt;1563482882640</title>\n<path fill=\"none\" stroke=\"black\" d=\"M2358.3,-126.26C2380.88,-126.05 2414.96,-125.74 2448.16,-125.43\"/>\n<polygon fill=\"black\" stroke=\"black\" points=\"2447.88,-128.94 2457.85,-125.35 2447.82,-121.94 2447.88,-128.94\"/>\n</g>\n<!-- 1563482883168 -->\n<g id=\"node7\" class=\"node\">\n<title>1563482883168</title>\n<polygon fill=\"none\" stroke=\"black\" points=\"719.5,-137.5 719.5,-173.5 907.5,-173.5 907.5,-137.5 719.5,-137.5\"/>\n<text text-anchor=\"middle\" x=\"731.5\" y=\"-151.8\" font-family=\"Times New Roman,serif\" font-size=\"14.00\">b</text>\n<polyline fill=\"none\" stroke=\"black\" points=\"743.5,-137.5 743.5,-173.5\"/>\n<text text-anchor=\"middle\" x=\"784\" y=\"-151.8\" font-family=\"Times New Roman,serif\" font-size=\"14.00\">data 6.5000</text>\n<polyline fill=\"none\" stroke=\"black\" points=\"824.5,-137.5 824.5,-173.5\"/>\n<text text-anchor=\"middle\" x=\"866\" y=\"-151.8\" font-family=\"Times New Roman,serif\" font-size=\"14.00\">grad 0.4200</text>\n</g>\n<!-- 1563482883504+ -->\n<g id=\"node21\" class=\"node\">\n<title>1563482883504+</title>\n<ellipse fill=\"none\" stroke=\"black\" cx=\"1014\" cy=\"-127.5\" rx=\"27\" ry=\"18\"/>\n<text text-anchor=\"middle\" x=\"1014\" y=\"-123.8\" font-family=\"Times New Roman,serif\" font-size=\"14.00\">+</text>\n</g>\n<!-- 1563482883168&#45;&gt;1563482883504+ -->\n<g id=\"edge22\" class=\"edge\">\n<title>1563482883168&#45;&gt;1563482883504+</title>\n<path fill=\"none\" stroke=\"black\" d=\"M907.36,-142.4C931.59,-138.98 956.33,-135.49 975.77,-132.75\"/>\n<polygon fill=\"black\" stroke=\"black\" points=\"976.23,-136.22 985.64,-131.36 975.25,-129.29 976.23,-136.22\"/>\n</g>\n<!-- 1563482882160 -->\n<g id=\"node8\" class=\"node\">\n<title>1563482882160</title>\n<polygon fill=\"none\" stroke=\"black\" points=\"2,-55.5 2,-91.5 200,-91.5 200,-55.5 2,-55.5\"/>\n<text text-anchor=\"middle\" x=\"17\" y=\"-69.8\" font-family=\"Times New Roman,serif\" font-size=\"14.00\">x1</text>\n<polyline fill=\"none\" stroke=\"black\" points=\"32,-55.5 32,-91.5\"/>\n<text text-anchor=\"middle\" x=\"72.5\" y=\"-69.8\" font-family=\"Times New Roman,serif\" font-size=\"14.00\">data 2.0000</text>\n<polyline fill=\"none\" stroke=\"black\" points=\"113,-55.5 113,-91.5\"/>\n<text text-anchor=\"middle\" x=\"156.5\" y=\"-69.8\" font-family=\"Times New Roman,serif\" font-size=\"14.00\">grad &#45;1.2599</text>\n</g>\n<!-- 1563482883456* -->\n<g id=\"node17\" class=\"node\">\n<title>1563482883456*</title>\n<ellipse fill=\"none\" stroke=\"black\" cx=\"265\" cy=\"-73.5\" rx=\"27\" ry=\"18\"/>\n<text text-anchor=\"middle\" x=\"265\" y=\"-69.8\" font-family=\"Times New Roman,serif\" font-size=\"14.00\">*</text>\n</g>\n<!-- 1563482882160&#45;&gt;1563482883456* -->\n<g id=\"edge25\" class=\"edge\">\n<title>1563482882160&#45;&gt;1563482883456*</title>\n<path fill=\"none\" stroke=\"black\" d=\"M199.97,-73.5C209.29,-73.5 218.28,-73.5 226.45,-73.5\"/>\n<polygon fill=\"black\" stroke=\"black\" points=\"226.23,-77 236.23,-73.5 226.23,-70 226.23,-77\"/>\n</g>\n<!-- 1563482882688 -->\n<g id=\"node9\" class=\"node\">\n<title>1563482882688</title>\n<polygon fill=\"none\" stroke=\"black\" points=\"2015,-108.5 2015,-144.5 2203,-144.5 2203,-108.5 2015,-108.5\"/>\n<text text-anchor=\"middle\" x=\"2025\" y=\"-122.8\" font-family=\"Times New Roman,serif\" font-size=\"14.00\"> </text>\n<polyline fill=\"none\" stroke=\"black\" points=\"2035,-108.5 2035,-144.5\"/>\n<text text-anchor=\"middle\" x=\"2075.5\" y=\"-122.8\" font-family=\"Times New Roman,serif\" font-size=\"14.00\">data 8.3891</text>\n<polyline fill=\"none\" stroke=\"black\" points=\"2116,-108.5 2116,-144.5\"/>\n<text text-anchor=\"middle\" x=\"2159.5\" y=\"-122.8\" font-family=\"Times New Roman,serif\" font-size=\"14.00\">grad &#45;0.0908</text>\n</g>\n<!-- 1563482882688&#45;&gt;1563482882640**&#45;1 -->\n<g id=\"edge24\" class=\"edge\">\n<title>1563482882688&#45;&gt;1563482882640**&#45;1</title>\n<path fill=\"none\" stroke=\"black\" d=\"M2202.98,-126.5C2234.42,-126.5 2267.77,-126.5 2292.4,-126.5\"/>\n<polygon fill=\"black\" stroke=\"black\" points=\"2292.23,-130 2302.23,-126.5 2292.23,-123 2292.23,-130\"/>\n</g>\n<!-- 1563482882688+&#45;&gt;1563482882688 -->\n<g id=\"edge3\" class=\"edge\">\n<title>1563482882688+&#45;&gt;1563482882688</title>\n<path fill=\"none\" stroke=\"black\" d=\"M1979.29,-126.5C1986.52,-126.5 1994.82,-126.5 2003.66,-126.5\"/>\n<polygon fill=\"black\" stroke=\"black\" points=\"2003.57,-130 2013.57,-126.5 2003.57,-123 2003.57,-130\"/>\n</g>\n<!-- 1563482883744 -->\n<g id=\"node11\" class=\"node\">\n<title>1563482883744</title>\n<polygon fill=\"none\" stroke=\"black\" points=\"1700,-26.5 1700,-62.5 1889,-62.5 1889,-26.5 1700,-26.5\"/>\n<text text-anchor=\"middle\" x=\"1710\" y=\"-40.8\" font-family=\"Times New Roman,serif\" font-size=\"14.00\"> </text>\n<polyline fill=\"none\" stroke=\"black\" points=\"1720,-26.5 1720,-62.5\"/>\n<text text-anchor=\"middle\" x=\"1763\" y=\"-40.8\" font-family=\"Times New Roman,serif\" font-size=\"14.00\">data &#45;1.0000</text>\n<polyline fill=\"none\" stroke=\"black\" points=\"1806,-26.5 1806,-62.5\"/>\n<text text-anchor=\"middle\" x=\"1847.5\" y=\"-40.8\" font-family=\"Times New Roman,serif\" font-size=\"14.00\">grad 0.1192</text>\n</g>\n<!-- 1563482884560+ -->\n<g id=\"node25\" class=\"node\">\n<title>1563482884560+</title>\n<ellipse fill=\"none\" stroke=\"black\" cx=\"1952\" cy=\"-71.5\" rx=\"27\" ry=\"18\"/>\n<text text-anchor=\"middle\" x=\"1952\" y=\"-67.8\" font-family=\"Times New Roman,serif\" font-size=\"14.00\">+</text>\n</g>\n<!-- 1563482883744&#45;&gt;1563482884560+ -->\n<g id=\"edge12\" class=\"edge\">\n<title>1563482883744&#45;&gt;1563482884560+</title>\n<path fill=\"none\" stroke=\"black\" d=\"M1888.65,-60.67C1897.58,-62.22 1906.23,-63.73 1914.11,-65.09\"/>\n<polygon fill=\"black\" stroke=\"black\" points=\"1913.45,-68.53 1923.9,-66.79 1914.64,-61.63 1913.45,-68.53\"/>\n</g>\n<!-- 1563482882496 -->\n<g id=\"node12\" class=\"node\">\n<title>1563482882496</title>\n<polygon fill=\"none\" stroke=\"black\" points=\"4,-110.5 4,-146.5 198,-146.5 198,-110.5 4,-110.5\"/>\n<text text-anchor=\"middle\" x=\"19\" y=\"-124.8\" font-family=\"Times New Roman,serif\" font-size=\"14.00\">x2</text>\n<polyline fill=\"none\" stroke=\"black\" points=\"34,-110.5 34,-146.5\"/>\n<text text-anchor=\"middle\" x=\"74.5\" y=\"-124.8\" font-family=\"Times New Roman,serif\" font-size=\"14.00\">data 0.5000</text>\n<polyline fill=\"none\" stroke=\"black\" points=\"115,-110.5 115,-146.5\"/>\n<text text-anchor=\"middle\" x=\"156.5\" y=\"-124.8\" font-family=\"Times New Roman,serif\" font-size=\"14.00\">grad 0.4200</text>\n</g>\n<!-- 1563482882496&#45;&gt;1563482883360* -->\n<g id=\"edge21\" class=\"edge\">\n<title>1563482882496&#45;&gt;1563482883360*</title>\n<path fill=\"none\" stroke=\"black\" d=\"M197.64,-128.5C207.72,-128.5 217.49,-128.5 226.29,-128.5\"/>\n<polygon fill=\"black\" stroke=\"black\" points=\"226.11,-132 236.11,-128.5 226.11,-125 226.11,-132\"/>\n</g>\n<!-- 1563482882784 -->\n<g id=\"node13\" class=\"node\">\n<title>1563482882784</title>\n<polygon fill=\"none\" stroke=\"black\" points=\"0,-0.5 0,-36.5 202,-36.5 202,-0.5 0,-0.5\"/>\n<text text-anchor=\"middle\" x=\"16.5\" y=\"-14.8\" font-family=\"Times New Roman,serif\" font-size=\"14.00\">w1</text>\n<polyline fill=\"none\" stroke=\"black\" points=\"33,-0.5 33,-36.5\"/>\n<text text-anchor=\"middle\" x=\"76\" y=\"-14.8\" font-family=\"Times New Roman,serif\" font-size=\"14.00\">data &#45;3.0000</text>\n<polyline fill=\"none\" stroke=\"black\" points=\"119,-0.5 119,-36.5\"/>\n<text text-anchor=\"middle\" x=\"160.5\" y=\"-14.8\" font-family=\"Times New Roman,serif\" font-size=\"14.00\">grad 0.8399</text>\n</g>\n<!-- 1563482882784&#45;&gt;1563482883456* -->\n<g id=\"edge19\" class=\"edge\">\n<title>1563482882784&#45;&gt;1563482883456*</title>\n<path fill=\"none\" stroke=\"black\" d=\"M173.99,-36.44C183.48,-39.25 193.03,-42.29 202,-45.5 212.1,-49.12 222.83,-53.69 232.49,-58.09\"/>\n<polygon fill=\"black\" stroke=\"black\" points=\"230.92,-61.22 241.46,-62.28 233.88,-54.88 230.92,-61.22\"/>\n</g>\n<!-- 1563482883360 -->\n<g id=\"node14\" class=\"node\">\n<title>1563482883360</title>\n<polygon fill=\"none\" stroke=\"black\" points=\"330.5,-110.5 330.5,-146.5 547.5,-146.5 547.5,-110.5 330.5,-110.5\"/>\n<text text-anchor=\"middle\" x=\"357\" y=\"-124.8\" font-family=\"Times New Roman,serif\" font-size=\"14.00\">x2*w2</text>\n<polyline fill=\"none\" stroke=\"black\" points=\"383.5,-110.5 383.5,-146.5\"/>\n<text text-anchor=\"middle\" x=\"424\" y=\"-124.8\" font-family=\"Times New Roman,serif\" font-size=\"14.00\">data 0.5000</text>\n<polyline fill=\"none\" stroke=\"black\" points=\"464.5,-110.5 464.5,-146.5\"/>\n<text text-anchor=\"middle\" x=\"506\" y=\"-124.8\" font-family=\"Times New Roman,serif\" font-size=\"14.00\">grad 0.4200</text>\n</g>\n<!-- 1563482883552+ -->\n<g id=\"node27\" class=\"node\">\n<title>1563482883552+</title>\n<ellipse fill=\"none\" stroke=\"black\" cx=\"613\" cy=\"-100.5\" rx=\"27\" ry=\"18\"/>\n<text text-anchor=\"middle\" x=\"613\" y=\"-96.8\" font-family=\"Times New Roman,serif\" font-size=\"14.00\">+</text>\n</g>\n<!-- 1563482883360&#45;&gt;1563482883552+ -->\n<g id=\"edge27\" class=\"edge\">\n<title>1563482883360&#45;&gt;1563482883552+</title>\n<path fill=\"none\" stroke=\"black\" d=\"M547.46,-111.01C557.25,-109.41 566.64,-107.88 575.08,-106.51\"/>\n<polygon fill=\"black\" stroke=\"black\" points=\"575.52,-109.98 584.83,-104.92 574.4,-103.08 575.52,-109.98\"/>\n</g>\n<!-- 1563482883360*&#45;&gt;1563482883360 -->\n<g id=\"edge4\" class=\"edge\">\n<title>1563482883360*&#45;&gt;1563482883360</title>\n<path fill=\"none\" stroke=\"black\" d=\"M292.5,-128.5C300.37,-128.5 309.55,-128.5 319.4,-128.5\"/>\n<polygon fill=\"black\" stroke=\"black\" points=\"319.25,-132 329.25,-128.5 319.25,-125 319.25,-132\"/>\n</g>\n<!-- 1563482883456 -->\n<g id=\"node16\" class=\"node\">\n<title>1563482883456</title>\n<polygon fill=\"none\" stroke=\"black\" points=\"328,-55.5 328,-91.5 550,-91.5 550,-55.5 328,-55.5\"/>\n<text text-anchor=\"middle\" x=\"354.5\" y=\"-69.8\" font-family=\"Times New Roman,serif\" font-size=\"14.00\">x1*w1</text>\n<polyline fill=\"none\" stroke=\"black\" points=\"381,-55.5 381,-91.5\"/>\n<text text-anchor=\"middle\" x=\"424\" y=\"-69.8\" font-family=\"Times New Roman,serif\" font-size=\"14.00\">data &#45;6.0000</text>\n<polyline fill=\"none\" stroke=\"black\" points=\"467,-55.5 467,-91.5\"/>\n<text text-anchor=\"middle\" x=\"508.5\" y=\"-69.8\" font-family=\"Times New Roman,serif\" font-size=\"14.00\">grad 0.4200</text>\n</g>\n<!-- 1563482883456&#45;&gt;1563482883552+ -->\n<g id=\"edge11\" class=\"edge\">\n<title>1563482883456&#45;&gt;1563482883552+</title>\n<path fill=\"none\" stroke=\"black\" d=\"M549.9,-90.75C558.72,-92.14 567.17,-93.46 574.84,-94.67\"/>\n<polygon fill=\"black\" stroke=\"black\" points=\"574.29,-98.12 584.71,-96.22 575.37,-91.21 574.29,-98.12\"/>\n</g>\n<!-- 1563482883456*&#45;&gt;1563482883456 -->\n<g id=\"edge5\" class=\"edge\">\n<title>1563482883456*&#45;&gt;1563482883456</title>\n<path fill=\"none\" stroke=\"black\" d=\"M292.5,-73.5C299.65,-73.5 307.89,-73.5 316.72,-73.5\"/>\n<polygon fill=\"black\" stroke=\"black\" points=\"316.69,-77 326.68,-73.5 316.68,-70 316.69,-77\"/>\n</g>\n<!-- 1563482884512 -->\n<g id=\"node18\" class=\"node\">\n<title>1563482884512</title>\n<polygon fill=\"none\" stroke=\"black\" points=\"1390,-81.5 1390,-117.5 1574,-117.5 1574,-81.5 1390,-81.5\"/>\n<text text-anchor=\"middle\" x=\"1400\" y=\"-95.8\" font-family=\"Times New Roman,serif\" font-size=\"14.00\"> </text>\n<polyline fill=\"none\" stroke=\"black\" points=\"1410,-81.5 1410,-117.5\"/>\n<text text-anchor=\"middle\" x=\"1450.5\" y=\"-95.8\" font-family=\"Times New Roman,serif\" font-size=\"14.00\">data 2.0000</text>\n<polyline fill=\"none\" stroke=\"black\" points=\"1491,-81.5 1491,-117.5\"/>\n<text text-anchor=\"middle\" x=\"1532.5\" y=\"-95.8\" font-family=\"Times New Roman,serif\" font-size=\"14.00\">grad 0.2100</text>\n</g>\n<!-- 1563482884032exp -->\n<g id=\"node23\" class=\"node\">\n<title>1563482884032exp</title>\n<ellipse fill=\"none\" stroke=\"black\" cx=\"1637\" cy=\"-99.5\" rx=\"27\" ry=\"18\"/>\n<text text-anchor=\"middle\" x=\"1637\" y=\"-95.8\" font-family=\"Times New Roman,serif\" font-size=\"14.00\">exp</text>\n</g>\n<!-- 1563482884512&#45;&gt;1563482884032exp -->\n<g id=\"edge20\" class=\"edge\">\n<title>1563482884512&#45;&gt;1563482884032exp</title>\n<path fill=\"none\" stroke=\"black\" d=\"M1573.77,-99.5C1582.38,-99.5 1590.75,-99.5 1598.4,-99.5\"/>\n<polygon fill=\"black\" stroke=\"black\" points=\"1598.27,-103 1608.27,-99.5 1598.27,-96 1598.27,-103\"/>\n</g>\n<!-- 1563482884512* -->\n<g id=\"node19\" class=\"node\">\n<title>1563482884512*</title>\n<ellipse fill=\"none\" stroke=\"black\" cx=\"1327\" cy=\"-99.5\" rx=\"27\" ry=\"18\"/>\n<text text-anchor=\"middle\" x=\"1327\" y=\"-95.8\" font-family=\"Times New Roman,serif\" font-size=\"14.00\">*</text>\n</g>\n<!-- 1563482884512*&#45;&gt;1563482884512 -->\n<g id=\"edge6\" class=\"edge\">\n<title>1563482884512*&#45;&gt;1563482884512</title>\n<path fill=\"none\" stroke=\"black\" d=\"M1354.3,-99.5C1361.57,-99.5 1369.92,-99.5 1378.8,-99.5\"/>\n<polygon fill=\"black\" stroke=\"black\" points=\"1378.76,-103 1388.76,-99.5 1378.76,-96 1378.76,-103\"/>\n</g>\n<!-- 1563482883504 -->\n<g id=\"node20\" class=\"node\">\n<title>1563482883504</title>\n<polygon fill=\"none\" stroke=\"black\" points=\"1077,-109.5 1077,-145.5 1264,-145.5 1264,-109.5 1077,-109.5\"/>\n<text text-anchor=\"middle\" x=\"1088.5\" y=\"-123.8\" font-family=\"Times New Roman,serif\" font-size=\"14.00\">n</text>\n<polyline fill=\"none\" stroke=\"black\" points=\"1100,-109.5 1100,-145.5\"/>\n<text text-anchor=\"middle\" x=\"1140.5\" y=\"-123.8\" font-family=\"Times New Roman,serif\" font-size=\"14.00\">data 1.0000</text>\n<polyline fill=\"none\" stroke=\"black\" points=\"1181,-109.5 1181,-145.5\"/>\n<text text-anchor=\"middle\" x=\"1222.5\" y=\"-123.8\" font-family=\"Times New Roman,serif\" font-size=\"14.00\">grad 0.4200</text>\n</g>\n<!-- 1563482883504&#45;&gt;1563482884512* -->\n<g id=\"edge28\" class=\"edge\">\n<title>1563482883504&#45;&gt;1563482884512*</title>\n<path fill=\"none\" stroke=\"black\" d=\"M1263.6,-110.81C1272.72,-109.16 1281.55,-107.56 1289.56,-106.1\"/>\n<polygon fill=\"black\" stroke=\"black\" points=\"1289.94,-109.59 1299.16,-104.36 1288.7,-102.7 1289.94,-109.59\"/>\n</g>\n<!-- 1563482883504+&#45;&gt;1563482883504 -->\n<g id=\"edge7\" class=\"edge\">\n<title>1563482883504+&#45;&gt;1563482883504</title>\n<path fill=\"none\" stroke=\"black\" d=\"M1041.21,-127.5C1048.47,-127.5 1056.83,-127.5 1065.71,-127.5\"/>\n<polygon fill=\"black\" stroke=\"black\" points=\"1065.7,-131 1075.7,-127.5 1065.7,-124 1065.7,-131\"/>\n</g>\n<!-- 1563482884032 -->\n<g id=\"node22\" class=\"node\">\n<title>1563482884032</title>\n<polygon fill=\"none\" stroke=\"black\" points=\"1702.5,-81.5 1702.5,-117.5 1886.5,-117.5 1886.5,-81.5 1702.5,-81.5\"/>\n<text text-anchor=\"middle\" x=\"1712.5\" y=\"-95.8\" font-family=\"Times New Roman,serif\" font-size=\"14.00\"> </text>\n<polyline fill=\"none\" stroke=\"black\" points=\"1722.5,-81.5 1722.5,-117.5\"/>\n<text text-anchor=\"middle\" x=\"1763\" y=\"-95.8\" font-family=\"Times New Roman,serif\" font-size=\"14.00\">data 7.3891</text>\n<polyline fill=\"none\" stroke=\"black\" points=\"1803.5,-81.5 1803.5,-117.5\"/>\n<text text-anchor=\"middle\" x=\"1845\" y=\"-95.8\" font-family=\"Times New Roman,serif\" font-size=\"14.00\">grad 0.0284</text>\n</g>\n<!-- 1563482884032&#45;&gt;1563482882688+ -->\n<g id=\"edge18\" class=\"edge\">\n<title>1563482884032&#45;&gt;1563482882688+</title>\n<path fill=\"none\" stroke=\"black\" d=\"M1886.4,-115.28C1896.27,-117 1905.85,-118.66 1914.48,-120.16\"/>\n<polygon fill=\"black\" stroke=\"black\" points=\"1913.65,-123.57 1924.1,-121.83 1914.84,-116.67 1913.65,-123.57\"/>\n</g>\n<!-- 1563482884032&#45;&gt;1563482884560+ -->\n<g id=\"edge13\" class=\"edge\">\n<title>1563482884032&#45;&gt;1563482884560+</title>\n<path fill=\"none\" stroke=\"black\" d=\"M1886.4,-83.13C1896.27,-81.35 1905.85,-79.63 1914.48,-78.08\"/>\n<polygon fill=\"black\" stroke=\"black\" points=\"1914.88,-81.56 1924.1,-76.34 1913.64,-74.67 1914.88,-81.56\"/>\n</g>\n<!-- 1563482884032exp&#45;&gt;1563482884032 -->\n<g id=\"edge8\" class=\"edge\">\n<title>1563482884032exp&#45;&gt;1563482884032</title>\n<path fill=\"none\" stroke=\"black\" d=\"M1664.38,-99.5C1672.31,-99.5 1681.53,-99.5 1691.33,-99.5\"/>\n<polygon fill=\"black\" stroke=\"black\" points=\"1691.09,-103 1701.09,-99.5 1691.09,-96 1691.09,-103\"/>\n</g>\n<!-- 1563482884560 -->\n<g id=\"node24\" class=\"node\">\n<title>1563482884560</title>\n<polygon fill=\"none\" stroke=\"black\" points=\"2239,-53.5 2239,-89.5 2423,-89.5 2423,-53.5 2239,-53.5\"/>\n<text text-anchor=\"middle\" x=\"2249\" y=\"-67.8\" font-family=\"Times New Roman,serif\" font-size=\"14.00\"> </text>\n<polyline fill=\"none\" stroke=\"black\" points=\"2259,-53.5 2259,-89.5\"/>\n<text text-anchor=\"middle\" x=\"2299.5\" y=\"-67.8\" font-family=\"Times New Roman,serif\" font-size=\"14.00\">data 6.3891</text>\n<polyline fill=\"none\" stroke=\"black\" points=\"2340,-53.5 2340,-89.5\"/>\n<text text-anchor=\"middle\" x=\"2381.5\" y=\"-67.8\" font-family=\"Times New Roman,serif\" font-size=\"14.00\">grad 0.1192</text>\n</g>\n<!-- 1563482884560&#45;&gt;1563482852896* -->\n<g id=\"edge17\" class=\"edge\">\n<title>1563482884560&#45;&gt;1563482852896*</title>\n<path fill=\"none\" stroke=\"black\" d=\"M2422.77,-78.07C2501.28,-83.75 2610.86,-91.69 2667.61,-95.79\"/>\n<polygon fill=\"black\" stroke=\"black\" points=\"2667.15,-99.27 2677.38,-96.5 2667.66,-92.29 2667.15,-99.27\"/>\n</g>\n<!-- 1563482884560+&#45;&gt;1563482884560 -->\n<g id=\"edge9\" class=\"edge\">\n<title>1563482884560+&#45;&gt;1563482884560</title>\n<path fill=\"none\" stroke=\"black\" d=\"M1979.21,-71.5C2029.82,-71.5 2143.42,-71.5 2227.71,-71.5\"/>\n<polygon fill=\"black\" stroke=\"black\" points=\"2227.63,-75 2237.63,-71.5 2227.63,-68 2227.63,-75\"/>\n</g>\n<!-- 1563482883552 -->\n<g id=\"node26\" class=\"node\">\n<title>1563482883552</title>\n<polygon fill=\"none\" stroke=\"black\" points=\"676,-82.5 676,-118.5 951,-118.5 951,-82.5 676,-82.5\"/>\n<text text-anchor=\"middle\" x=\"729\" y=\"-96.8\" font-family=\"Times New Roman,serif\" font-size=\"14.00\">x1*w1 + x2*w2</text>\n<polyline fill=\"none\" stroke=\"black\" points=\"782,-82.5 782,-118.5\"/>\n<text text-anchor=\"middle\" x=\"825\" y=\"-96.8\" font-family=\"Times New Roman,serif\" font-size=\"14.00\">data &#45;5.5000</text>\n<polyline fill=\"none\" stroke=\"black\" points=\"868,-82.5 868,-118.5\"/>\n<text text-anchor=\"middle\" x=\"909.5\" y=\"-96.8\" font-family=\"Times New Roman,serif\" font-size=\"14.00\">grad 0.4200</text>\n</g>\n<!-- 1563482883552&#45;&gt;1563482883504+ -->\n<g id=\"edge15\" class=\"edge\">\n<title>1563482883552&#45;&gt;1563482883504+</title>\n<path fill=\"none\" stroke=\"black\" d=\"M946.63,-118.47C957.13,-119.9 967.07,-121.25 975.91,-122.46\"/>\n<polygon fill=\"black\" stroke=\"black\" points=\"975.36,-125.91 985.74,-123.79 976.3,-118.98 975.36,-125.91\"/>\n</g>\n<!-- 1563482883552+&#45;&gt;1563482883552 -->\n<g id=\"edge10\" class=\"edge\">\n<title>1563482883552+&#45;&gt;1563482883552</title>\n<path fill=\"none\" stroke=\"black\" d=\"M640.36,-100.5C647.56,-100.5 655.89,-100.5 664.94,-100.5\"/>\n<polygon fill=\"black\" stroke=\"black\" points=\"664.78,-104 674.78,-100.5 664.78,-97 664.78,-104\"/>\n</g>\n<!-- 1563482884080 -->\n<g id=\"node28\" class=\"node\">\n<title>1563482884080</title>\n<polygon fill=\"none\" stroke=\"black\" points=\"1078.5,-54.5 1078.5,-90.5 1262.5,-90.5 1262.5,-54.5 1078.5,-54.5\"/>\n<text text-anchor=\"middle\" x=\"1088.5\" y=\"-68.8\" font-family=\"Times New Roman,serif\" font-size=\"14.00\"> </text>\n<polyline fill=\"none\" stroke=\"black\" points=\"1098.5,-54.5 1098.5,-90.5\"/>\n<text text-anchor=\"middle\" x=\"1139\" y=\"-68.8\" font-family=\"Times New Roman,serif\" font-size=\"14.00\">data 2.0000</text>\n<polyline fill=\"none\" stroke=\"black\" points=\"1179.5,-54.5 1179.5,-90.5\"/>\n<text text-anchor=\"middle\" x=\"1221\" y=\"-68.8\" font-family=\"Times New Roman,serif\" font-size=\"14.00\">grad 0.2100</text>\n</g>\n<!-- 1563482884080&#45;&gt;1563482884512* -->\n<g id=\"edge14\" class=\"edge\">\n<title>1563482884080&#45;&gt;1563482884512*</title>\n<path fill=\"none\" stroke=\"black\" d=\"M1262.27,-88.36C1271.73,-90.02 1280.92,-91.62 1289.23,-93.07\"/>\n<polygon fill=\"black\" stroke=\"black\" points=\"1288.4,-96.48 1298.85,-94.76 1289.6,-89.59 1288.4,-96.48\"/>\n</g>\n</g>\n</svg>\n",
      "text/plain": [
       "<graphviz.graphs.Digraph at 0x16c06d6cee0>"
      ]
     },
     "execution_count": 33,
     "metadata": {},
     "output_type": "execute_result"
    }
   ],
   "source": [
    "o.backward()\n",
    "draw_dot(o)"
   ]
  },
  {
   "cell_type": "code",
   "execution_count": 34,
   "metadata": {},
   "outputs": [],
   "source": [
    "import torch"
   ]
  },
  {
   "cell_type": "code",
   "execution_count": 35,
   "metadata": {},
   "outputs": [
    {
     "name": "stdout",
     "output_type": "stream",
     "text": [
      "0.7615941559557649\n",
      "-----\n",
      "x1 -1.2599230248420783\n",
      "w1 0.8399486832280523\n",
      "x2 0.41997434161402614\n",
      "w2 0.20998717080701307\n",
      "b 0.41997434161402614\n"
     ]
    }
   ],
   "source": [
    "x1 = torch.Tensor([2.0]).double()               ; x1.requires_grad = True\n",
    "x2 = torch.Tensor([0.5]).double()               ; x2.requires_grad = True\n",
    "w1 = torch.Tensor([-3.0]).double()              ; w1.requires_grad = True\n",
    "w2 = torch.Tensor([1.0]).double()               ; w2.requires_grad = True\n",
    "b = torch.Tensor([6.5]).double()                ; b.requires_grad = True\n",
    "\n",
    "n = x1*w1 + x2*w2 + b\n",
    "o = torch.tanh(n)\n",
    "\n",
    "print(o.data.item())\n",
    "o.backward()\n",
    "\n",
    "print('-----')\n",
    "print('x1', x1.grad.item())\n",
    "print('w1', w1.grad.item())\n",
    "print('x2', x2.grad.item())\n",
    "print('w2', w2.grad.item())\n",
    "print('b', b.grad.item())"
   ]
  }
 ],
 "metadata": {
  "kernelspec": {
   "display_name": "Python 3",
   "language": "python",
   "name": "python3"
  },
  "language_info": {
   "codemirror_mode": {
    "name": "ipython",
    "version": 3
   },
   "file_extension": ".py",
   "mimetype": "text/x-python",
   "name": "python",
   "nbconvert_exporter": "python",
   "pygments_lexer": "ipython3",
   "version": "3.9.7"
  },
  "orig_nbformat": 4,
  "vscode": {
   "interpreter": {
    "hash": "841e34709bfaec935b6b6799541aa26f224a36f9ffd804d7cb2874d3d6bafeaa"
   }
  }
 },
 "nbformat": 4,
 "nbformat_minor": 2
}
