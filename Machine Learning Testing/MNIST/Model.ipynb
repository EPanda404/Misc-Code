{
 "cells": [
  {
   "cell_type": "code",
   "execution_count": 3,
   "source": [
    "import numpy\r\n",
    "import matplotlib.pyplot as plt\r\n",
    "import keras\r\n",
    "\r\n",
    "from keras.datasets import mnist\r\n",
    "\r\n",
    "from keras.models import Sequential\r\n",
    "from keras.layers import Dense, Conv2D, MaxPool2D, Flatten, Dropout"
   ],
   "outputs": [],
   "metadata": {}
  },
  {
   "cell_type": "code",
   "execution_count": 4,
   "source": [
    "(x_train, y_train), (x_test, y_test) = mnist.load_data()"
   ],
   "outputs": [],
   "metadata": {}
  },
  {
   "cell_type": "code",
   "execution_count": 5,
   "source": [
    "def plot_input_img(i):\r\n",
    "    plt.imshow(x_train[i], cmap='binary')\r\n",
    "    plt.title(y_train[i])\r\n",
    "    plt.show()"
   ],
   "outputs": [],
   "metadata": {}
  },
  {
   "cell_type": "code",
   "execution_count": 6,
   "source": [
    "x_train = x_train.astype(numpy.float32)/255\r\n",
    "x_test = x_test.astype(numpy.float32)/255\r\n",
    "\r\n",
    "x_train = numpy.expand_dims(x_train, -1)\r\n",
    "x_test = numpy.expand_dims(x_test, -1)\r\n",
    "\r\n",
    "y_train = keras.utils.np_utils.to_categorical(y_train)\r\n",
    "y_test = keras.utils.np_utils.to_categorical(y_test)"
   ],
   "outputs": [],
   "metadata": {}
  },
  {
   "cell_type": "code",
   "execution_count": 7,
   "source": [
    "print(y_train[0])"
   ],
   "outputs": [
    {
     "output_type": "stream",
     "name": "stdout",
     "text": [
      "[0. 0. 0. 0. 0. 1. 0. 0. 0. 0.]\n"
     ]
    }
   ],
   "metadata": {}
  },
  {
   "cell_type": "code",
   "execution_count": 8,
   "source": [
    "model = Sequential()\r\n",
    "\r\n",
    "model.add(Conv2D(32, (3,3), input_shape = (28,28,1), activation = 'relu'))\r\n",
    "model.add(MaxPool2D((2,2)))\r\n",
    "\r\n",
    "model.add(Conv2D(64, (3,3), activation = 'relu'))\r\n",
    "model.add(MaxPool2D((2,2)))\r\n",
    "\r\n",
    "model.add(Flatten())\r\n",
    "\r\n",
    "model.add(Dropout(0.25))\r\n",
    "\r\n",
    "model.add(Dense(10, activation='softmax'))"
   ],
   "outputs": [],
   "metadata": {}
  },
  {
   "cell_type": "code",
   "execution_count": 9,
   "source": [
    "model.compile(optimizer='adam', loss=keras.losses.categorical_crossentropy, metrics=['accuracy'])"
   ],
   "outputs": [],
   "metadata": {}
  },
  {
   "cell_type": "code",
   "execution_count": 10,
   "source": [
    "from keras.callbacks import EarlyStopping, ModelCheckpoint\r\n",
    "\r\n",
    "#es = EarlyStopping(monitor='val_accuracy', min_delta=0.01, patience=4, verbose=1)\r\n",
    "\r\n",
    "mc = ModelCheckpoint(\"./bestmodel.h5\", monitor='val_accuracy', verbose=1, save_best_only=True)\r\n",
    "\r\n",
    "cb = [mc]"
   ],
   "outputs": [],
   "metadata": {}
  },
  {
   "cell_type": "code",
   "execution_count": 11,
   "source": [
    "his = model.fit(x_train, y_train, epochs=50, validation_split=0.3, callbacks=cb)"
   ],
   "outputs": [
    {
     "output_type": "stream",
     "name": "stdout",
     "text": [
      "Epoch 1/50\n",
      "1313/1313 [==============================] - 15s 12ms/step - loss: 0.2102 - accuracy: 0.9353 - val_loss: 0.0763 - val_accuracy: 0.9764\n",
      "\n",
      "Epoch 00001: val_accuracy improved from -inf to 0.97644, saving model to .\\bestmodel.h5\n",
      "Epoch 2/50\n",
      "1313/1313 [==============================] - 15s 11ms/step - loss: 0.0676 - accuracy: 0.9787 - val_loss: 0.0597 - val_accuracy: 0.9822\n",
      "\n",
      "Epoch 00002: val_accuracy improved from 0.97644 to 0.98217, saving model to .\\bestmodel.h5\n",
      "Epoch 3/50\n",
      "1313/1313 [==============================] - 15s 11ms/step - loss: 0.0525 - accuracy: 0.9834 - val_loss: 0.0477 - val_accuracy: 0.9858\n",
      "\n",
      "Epoch 00003: val_accuracy improved from 0.98217 to 0.98578, saving model to .\\bestmodel.h5\n",
      "Epoch 4/50\n",
      "1313/1313 [==============================] - 14s 11ms/step - loss: 0.0423 - accuracy: 0.9868 - val_loss: 0.0418 - val_accuracy: 0.9879\n",
      "\n",
      "Epoch 00004: val_accuracy improved from 0.98578 to 0.98789, saving model to .\\bestmodel.h5\n",
      "Epoch 5/50\n",
      "1313/1313 [==============================] - 14s 11ms/step - loss: 0.0361 - accuracy: 0.9884 - val_loss: 0.0417 - val_accuracy: 0.9868\n",
      "\n",
      "Epoch 00005: val_accuracy did not improve from 0.98789\n",
      "Epoch 6/50\n",
      "1313/1313 [==============================] - 15s 11ms/step - loss: 0.0309 - accuracy: 0.9902 - val_loss: 0.0395 - val_accuracy: 0.9880\n",
      "\n",
      "Epoch 00006: val_accuracy improved from 0.98789 to 0.98800, saving model to .\\bestmodel.h5\n",
      "Epoch 7/50\n",
      "1313/1313 [==============================] - 14s 11ms/step - loss: 0.0262 - accuracy: 0.9911 - val_loss: 0.0458 - val_accuracy: 0.9872\n",
      "\n",
      "Epoch 00007: val_accuracy did not improve from 0.98800\n",
      "Epoch 8/50\n",
      "1313/1313 [==============================] - 15s 12ms/step - loss: 0.0251 - accuracy: 0.9919 - val_loss: 0.0407 - val_accuracy: 0.9877\n",
      "\n",
      "Epoch 00008: val_accuracy did not improve from 0.98800\n",
      "Epoch 9/50\n",
      "1313/1313 [==============================] - 14s 11ms/step - loss: 0.0222 - accuracy: 0.9924 - val_loss: 0.0395 - val_accuracy: 0.9891\n",
      "\n",
      "Epoch 00009: val_accuracy improved from 0.98800 to 0.98911, saving model to .\\bestmodel.h5\n",
      "Epoch 10/50\n",
      "1313/1313 [==============================] - 14s 11ms/step - loss: 0.0196 - accuracy: 0.9933 - val_loss: 0.0413 - val_accuracy: 0.9879\n",
      "\n",
      "Epoch 00010: val_accuracy did not improve from 0.98911\n",
      "Epoch 11/50\n",
      "1313/1313 [==============================] - 14s 11ms/step - loss: 0.0188 - accuracy: 0.9938 - val_loss: 0.0390 - val_accuracy: 0.9897\n",
      "\n",
      "Epoch 00011: val_accuracy improved from 0.98911 to 0.98972, saving model to .\\bestmodel.h5\n",
      "Epoch 12/50\n",
      "1313/1313 [==============================] - 14s 11ms/step - loss: 0.0158 - accuracy: 0.9948 - val_loss: 0.0498 - val_accuracy: 0.9878\n",
      "\n",
      "Epoch 00012: val_accuracy did not improve from 0.98972\n",
      "Epoch 13/50\n",
      "1313/1313 [==============================] - 14s 11ms/step - loss: 0.0153 - accuracy: 0.9947 - val_loss: 0.0419 - val_accuracy: 0.9898\n",
      "\n",
      "Epoch 00013: val_accuracy improved from 0.98972 to 0.98983, saving model to .\\bestmodel.h5\n",
      "Epoch 14/50\n",
      "1313/1313 [==============================] - 14s 11ms/step - loss: 0.0147 - accuracy: 0.9949 - val_loss: 0.0374 - val_accuracy: 0.9894\n",
      "\n",
      "Epoch 00014: val_accuracy did not improve from 0.98983\n",
      "Epoch 15/50\n",
      "1313/1313 [==============================] - 14s 11ms/step - loss: 0.0132 - accuracy: 0.9954 - val_loss: 0.0510 - val_accuracy: 0.9881\n",
      "\n",
      "Epoch 00015: val_accuracy did not improve from 0.98983\n",
      "Epoch 16/50\n",
      " 162/1313 [==>...........................] - ETA: 11s - loss: 0.0099 - accuracy: 0.9969"
     ]
    },
    {
     "output_type": "error",
     "ename": "KeyboardInterrupt",
     "evalue": "",
     "traceback": [
      "\u001b[1;31m---------------------------------------------------------------------------\u001b[0m",
      "\u001b[1;31mKeyboardInterrupt\u001b[0m                         Traceback (most recent call last)",
      "\u001b[1;32mC:\\Users\\ELIZAB~1\\AppData\\Local\\Temp/ipykernel_29140/261709518.py\u001b[0m in \u001b[0;36m<module>\u001b[1;34m\u001b[0m\n\u001b[1;32m----> 1\u001b[1;33m \u001b[0mhis\u001b[0m \u001b[1;33m=\u001b[0m \u001b[0mmodel\u001b[0m\u001b[1;33m.\u001b[0m\u001b[0mfit\u001b[0m\u001b[1;33m(\u001b[0m\u001b[0mx_train\u001b[0m\u001b[1;33m,\u001b[0m \u001b[0my_train\u001b[0m\u001b[1;33m,\u001b[0m \u001b[0mepochs\u001b[0m\u001b[1;33m=\u001b[0m\u001b[1;36m50\u001b[0m\u001b[1;33m,\u001b[0m \u001b[0mvalidation_split\u001b[0m\u001b[1;33m=\u001b[0m\u001b[1;36m0.3\u001b[0m\u001b[1;33m,\u001b[0m \u001b[0mcallbacks\u001b[0m\u001b[1;33m=\u001b[0m\u001b[0mcb\u001b[0m\u001b[1;33m)\u001b[0m\u001b[1;33m\u001b[0m\u001b[1;33m\u001b[0m\u001b[0m\n\u001b[0m",
      "\u001b[1;32m~\\AppData\\Roaming\\Python\\Python39\\site-packages\\keras\\engine\\training.py\u001b[0m in \u001b[0;36mfit\u001b[1;34m(self, x, y, batch_size, epochs, verbose, callbacks, validation_split, validation_data, shuffle, class_weight, sample_weight, initial_epoch, steps_per_epoch, validation_steps, validation_batch_size, validation_freq, max_queue_size, workers, use_multiprocessing)\u001b[0m\n\u001b[0;32m   1182\u001b[0m                 _r=1):\n\u001b[0;32m   1183\u001b[0m               \u001b[0mcallbacks\u001b[0m\u001b[1;33m.\u001b[0m\u001b[0mon_train_batch_begin\u001b[0m\u001b[1;33m(\u001b[0m\u001b[0mstep\u001b[0m\u001b[1;33m)\u001b[0m\u001b[1;33m\u001b[0m\u001b[1;33m\u001b[0m\u001b[0m\n\u001b[1;32m-> 1184\u001b[1;33m               \u001b[0mtmp_logs\u001b[0m \u001b[1;33m=\u001b[0m \u001b[0mself\u001b[0m\u001b[1;33m.\u001b[0m\u001b[0mtrain_function\u001b[0m\u001b[1;33m(\u001b[0m\u001b[0miterator\u001b[0m\u001b[1;33m)\u001b[0m\u001b[1;33m\u001b[0m\u001b[1;33m\u001b[0m\u001b[0m\n\u001b[0m\u001b[0;32m   1185\u001b[0m               \u001b[1;32mif\u001b[0m \u001b[0mdata_handler\u001b[0m\u001b[1;33m.\u001b[0m\u001b[0mshould_sync\u001b[0m\u001b[1;33m:\u001b[0m\u001b[1;33m\u001b[0m\u001b[1;33m\u001b[0m\u001b[0m\n\u001b[0;32m   1186\u001b[0m                 \u001b[0mcontext\u001b[0m\u001b[1;33m.\u001b[0m\u001b[0masync_wait\u001b[0m\u001b[1;33m(\u001b[0m\u001b[1;33m)\u001b[0m\u001b[1;33m\u001b[0m\u001b[1;33m\u001b[0m\u001b[0m\n",
      "\u001b[1;32m~\\AppData\\Local\\Programs\\Python\\Python39\\lib\\site-packages\\tensorflow\\python\\eager\\def_function.py\u001b[0m in \u001b[0;36m__call__\u001b[1;34m(self, *args, **kwds)\u001b[0m\n\u001b[0;32m    883\u001b[0m \u001b[1;33m\u001b[0m\u001b[0m\n\u001b[0;32m    884\u001b[0m       \u001b[1;32mwith\u001b[0m \u001b[0mOptionalXlaContext\u001b[0m\u001b[1;33m(\u001b[0m\u001b[0mself\u001b[0m\u001b[1;33m.\u001b[0m\u001b[0m_jit_compile\u001b[0m\u001b[1;33m)\u001b[0m\u001b[1;33m:\u001b[0m\u001b[1;33m\u001b[0m\u001b[1;33m\u001b[0m\u001b[0m\n\u001b[1;32m--> 885\u001b[1;33m         \u001b[0mresult\u001b[0m \u001b[1;33m=\u001b[0m \u001b[0mself\u001b[0m\u001b[1;33m.\u001b[0m\u001b[0m_call\u001b[0m\u001b[1;33m(\u001b[0m\u001b[1;33m*\u001b[0m\u001b[0margs\u001b[0m\u001b[1;33m,\u001b[0m \u001b[1;33m**\u001b[0m\u001b[0mkwds\u001b[0m\u001b[1;33m)\u001b[0m\u001b[1;33m\u001b[0m\u001b[1;33m\u001b[0m\u001b[0m\n\u001b[0m\u001b[0;32m    886\u001b[0m \u001b[1;33m\u001b[0m\u001b[0m\n\u001b[0;32m    887\u001b[0m       \u001b[0mnew_tracing_count\u001b[0m \u001b[1;33m=\u001b[0m \u001b[0mself\u001b[0m\u001b[1;33m.\u001b[0m\u001b[0mexperimental_get_tracing_count\u001b[0m\u001b[1;33m(\u001b[0m\u001b[1;33m)\u001b[0m\u001b[1;33m\u001b[0m\u001b[1;33m\u001b[0m\u001b[0m\n",
      "\u001b[1;32m~\\AppData\\Local\\Programs\\Python\\Python39\\lib\\site-packages\\tensorflow\\python\\eager\\def_function.py\u001b[0m in \u001b[0;36m_call\u001b[1;34m(self, *args, **kwds)\u001b[0m\n\u001b[0;32m    915\u001b[0m       \u001b[1;31m# In this case we have created variables on the first call, so we run the\u001b[0m\u001b[1;33m\u001b[0m\u001b[1;33m\u001b[0m\u001b[0m\n\u001b[0;32m    916\u001b[0m       \u001b[1;31m# defunned version which is guaranteed to never create variables.\u001b[0m\u001b[1;33m\u001b[0m\u001b[1;33m\u001b[0m\u001b[0m\n\u001b[1;32m--> 917\u001b[1;33m       \u001b[1;32mreturn\u001b[0m \u001b[0mself\u001b[0m\u001b[1;33m.\u001b[0m\u001b[0m_stateless_fn\u001b[0m\u001b[1;33m(\u001b[0m\u001b[1;33m*\u001b[0m\u001b[0margs\u001b[0m\u001b[1;33m,\u001b[0m \u001b[1;33m**\u001b[0m\u001b[0mkwds\u001b[0m\u001b[1;33m)\u001b[0m  \u001b[1;31m# pylint: disable=not-callable\u001b[0m\u001b[1;33m\u001b[0m\u001b[1;33m\u001b[0m\u001b[0m\n\u001b[0m\u001b[0;32m    918\u001b[0m     \u001b[1;32melif\u001b[0m \u001b[0mself\u001b[0m\u001b[1;33m.\u001b[0m\u001b[0m_stateful_fn\u001b[0m \u001b[1;32mis\u001b[0m \u001b[1;32mnot\u001b[0m \u001b[1;32mNone\u001b[0m\u001b[1;33m:\u001b[0m\u001b[1;33m\u001b[0m\u001b[1;33m\u001b[0m\u001b[0m\n\u001b[0;32m    919\u001b[0m       \u001b[1;31m# Release the lock early so that multiple threads can perform the call\u001b[0m\u001b[1;33m\u001b[0m\u001b[1;33m\u001b[0m\u001b[0m\n",
      "\u001b[1;32m~\\AppData\\Local\\Programs\\Python\\Python39\\lib\\site-packages\\tensorflow\\python\\eager\\function.py\u001b[0m in \u001b[0;36m__call__\u001b[1;34m(self, *args, **kwargs)\u001b[0m\n\u001b[0;32m   3037\u001b[0m       (graph_function,\n\u001b[0;32m   3038\u001b[0m        filtered_flat_args) = self._maybe_define_function(args, kwargs)\n\u001b[1;32m-> 3039\u001b[1;33m     return graph_function._call_flat(\n\u001b[0m\u001b[0;32m   3040\u001b[0m         filtered_flat_args, captured_inputs=graph_function.captured_inputs)  # pylint: disable=protected-access\n\u001b[0;32m   3041\u001b[0m \u001b[1;33m\u001b[0m\u001b[0m\n",
      "\u001b[1;32m~\\AppData\\Local\\Programs\\Python\\Python39\\lib\\site-packages\\tensorflow\\python\\eager\\function.py\u001b[0m in \u001b[0;36m_call_flat\u001b[1;34m(self, args, captured_inputs, cancellation_manager)\u001b[0m\n\u001b[0;32m   1961\u001b[0m         and executing_eagerly):\n\u001b[0;32m   1962\u001b[0m       \u001b[1;31m# No tape is watching; skip to running the function.\u001b[0m\u001b[1;33m\u001b[0m\u001b[1;33m\u001b[0m\u001b[0m\n\u001b[1;32m-> 1963\u001b[1;33m       return self._build_call_outputs(self._inference_function.call(\n\u001b[0m\u001b[0;32m   1964\u001b[0m           ctx, args, cancellation_manager=cancellation_manager))\n\u001b[0;32m   1965\u001b[0m     forward_backward = self._select_forward_and_backward_functions(\n",
      "\u001b[1;32m~\\AppData\\Local\\Programs\\Python\\Python39\\lib\\site-packages\\tensorflow\\python\\eager\\function.py\u001b[0m in \u001b[0;36mcall\u001b[1;34m(self, ctx, args, cancellation_manager)\u001b[0m\n\u001b[0;32m    589\u001b[0m       \u001b[1;32mwith\u001b[0m \u001b[0m_InterpolateFunctionError\u001b[0m\u001b[1;33m(\u001b[0m\u001b[0mself\u001b[0m\u001b[1;33m)\u001b[0m\u001b[1;33m:\u001b[0m\u001b[1;33m\u001b[0m\u001b[1;33m\u001b[0m\u001b[0m\n\u001b[0;32m    590\u001b[0m         \u001b[1;32mif\u001b[0m \u001b[0mcancellation_manager\u001b[0m \u001b[1;32mis\u001b[0m \u001b[1;32mNone\u001b[0m\u001b[1;33m:\u001b[0m\u001b[1;33m\u001b[0m\u001b[1;33m\u001b[0m\u001b[0m\n\u001b[1;32m--> 591\u001b[1;33m           outputs = execute.execute(\n\u001b[0m\u001b[0;32m    592\u001b[0m               \u001b[0mstr\u001b[0m\u001b[1;33m(\u001b[0m\u001b[0mself\u001b[0m\u001b[1;33m.\u001b[0m\u001b[0msignature\u001b[0m\u001b[1;33m.\u001b[0m\u001b[0mname\u001b[0m\u001b[1;33m)\u001b[0m\u001b[1;33m,\u001b[0m\u001b[1;33m\u001b[0m\u001b[1;33m\u001b[0m\u001b[0m\n\u001b[0;32m    593\u001b[0m               \u001b[0mnum_outputs\u001b[0m\u001b[1;33m=\u001b[0m\u001b[0mself\u001b[0m\u001b[1;33m.\u001b[0m\u001b[0m_num_outputs\u001b[0m\u001b[1;33m,\u001b[0m\u001b[1;33m\u001b[0m\u001b[1;33m\u001b[0m\u001b[0m\n",
      "\u001b[1;32m~\\AppData\\Local\\Programs\\Python\\Python39\\lib\\site-packages\\tensorflow\\python\\eager\\execute.py\u001b[0m in \u001b[0;36mquick_execute\u001b[1;34m(op_name, num_outputs, inputs, attrs, ctx, name)\u001b[0m\n\u001b[0;32m     57\u001b[0m   \u001b[1;32mtry\u001b[0m\u001b[1;33m:\u001b[0m\u001b[1;33m\u001b[0m\u001b[1;33m\u001b[0m\u001b[0m\n\u001b[0;32m     58\u001b[0m     \u001b[0mctx\u001b[0m\u001b[1;33m.\u001b[0m\u001b[0mensure_initialized\u001b[0m\u001b[1;33m(\u001b[0m\u001b[1;33m)\u001b[0m\u001b[1;33m\u001b[0m\u001b[1;33m\u001b[0m\u001b[0m\n\u001b[1;32m---> 59\u001b[1;33m     tensors = pywrap_tfe.TFE_Py_Execute(ctx._handle, device_name, op_name,\n\u001b[0m\u001b[0;32m     60\u001b[0m                                         inputs, attrs, num_outputs)\n\u001b[0;32m     61\u001b[0m   \u001b[1;32mexcept\u001b[0m \u001b[0mcore\u001b[0m\u001b[1;33m.\u001b[0m\u001b[0m_NotOkStatusException\u001b[0m \u001b[1;32mas\u001b[0m \u001b[0me\u001b[0m\u001b[1;33m:\u001b[0m\u001b[1;33m\u001b[0m\u001b[1;33m\u001b[0m\u001b[0m\n",
      "\u001b[1;31mKeyboardInterrupt\u001b[0m: "
     ]
    }
   ],
   "metadata": {}
  },
  {
   "cell_type": "code",
   "execution_count": 12,
   "source": [
    "model_s = keras.models.load_model('D:/Code/ML-Project1/bestmodel.h5')\r\n",
    "score = model_s.evaluate(x_test, y_test)\r\n",
    "print(score)"
   ],
   "outputs": [
    {
     "output_type": "stream",
     "name": "stdout",
     "text": [
      "313/313 [==============================] - 1s 3ms/step - loss: 0.0312 - accuracy: 0.9920\n",
      "[0.031194008886814117, 0.9919999837875366]\n"
     ]
    }
   ],
   "metadata": {}
  }
 ],
 "metadata": {
  "orig_nbformat": 4,
  "language_info": {
   "name": "python",
   "version": "3.9.7",
   "mimetype": "text/x-python",
   "codemirror_mode": {
    "name": "ipython",
    "version": 3
   },
   "pygments_lexer": "ipython3",
   "nbconvert_exporter": "python",
   "file_extension": ".py"
  },
  "kernelspec": {
   "name": "python3",
   "display_name": "Python 3.9.7 64-bit"
  },
  "interpreter": {
   "hash": "6a994a91143572038b6e919314421225d217d1d7c50454aaa9a1c8777ec0ab75"
  }
 },
 "nbformat": 4,
 "nbformat_minor": 2
}