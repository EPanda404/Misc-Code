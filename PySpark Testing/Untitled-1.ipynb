{
 "cells": [
  {
   "cell_type": "code",
   "execution_count": 30,
   "metadata": {},
   "outputs": [],
   "source": [
    "from audioop import avg\n",
    "import datetime\n",
    "\n",
    "from pyspark import SparkContext\n",
    "from pyspark.conf import SparkConf\n",
    "from pyspark.sql import SparkSession\n",
    "from pyspark.sql.types import *\n",
    "from pyspark.sql import functions as F\n"
   ]
  },
  {
   "cell_type": "code",
   "execution_count": 31,
   "metadata": {},
   "outputs": [],
   "source": [
    "conf = SparkConf()\n",
    "conf.setMaster(\"local\").setAppName(\"My app\")\n",
    "\n",
    "sc = SparkContext.getOrCreate(conf=conf)\n",
    "spark_session = SparkSession(sc)"
   ]
  },
  {
   "cell_type": "code",
   "execution_count": 32,
   "metadata": {},
   "outputs": [],
   "source": [
    "df_1 = spark_session.createDataFrame(\n",
    "    data=[\n",
    "        [datetime.date(2021, 1, 1), 'demo', 1.123, 10],\n",
    "        [datetime.date(2021, 2, 2), 'demo', 5.286, 10]\n",
    "    ],\n",
    "    schema=StructType(\n",
    "        [\n",
    "            StructField('date', DateType(), True),\n",
    "            StructField('type', StringType(), True),\n",
    "            StructField('value', DoubleType(), True),\n",
    "            StructField('count', LongType(), True),\n",
    "        ]\n",
    "    ),\n",
    ")\n",
    "\n",
    "df_2 = spark_session.createDataFrame(\n",
    "    data=[\n",
    "        [datetime.date(2020, 1, 1), 'demo', 4.321, 10],\n",
    "        [datetime.date(2023, 3, 3), 'demo', 6.900, 10]\n",
    "    ],\n",
    "    schema=StructType(\n",
    "        [\n",
    "            StructField('date', DateType(), True),\n",
    "            StructField('type', StringType(), True),\n",
    "            StructField('value', DoubleType(), True),\n",
    "            StructField('count', LongType(), True),\n",
    "        ]\n",
    "    ),\n",
    ")"
   ]
  },
  {
   "cell_type": "code",
   "execution_count": 33,
   "metadata": {},
   "outputs": [
    {
     "name": "stdout",
     "output_type": "stream",
     "text": [
      "+----------+----+-----+-----+\n",
      "|      date|type|value|count|\n",
      "+----------+----+-----+-----+\n",
      "|2021-01-01|demo|1.123|   10|\n",
      "|2021-02-02|demo|5.286|   10|\n",
      "+----------+----+-----+-----+\n",
      "\n",
      "+----------+----+-----+-----+\n",
      "|      date|type|value|count|\n",
      "+----------+----+-----+-----+\n",
      "|2020-01-01|demo|4.321|   10|\n",
      "|2023-03-03|demo|  6.9|   10|\n",
      "+----------+----+-----+-----+\n",
      "\n"
     ]
    }
   ],
   "source": [
    "df_1.show()\n",
    "df_2.show()"
   ]
  },
  {
   "cell_type": "code",
   "execution_count": 34,
   "metadata": {},
   "outputs": [
    {
     "name": "stdout",
     "output_type": "stream",
     "text": [
      "+----------+----+-----+-----+----------+----+-----+-----+\n",
      "|      date|type|value|count|      date|type|value|count|\n",
      "+----------+----+-----+-----+----------+----+-----+-----+\n",
      "|2021-01-01|demo|1.123|   10|2020-01-01|demo|4.321|   10|\n",
      "|2021-01-01|demo|1.123|   10|2023-03-03|demo|  6.9|   10|\n",
      "|2021-02-02|demo|5.286|   10|2020-01-01|demo|4.321|   10|\n",
      "|2021-02-02|demo|5.286|   10|2023-03-03|demo|  6.9|   10|\n",
      "+----------+----+-----+-----+----------+----+-----+-----+\n",
      "\n"
     ]
    }
   ],
   "source": [
    "df_3 = df_1.join(df_2)\n",
    "df_3.show()"
   ]
  },
  {
   "cell_type": "code",
   "execution_count": 35,
   "metadata": {},
   "outputs": [
    {
     "name": "stdout",
     "output_type": "stream",
     "text": [
      "+----------+----+-----+-----+\n",
      "|      date|type|value|count|\n",
      "+----------+----+-----+-----+\n",
      "|2021-01-01|demo|1.123|   10|\n",
      "|2021-02-02|demo|5.286|   10|\n",
      "|2020-01-01|demo|4.321|   10|\n",
      "|2023-03-03|demo|  6.9|   10|\n",
      "+----------+----+-----+-----+\n",
      "\n"
     ]
    }
   ],
   "source": [
    "df_4 = df_1.union(df_2)\n",
    "df_4.show()"
   ]
  },
  {
   "cell_type": "code",
   "execution_count": 37,
   "metadata": {},
   "outputs": [
    {
     "name": "stdout",
     "output_type": "stream",
     "text": [
      "+----+----------+----------+----------+----------+\n",
      "|type|min(value)|max(value)|avg(value)|sum(value)|\n",
      "+----+----------+----------+----------+----------+\n",
      "|demo|     1.123|       6.9|    4.4075|     17.63|\n",
      "+----+----------+----------+----------+----------+\n",
      "\n"
     ]
    }
   ],
   "source": [
    "df_5 = df_4.groupBy(\"type\").agg(F.min(\"value\"),F.max(\"value\"),F.avg(\"value\"),F.sum(\"value\")) # {\"col_c\":\"max\"}, {\"col_c\":\"avg\"}, {\"col_c\":\"sum\"}\n",
    "df_5.show()"
   ]
  },
  {
   "cell_type": "code",
   "execution_count": null,
   "metadata": {},
   "outputs": [
    {
     "name": "stdout",
     "output_type": "stream",
     "text": [
      "+-----+\n",
      "|col_c|\n",
      "+-----+\n",
      "|1.123|\n",
      "|5.286|\n",
      "|4.321|\n",
      "|  6.9|\n",
      "+-----+\n",
      "\n"
     ]
    }
   ],
   "source": [
    "df_6 = df_1.union(df_2) \\\n",
    "        .select(df_1.value)\n",
    "df_6.show()"
   ]
  },
  {
   "cell_type": "code",
   "execution_count": null,
   "metadata": {},
   "outputs": [
    {
     "name": "stdout",
     "output_type": "stream",
     "text": [
      "+----------+-----+\n",
      "|     col_a|col_c|\n",
      "+----------+-----+\n",
      "|2021-01-01|1.123|\n",
      "|2021-02-02|5.286|\n",
      "|2023-03-03|  6.9|\n",
      "+----------+-----+\n",
      "\n"
     ]
    }
   ],
   "source": [
    "df_7 = df_1.union(df_2) \\\n",
    "        .select(df_1.date, df_1.value) \\\n",
    "        .filter(df_1.date > datetime.date(2020, 2, 3))\n",
    "df_7.show()"
   ]
  },
  {
   "cell_type": "code",
   "execution_count": 48,
   "metadata": {},
   "outputs": [
    {
     "name": "stdout",
     "output_type": "stream",
     "text": [
      "+----------+----+-----+-----+\n",
      "|      date|type|value|count|\n",
      "+----------+----+-----+-----+\n",
      "|2021-01-01|demo|1.123|   10|\n",
      "|2021-02-02|demo|5.286|   10|\n",
      "|2020-01-01|demo|4.321|   10|\n",
      "|2023-03-03|demo|  6.9|   10|\n",
      "+----------+----+-----+-----+\n",
      "\n",
      "Hi\n"
     ]
    },
    {
     "name": "stderr",
     "output_type": "stream",
     "text": [
      "----------------------------------------\n",
      "Exception occurred during processing of request from ('127.0.0.1', 51295)\n",
      "Traceback (most recent call last):\n",
      "  File \"c:\\Users\\Elizabeth\\AppData\\Local\\Programs\\Python\\Python39\\lib\\socketserver.py\", line 316, in _handle_request_noblock\n",
      "    self.process_request(request, client_address)\n",
      "  File \"c:\\Users\\Elizabeth\\AppData\\Local\\Programs\\Python\\Python39\\lib\\socketserver.py\", line 347, in process_request\n",
      "    self.finish_request(request, client_address)\n",
      "  File \"c:\\Users\\Elizabeth\\AppData\\Local\\Programs\\Python\\Python39\\lib\\socketserver.py\", line 360, in finish_request\n",
      "    self.RequestHandlerClass(request, client_address, self)\n",
      "  File \"c:\\Users\\Elizabeth\\AppData\\Local\\Programs\\Python\\Python39\\lib\\socketserver.py\", line 747, in __init__\n",
      "    self.handle()\n",
      "  File \"c:\\Users\\Elizabeth\\AppData\\Local\\Programs\\Python\\Python39\\lib\\site-packages\\pyspark\\accumulators.py\", line 281, in handle\n",
      "    poll(accum_updates)\n",
      "  File \"c:\\Users\\Elizabeth\\AppData\\Local\\Programs\\Python\\Python39\\lib\\site-packages\\pyspark\\accumulators.py\", line 253, in poll\n",
      "    if func():\n",
      "  File \"c:\\Users\\Elizabeth\\AppData\\Local\\Programs\\Python\\Python39\\lib\\site-packages\\pyspark\\accumulators.py\", line 257, in accum_updates\n",
      "    num_updates = read_int(self.rfile)\n",
      "  File \"c:\\Users\\Elizabeth\\AppData\\Local\\Programs\\Python\\Python39\\lib\\site-packages\\pyspark\\serializers.py\", line 593, in read_int\n",
      "    length = stream.read(4)\n",
      "  File \"c:\\Users\\Elizabeth\\AppData\\Local\\Programs\\Python\\Python39\\lib\\socket.py\", line 704, in readinto\n",
      "    return self._sock.recv_into(b)\n",
      "ConnectionResetError: [WinError 10054] An existing connection was forcibly closed by the remote host\n",
      "----------------------------------------\n"
     ]
    }
   ],
   "source": [
    "df_4.show()\n",
    "\n",
    "df_4.foreach(lambda f: print(f))\n",
    "\n",
    "print('Hi')\n"
   ]
  }
 ],
 "metadata": {
  "kernelspec": {
   "display_name": "Python 3",
   "language": "python",
   "name": "python3"
  },
  "language_info": {
   "codemirror_mode": {
    "name": "ipython",
    "version": 3
   },
   "file_extension": ".py",
   "mimetype": "text/x-python",
   "name": "python",
   "nbconvert_exporter": "python",
   "pygments_lexer": "ipython3",
   "version": "3.9.7"
  },
  "orig_nbformat": 4,
  "vscode": {
   "interpreter": {
    "hash": "841e34709bfaec935b6b6799541aa26f224a36f9ffd804d7cb2874d3d6bafeaa"
   }
  }
 },
 "nbformat": 4,
 "nbformat_minor": 2
}
